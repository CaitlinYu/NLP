{
 "cells": [
  {
   "cell_type": "markdown",
   "metadata": {},
   "source": [
    "## Lecture-03 Gradient Descent and Dymanic Programming"
   ]
  },
  {
   "cell_type": "markdown",
   "metadata": {},
   "source": [
    "In this week, we need complete following tasks:\n",
    "+ Re-review the course online programming; \n",
    "+ Choose 1 - 2 books which you interested and keep reading; \n",
    "+ Answer the review questions\n",
    "+ Prepare the basic requirement of our 1st project. "
   ]
  },
  {
   "cell_type": "markdown",
   "metadata": {},
   "source": [
    "### Part I Review the online programming. "
   ]
  },
  {
   "cell_type": "markdown",
   "metadata": {},
   "source": [
    "### Part 2: change loss function from $loss = \\frac{1}{n}\\sum{(y_i - \\hat(y_i))^2}$ to $loss = \\frac{1}{n}\\sum{|y_i - \\hat{y_i}|}$, and using your mathmatical knowledge to get the right partial formual. Implemen the gradient descent code."
   ]
  },
  {
   "cell_type": "code",
   "execution_count": 7,
   "metadata": {},
   "outputs": [],
   "source": [
    "from sklearn.datasets import load_boston\n",
    "import random\n",
    "\n",
    "\n",
    "data = load_boston()\n",
    "X, y = data['data'], data['target']\n",
    "X_rm = X[:, 5]"
   ]
  },
  {
   "cell_type": "code",
   "execution_count": 8,
   "metadata": {},
   "outputs": [],
   "source": [
    "def price(rm, k, b):\n",
    "    \"\"\"f(x) = k * x + b\"\"\"\n",
    "    return k * rm + b"
   ]
  },
  {
   "cell_type": "markdown",
   "metadata": {},
   "source": [
    "$$ Loss = \\frac{1}{n} sum(|{y_i - \\hat{y_i}}|)$$\n",
    "When $\\hat{y_i} < y_i$:\n",
    "$$ \\frac{\\partial{loss}}{\\partial{k}} = -\\frac{1}{n}\\sum(x_i)$$\n",
    "$$ \\frac{\\partial{loss}}{\\partial{b}} = -\\frac{1}{n}\\sum(1)$$\n",
    "When $\\hat{y_i} > y_i$:\n",
    "$$ \\frac{\\partial{loss}}{\\partial{k}} = \\frac{1}{n}\\sum(x_i)$$\n",
    "$$ \\frac{\\partial{loss}}{\\partial{b}} = \\frac{1}{n}\\sum(1)$$"
   ]
  },
  {
   "cell_type": "code",
   "execution_count": 9,
   "metadata": {},
   "outputs": [],
   "source": [
    "def loss(y, y_hat):\n",
    "    return sum(abs(y_i - y_hat_i) for y_i, y_hat_i in zip(list(y), list(y_hat))) / len(list(y))"
   ]
  },
  {
   "cell_type": "code",
   "execution_count": 10,
   "metadata": {},
   "outputs": [],
   "source": [
    "def partial_k(x, y, y_hat):\n",
    "    n = len(y)\n",
    "    gradient = 0\n",
    "    for x_i, y_i, y_hat_i in zip(list(x), list(y), list(y_hat)):\n",
    "        if y_hat_i < y_i:\n",
    "            gradient += (-x_i)\n",
    "        else:\n",
    "            gradient += x_i\n",
    "    return 1/n * gradient\n",
    "\n",
    "def partial_b(x, y, y_hat):\n",
    "    n = len(y)\n",
    "    gradient = 0\n",
    "    for y_i, y_hat_i in zip(list(y), list(y_hat)):\n",
    "        if y_hat_i < y_i:\n",
    "            gradient += -1\n",
    "        else:\n",
    "            gradient += 1\n",
    "    return 1/n * gradient"
   ]
  },
  {
   "cell_type": "code",
   "execution_count": 12,
   "metadata": {},
   "outputs": [
    {
     "name": "stdout",
     "output_type": "stream",
     "text": [
      "When time is : 0, get best_k: -1.6795942250310816 best_b: 61.99069783724633, and the loss is: 28.975911172362434\n",
      "When time is : 50, get best_k: -6.450087031355197 best_b: 61.01429467519098, and the loss is: 9.095235459992407\n",
      "When time is : 100, get best_k: -6.415297031355185 best_b: 60.77994684910396, and the loss is: 9.0791934656506\n",
      "When time is : 150, get best_k: -6.377119363370984 best_b: 60.546152382700726, and the loss is: 9.06315989857214\n",
      "When time is : 200, get best_k: -6.338941695386784 best_b: 60.31235791629749, and the loss is: 9.047126331493683\n",
      "When time is : 250, get best_k: -6.300764027402583 best_b: 60.07856344989426, and the loss is: 9.031092764415211\n",
      "When time is : 300, get best_k: -6.262586359418383 best_b: 59.84476898349103, and the loss is: 9.015059197336749\n",
      "When time is : 350, get best_k: -6.224408691434182 best_b: 59.6109745170878, and the loss is: 8.999025630258286\n",
      "When time is : 400, get best_k: -6.186231023449982 best_b: 59.377180050684565, and the loss is: 8.982992063179827\n",
      "When time is : 450, get best_k: -6.148053355465781 best_b: 59.14338558428133, and the loss is: 8.96695849610136\n",
      "When time is : 500, get best_k: -6.109875687481581 best_b: 58.9095911178781, and the loss is: 8.950924929022898\n",
      "When time is : 550, get best_k: -6.07169801949738 best_b: 58.67579665147487, and the loss is: 8.934891361944445\n",
      "When time is : 600, get best_k: -6.03352035151318 best_b: 58.44200218507164, and the loss is: 8.918857794865977\n",
      "When time is : 650, get best_k: -5.995342683528979 best_b: 58.208207718668405, and the loss is: 8.902824227787535\n",
      "When time is : 700, get best_k: -5.957165015544779 best_b: 57.97441325226517, and the loss is: 8.886790660709053\n",
      "When time is : 750, get best_k: -5.918987347560578 best_b: 57.74061878586194, and the loss is: 8.870757093630587\n",
      "When time is : 800, get best_k: -5.880809679576378 best_b: 57.50682431945871, and the loss is: 8.854723526552124\n",
      "When time is : 850, get best_k: -5.842632011592177 best_b: 57.273029853055476, and the loss is: 8.838689959473664\n",
      "When time is : 900, get best_k: -5.8044543436079765 best_b: 57.039235386652244, and the loss is: 8.822656392395201\n",
      "When time is : 950, get best_k: -5.766276675623776 best_b: 56.80544092024901, and the loss is: 8.806622825316737\n",
      "When time is : 1000, get best_k: -5.728113948351039 best_b: 56.57164645384578, and the loss is: 8.790589385057169\n",
      "When time is : 1050, get best_k: -5.690010983924156 best_b: 56.33785198744255, and the loss is: 8.774556452073124\n",
      "When time is : 1100, get best_k: -5.651967782343128 best_b: 56.104057521039316, and the loss is: 8.758524026364626\n",
      "When time is : 1150, get best_k: -5.613984343607954 best_b: 55.870263054636084, and the loss is: 8.742492107931676\n",
      "When time is : 1200, get best_k: -5.576075608430098 best_b: 55.63646858823285, and the loss is: 8.726461876109243\n",
      "When time is : 1250, get best_k: -5.536517861394538 best_b: 55.402950801671516, and the loss is: 8.710471352669801\n",
      "When time is : 1300, get best_k: -5.498728651908384 best_b: 55.16915633526828, and the loss is: 8.694439469014291\n",
      "When time is : 1350, get best_k: -5.462693039260173 best_b: 54.935085189023155, and the loss is: 8.678399617045583\n",
      "When time is : 1400, get best_k: -5.428824936493374 best_b: 54.70212076214561, and the loss is: 8.662564126514742\n",
      "When time is : 1450, get best_k: -5.3973824859004855 best_b: 54.46943301510996, and the loss is: 8.6468165324463\n",
      "When time is : 1500, get best_k: -5.363916675623803 best_b: 54.23702194791621, and the loss is: 8.631067033260116\n",
      "When time is : 1550, get best_k: -5.330394699339215 best_b: 54.00488756056436, and the loss is: 8.615342336203609\n",
      "When time is : 1600, get best_k: -5.2910837507226125 best_b: 53.77413657242199, and the loss is: 8.599688708848781\n",
      "When time is : 1650, get best_k: -5.25177280210601 best_b: 53.54338558427961, and the loss is: 8.584035081493933\n",
      "When time is : 1700, get best_k: -5.212461853489407 best_b: 53.31263459613724, and the loss is: 8.568381454139107\n",
      "When time is : 1750, get best_k: -5.174780825821421 best_b: 53.081606928152965, and the loss is: 8.552727361878501\n",
      "When time is : 1800, get best_k: -5.135469877204819 best_b: 52.85085594001059, and the loss is: 8.53707045464162\n",
      "When time is : 1850, get best_k: -5.096158928588216 best_b: 52.620104951868214, and the loss is: 8.52141354740474\n",
      "When time is : 1900, get best_k: -5.0568479799716135 best_b: 52.38935396372584, and the loss is: 8.505756640167862\n",
      "When time is : 1950, get best_k: -5.017537031355011 best_b: 52.15860297558346, and the loss is: 8.490100888361308\n",
      "When time is : 2000, get best_k: -4.978226082738408 best_b: 51.92785198744109, and the loss is: 8.47444726100648\n",
      "When time is : 2050, get best_k: -4.938915134121806 best_b: 51.69710099929871, and the loss is: 8.45879363365163\n",
      "When time is : 2100, get best_k: -4.900786991829315 best_b: 51.46635001115634, and the loss is: 8.443161024130639\n",
      "When time is : 2150, get best_k: -4.86229058866726 best_b: 51.23587570285586, and the loss is: 8.42756883430371\n",
      "When time is : 2200, get best_k: -4.825660667718643 best_b: 51.00512471471348, and the loss is: 8.41196660588341\n",
      "When time is : 2250, get best_k: -4.789030746770027 best_b: 50.774373726571106, and the loss is: 8.396374971002547\n",
      "When time is : 2300, get best_k: -4.750692051117853 best_b: 50.54389941827063, and the loss is: 8.380776204833703\n",
      "When time is : 2350, get best_k: -4.714227031355008 best_b: 50.31314843012825, and the loss is: 8.365181993989157\n",
      "When time is : 2400, get best_k: -4.678071893015091 best_b: 50.082674121827814, and the loss is: 8.349638901093076\n",
      "When time is : 2450, get best_k: -4.639301023449884 best_b: 49.853306532894976, and the loss is: 8.334170494315906\n",
      "When time is : 2500, get best_k: -4.602704304082308 best_b: 49.62393894396208, and the loss is: 8.318760332636629\n",
      "When time is : 2550, get best_k: -4.564398810011174 best_b: 49.39484803487108, and the loss is: 8.30334973569772\n",
      "When time is : 2600, get best_k: -4.527802090643598 best_b: 49.16548044593819, and the loss is: 8.287930234737619\n",
      "When time is : 2650, get best_k: -4.491205371276021 best_b: 48.93611285700529, and the loss is: 8.272516945303183\n",
      "When time is : 2700, get best_k: -4.452899877204888 best_b: 48.70702194791429, and the loss is: 8.257109476119446\n",
      "When time is : 2750, get best_k: -4.416566280366953 best_b: 48.47765435898142, and the loss is: 8.241690028719852\n",
      "When time is : 2800, get best_k: -4.37830616178989 best_b: 48.248840129732336, and the loss is: 8.226321820731126\n",
      "When time is : 2850, get best_k: -4.338688098548799 best_b: 48.02030258032513, and the loss is: 8.210943309453256\n",
      "When time is : 2900, get best_k: -4.299070035307707 best_b: 47.79176503091792, and the loss is: 8.195578686294168\n",
      "When time is : 2950, get best_k: -4.261073039260292 best_b: 47.56295080166882, and the loss is: 8.18020666017885\n",
      "When time is : 3000, get best_k: -4.221579758627896 best_b: 47.33441325226161, and the loss is: 8.164831765399274\n",
      "When time is : 3050, get best_k: -4.1843325649520215 best_b: 47.105875702854405, and the loss is: 8.14951875924437\n",
      "When time is : 3100, get best_k: -4.147958849537017 best_b: 46.8773381534472, and the loss is: 8.134219917186606\n",
      "When time is : 3150, get best_k: -4.111585134122012 best_b: 46.64880060403999, and the loss is: 8.118921075128842\n",
      "When time is : 3200, get best_k: -4.075211418707007 best_b: 46.420263054632784, and the loss is: 8.10362223307108\n",
      "When time is : 3250, get best_k: -4.040583553094374 best_b: 46.19144882538368, and the loss is: 8.088320356903965\n",
      "When time is : 3300, get best_k: -4.004209837679369 best_b: 45.962911275976474, and the loss is: 8.073017638977182\n",
      "When time is : 3350, get best_k: -3.9678361222643543 best_b: 45.73437372656927, and the loss is: 8.057714921050405\n",
      "When time is : 3400, get best_k: -3.931462406849339 best_b: 45.50583617716206, and the loss is: 8.042412203123616\n",
      "When time is : 3450, get best_k: -3.8950886914343235 best_b: 45.27729862775485, and the loss is: 8.02710948519684\n",
      "When time is : 3500, get best_k: -3.858714976019308 best_b: 45.048761078347646, and the loss is: 8.011807832802337\n",
      "When time is : 3550, get best_k: -3.8223412606042926 best_b: 44.82022352894044, and the loss is: 7.996508990744572\n",
      "When time is : 3600, get best_k: -3.785967545189277 best_b: 44.59168597953323, and the loss is: 7.981210148686801\n",
      "When time is : 3650, get best_k: -3.7465675056635903 best_b: 44.36370178980984, and the loss is: 7.9659532676215585\n",
      "When time is : 3700, get best_k: -3.709560193410628 best_b: 44.135994279928326, and the loss is: 7.950711199452621\n",
      "When time is : 3750, get best_k: -3.6695924068493646 best_b: 43.9088401297306, and the loss is: 7.9355109882959844\n",
      "When time is : 3800, get best_k: -3.629624620288101 best_b: 43.68168597953287, and the loss is: 7.920310777139341\n",
      "When time is : 3850, get best_k: -3.5896568337268375 best_b: 43.454531829335146, and the loss is: 7.905110565982692\n",
      "When time is : 3900, get best_k: -3.549689047165574 best_b: 43.22737767913742, and the loss is: 7.889910354826056\n"
     ]
    },
    {
     "name": "stdout",
     "output_type": "stream",
     "text": [
      "When time is : 3950, get best_k: -3.5114720906438333 best_b: 43.00022352893969, and the loss is: 7.8747580296711135\n",
      "When time is : 4000, get best_k: -3.474130549141854 best_b: 42.773069378741965, and the loss is: 7.8596203844902055\n",
      "When time is : 4050, get best_k: -3.4384828416319695 best_b: 42.54563854870234, and the loss is: 7.844477235557548\n",
      "When time is : 4100, get best_k: -3.40114130012999 best_b: 42.318484398504616, and the loss is: 7.829333856120194\n",
      "When time is : 4150, get best_k: -3.363799758628011 best_b: 42.09133024830689, and the loss is: 7.814190476682842\n",
      "When time is : 4200, get best_k: -3.3265663989442134 best_b: 41.86417609810916, and the loss is: 7.799049350890837\n",
      "When time is : 4250, get best_k: -3.291280311987689 best_b: 41.637021947911435, and the loss is: 7.783952400501378\n",
      "When time is : 4300, get best_k: -3.2562105886675283 best_b: 41.40986779771371, and the loss is: 7.768861307923768\n",
      "When time is : 4350, get best_k: -3.2211408653473677 best_b: 41.18271364751598, and the loss is: 7.753770215346157\n",
      "When time is : 4400, get best_k: -3.186071142027207 best_b: 40.955559497318255, and the loss is: 7.738679122768545\n",
      "When time is : 4450, get best_k: -3.1472214187070517 best_b: 40.730342106013836, and the loss is: 7.723746298029723\n",
      "When time is : 4500, get best_k: -3.106011893015357 best_b: 40.50595475423507, and the loss is: 7.708876650812993\n",
      "When time is : 4550, get best_k: -3.0682641855054817 best_b: 40.28129072261441, and the loss is: 7.694046557641483\n",
      "When time is : 4600, get best_k: -3.030909363371101 best_b: 40.056626690993745, and the loss is: 7.679228471205181\n",
      "When time is : 4650, get best_k: -2.9952483752288153 best_b: 39.83168597953119, and the loss is: 7.664409738233257\n",
      "When time is : 4700, get best_k: -2.9581749364936436 best_b: 39.607021947910546, and the loss is: 7.649591167091345\n",
      "When time is : 4750, get best_k: -2.9199648969679544 best_b: 39.38291127597376, and the loss is: 7.634828086772387\n",
      "When time is : 4800, get best_k: -2.8844964779956284 best_b: 39.161844082297854, and the loss is: 7.620497632368761\n",
      "When time is : 4850, get best_k: -2.8485615768098667 best_b: 38.94188360798947, and the loss is: 7.60630166883965\n",
      "When time is : 4900, get best_k: -2.811483987877065 best_b: 38.722476493364965, and the loss is: 7.592151858785101\n",
      "When time is : 4950, get best_k: -2.775461932541096 best_b: 38.50334605858233, and the loss is: 7.5780682069937875\n",
      "When time is : 5000, get best_k: -2.741452999734768 best_b: 38.28393894395775, and the loss is: 7.563982812378632\n",
      "When time is : 5050, get best_k: -2.7058451341221157 best_b: 38.064808509175066, and the loss is: 7.549900091556268\n",
      "When time is : 5100, get best_k: -2.668680667718947 best_b: 37.845954754234285, and the loss is: 7.535825298757904\n",
      "When time is : 5150, get best_k: -2.634915213173486 best_b: 37.626547639609704, and the loss is: 7.521755686499872\n",
      "When time is : 5200, get best_k: -2.59784149775846 best_b: 37.40769388466898, and the loss is: 7.5076655415332025\n",
      "When time is : 5250, get best_k: -2.562461616335529 best_b: 37.18856344988635, and the loss is: 7.493585911578123\n",
      "When time is : 5300, get best_k: -2.5254673080351284 best_b: 36.96970969494568, and the loss is: 7.479534437724257\n",
      "When time is : 5350, get best_k: -2.491883355465953 best_b: 36.75030258032121, and the loss is: 7.465447580172797\n",
      "When time is : 5400, get best_k: -2.456605568904683 best_b: 36.53117214553865, and the loss is: 7.451381079050771\n",
      "When time is : 5450, get best_k: -2.4213731578374844 best_b: 36.31204171075611, and the loss is: 7.437315960087814\n",
      "When time is : 5500, get best_k: -2.3827871104066496 best_b: 36.09346463565735, and the loss is: 7.423238371625208\n",
      "When time is : 5550, get best_k: -2.349305252699135 best_b: 35.87405752103288, and the loss is: 7.409153295436442\n",
      "When time is : 5600, get best_k: -2.3138592447939934 best_b: 35.65990732340441, and the loss is: 7.395712496624615\n",
      "When time is : 5650, get best_k: -2.275153948351309 best_b: 35.44797056451119, and the loss is: 7.382428637462649\n",
      "When time is : 5700, get best_k: -2.236926477995582 best_b: 35.236033805617986, and the loss is: 7.369176860120812\n",
      "When time is : 5750, get best_k: -2.1986990076398554 best_b: 35.02409704672478, and the loss is: 7.355925082778954\n",
      "When time is : 5800, get best_k: -2.1604715372841286 best_b: 34.81216028783158, and the loss is: 7.342673305437103\n",
      "When time is : 5850, get best_k: -2.12647588511022 best_b: 34.59994684909649, and the loss is: 7.329481104523954\n",
      "When time is : 5900, get best_k: -2.092839363371093 best_b: 34.387733410361385, and the loss is: 7.31629535163453\n",
      "When time is : 5950, get best_k: -2.0574849364936263 best_b: 34.17579665146818, and the loss is: 7.303098607813523\n",
      "When time is : 6000, get best_k: -2.0238484147544993 best_b: 33.96358321273308, and the loss is: 7.289909405592961\n",
      "When time is : 6050, get best_k: -1.9902118930153712 best_b: 33.75136977399797, and the loss is: 7.2767236527035255\n",
      "When time is : 6100, get best_k: -1.956603869299956 best_b: 33.539156335262874, and the loss is: 7.26353841148316\n",
      "When time is : 6150, get best_k: -1.9214774266122077 best_b: 33.32721957636973, and the loss is: 7.250342311683528\n",
      "When time is : 6200, get best_k: -1.8882398772050912 best_b: 33.115006137634644, and the loss is: 7.237163722160962\n",
      "When time is : 6250, get best_k: -1.855207900920504 best_b: 32.90279269889953, and the loss is: 7.223997200459035\n",
      "When time is : 6300, get best_k: -1.8214225254264298 best_b: 32.691132619848176, and the loss is: 7.210895682642235\n",
      "When time is : 6350, get best_k: -1.7849406281932256 best_b: 32.48030258032257, and the loss is: 7.197778526781704\n",
      "When time is : 6400, get best_k: -1.7505944226596295 best_b: 32.26947254079688, and the loss is: 7.184746852917666\n",
      "When time is : 6450, get best_k: -1.7146882961774148 best_b: 32.0591958609551, and the loss is: 7.171744883188812\n",
      "When time is : 6500, get best_k: -1.6787821696952 best_b: 31.848919181113246, and the loss is: 7.158742913459937\n",
      "When time is : 6550, get best_k: -1.6436706677189141 best_b: 31.638642501271352, and the loss is: 7.1457536443205045\n",
      "When time is : 6600, get best_k: -1.6104812606042882 best_b: 31.428089141587567, and the loss is: 7.132774886306956\n",
      "When time is : 6650, get best_k: -1.5772918534896623 best_b: 31.21753578190378, and the loss is: 7.119796989605878\n",
      "When time is : 6700, get best_k: -1.5423790076398585 best_b: 31.00725910206189, and the loss is: 7.106809818973219\n",
      "When time is : 6750, get best_k: -1.5091896005252325 best_b: 30.796705742378105, and the loss is: 7.093831922272139\n",
      "When time is : 6800, get best_k: -1.4760001934106066 best_b: 30.58615238269432, and the loss is: 7.080854025571051\n",
      "When time is : 6850, get best_k: -1.4410873475608028 best_b: 30.37587570285243, and the loss is: 7.067866854938407\n",
      "When time is : 6900, get best_k: -1.4078979404461769 best_b: 30.165322343168643, and the loss is: 7.054888958237322\n",
      "When time is : 6950, get best_k: -1.3734111815528944 best_b: 29.955045663326754, and the loss is: 7.0419084024197565\n",
      "When time is : 7000, get best_k: -1.3381140274026941 best_b: 29.74504566332676, and the loss is: 7.028970905781947\n",
      "When time is : 7050, get best_k: -1.3038516558611886 best_b: 29.535045663326766, and the loss is: 7.016023349666557\n",
      "When time is : 7100, get best_k: -1.2697110234501177 best_b: 29.325045663326772, and the loss is: 7.003092981136914\n",
      "When time is : 7150, get best_k: -1.2339078218690862 best_b: 29.115322343168675, and the loss is: 6.990159530445897\n",
      "When time is : 7200, get best_k: -1.1997671894580153 best_b: 28.90532234316868, and the loss is: 6.977226912199661\n",
      "When time is : 7250, get best_k: -1.1639639878769839 best_b: 28.695599023010583, and the loss is: 6.964295711225243\n",
      "When time is : 7300, get best_k: -1.129823355465913 best_b: 28.48559902301059, and the loss is: 6.951360843262391\n",
      "When time is : 7350, get best_k: -1.095682723054842 best_b: 28.275599023010596, and the loss is: 6.938431269449177\n",
      "When time is : 7400, get best_k: -1.0602627230548385 best_b: 28.065875702852495, and the loss is: 6.925504356932801\n",
      "When time is : 7450, get best_k: -1.0269192052682738 best_b: 27.855875702852497, and the loss is: 6.912593137420223\n",
      "When time is : 7500, get best_k: -0.9961737111971244 best_b: 27.645599023010604, and the loss is: 6.89968341475515\n",
      "When time is : 7550, get best_k: -0.9623147388651078 best_b: 27.436705742378212, and the loss is: 6.886879602673784\n",
      "When time is : 7600, get best_k: -0.9302179404461338 best_b: 27.228089141587677, and the loss is: 6.874213083380874\n",
      "When time is : 7650, get best_k: -0.8928479009204409 best_b: 27.020855940006626, and the loss is: 6.861479580060716\n",
      "When time is : 7700, get best_k: -0.8581176637662895 best_b: 26.813346058583697, and the loss is: 6.848831997129015\n"
     ]
    },
    {
     "name": "stdout",
     "output_type": "stream",
     "text": [
      "When time is : 7750, get best_k: -0.8233874266121382 best_b: 26.605836177160768, and the loss is: 6.8361844141973185\n",
      "When time is : 7800, get best_k: -0.7886571894579868 best_b: 26.39832629573784, and the loss is: 6.823536831265623\n",
      "When time is : 7850, get best_k: -0.7539269523038354 best_b: 26.19081641431491, and the loss is: 6.810889248333929\n",
      "When time is : 7900, get best_k: -0.7191967151496841 best_b: 25.98330653289198, and the loss is: 6.798241665402223\n",
      "When time is : 7950, get best_k: -0.6844664779955327 best_b: 25.77579665146905, and the loss is: 6.785594082470536\n",
      "When time is : 8000, get best_k: -0.6489136716714217 best_b: 25.57105356846508, and the loss is: 6.773268808307684\n",
      "When time is : 8050, get best_k: -0.6151645412366393 best_b: 25.368247244354382, and the loss is: 6.761183124969014\n",
      "When time is : 8100, get best_k: -0.5830644226595645 best_b: 25.16516424040179, and the loss is: 6.74912434965789\n",
      "When time is : 8150, get best_k: -0.5477761222643078 best_b: 24.962634596132997, and the loss is: 6.737028203403615\n",
      "When time is : 8200, get best_k: -0.511607426612134 best_b: 24.76038163170615, and the loss is: 6.725011715052043\n",
      "When time is : 8250, get best_k: -0.47917639894414976 best_b: 24.557575307595524, and the loss is: 6.71291072312849\n",
      "When time is : 8300, get best_k: -0.44553572700739075 best_b: 24.355045663326788, and the loss is: 6.700879021495434\n",
      "When time is : 8350, get best_k: -0.40936564795600705 best_b: 24.153069378741822, and the loss is: 6.688868970800838\n",
      "When time is : 8400, get best_k: -0.376162683529129 best_b: 23.95081641431494, and the loss is: 6.676849537985533\n",
      "When time is : 8450, get best_k: -0.34215679420106504 best_b: 23.74911680957183, and the loss is: 6.664896755446537\n",
      "When time is : 8500, get best_k: -0.3105964779955311 best_b: 23.54741720482873, and the loss is: 6.653012030791656\n",
      "When time is : 8550, get best_k: -0.274200351513318 best_b: 23.34682431945325, and the loss is: 6.641137955615433\n",
      "When time is : 8600, get best_k: -0.24147825665165823 best_b: 23.14567807439399, and the loss is: 6.629256845282575\n",
      "When time is : 8650, get best_k: -0.2111043436081798 best_b: 22.944531829334732, and the loss is: 6.617493842858206\n",
      "When time is : 8700, get best_k: -0.17346371119711315 best_b: 22.746705742378207, and the loss is: 6.6058983403084355\n",
      "When time is : 8750, get best_k: -0.14251624084138273 best_b: 22.54860297557983, and the loss is: 6.594363198677829\n",
      "When time is : 8800, get best_k: -0.11013224874652155 best_b: 22.35077688862335, and the loss is: 6.582903054193852\n",
      "When time is : 8850, get best_k: -0.07795714993229255 best_b: 22.15295080166687, and the loss is: 6.571475528448795\n",
      "When time is : 8900, get best_k: -0.043959284319644645 best_b: 21.95567807439415, and the loss is: 6.55996764876078\n",
      "When time is : 8950, get best_k: -0.008687308035059613 best_b: 21.758958706805227, and the loss is: 6.548574832994831\n",
      "When time is : 9050, get best_k: 0.05307786983055335 best_b: 21.364689932101697, and the loss is: 6.5258132730971345\n",
      "When time is : 9100, get best_k: 0.08515004374359748 best_b: 21.169630643564165, and the loss is: 6.514640085369484\n",
      "When time is : 9150, get best_k: 0.11259115046296526 best_b: 20.978444872813135, and the loss is: 6.503976406350198\n",
      "When time is : 9200, get best_k: 0.14357099236019896 best_b: 20.787812461745904, and the loss is: 6.493319571594078\n",
      "When time is : 9250, get best_k: 0.1727814666685 best_b: 20.596903370836774, and the loss is: 6.482659314706376\n",
      "When time is : 9300, get best_k: 0.20199194097680104 best_b: 20.405994279927643, and the loss is: 6.472008019310869\n",
      "When time is : 9350, get best_k: 0.2329717828740349 best_b: 20.215361868860413, and the loss is: 6.461348289149428\n",
      "When time is : 9400, get best_k: 0.26218225718233595 best_b: 20.024452777951282, and the loss is: 6.45068803226171\n",
      "When time is : 9450, get best_k: 0.2931620990795698 best_b: 19.83382036688405, and the loss is: 6.440037263592458\n",
      "When time is : 9500, get best_k: 0.32237257338787084 best_b: 19.64291127597492, and the loss is: 6.429377006704759\n",
      "When time is : 9550, get best_k: 0.3515830476961719 best_b: 19.45200218506579, and the loss is: 6.418716749817058\n",
      "When time is : 9600, get best_k: 0.38256288959340573 best_b: 19.26136977399856, and the loss is: 6.408065981147804\n",
      "When time is : 9650, get best_k: 0.41177336390170677 best_b: 19.07046068308943, and the loss is: 6.397405724260096\n",
      "When time is : 9700, get best_k: 0.4409838382100078 best_b: 18.8795515921803, and the loss is: 6.386746877500708\n",
      "When time is : 9750, get best_k: 0.47275028089775545 best_b: 18.689195860954964, and the loss is: 6.37610742072934\n",
      "When time is : 9800, get best_k: 0.5040253401862933 best_b: 18.498840129729633, and the loss is: 6.365477730400524\n",
      "When time is : 9850, get best_k: 0.5348530081704822 best_b: 18.308761078346226, and the loss is: 6.354884263389628\n",
      "When time is : 9900, get best_k: 0.5638150239807603 best_b: 18.119512066488493, and the loss is: 6.344415659826325\n",
      "When time is : 9950, get best_k: 0.5908687789214733 best_b: 17.92998637478886, and the loss is: 6.333940208906922\n",
      "When time is : 10000, get best_k: 0.6202112295143601 best_b: 17.741014042773017, and the loss is: 6.3234964054283465\n",
      "When time is : 10050, get best_k: 0.6487203204234521 best_b: 17.552041710757184, and the loss is: 6.313052228090783\n",
      "When time is : 10100, get best_k: 0.6789987789214768 best_b: 17.36334605858325, and the loss is: 6.302624154867872\n",
      "When time is : 10150, get best_k: 0.7075078698305687 best_b: 17.174373726567417, and the loss is: 6.292184378502116\n",
      "When time is : 10200, get best_k: 0.7374745101467747 best_b: 16.985954754235383, and the loss is: 6.281767074767575\n",
      "When time is : 10250, get best_k: 0.7672103994748379 best_b: 16.798642501270958, and the loss is: 6.271511758237368\n",
      "When time is : 10300, get best_k: 0.7985020595538906 best_b: 16.61216028783222, and the loss is: 6.261288789239246\n",
      "When time is : 10350, get best_k: 0.8280998856408485 best_b: 16.425401394551585, and the loss is: 6.251081757604328\n",
      "When time is : 10400, get best_k: 0.8593915457199012 best_b: 16.23891918111285, and the loss is: 6.2408569084781\n",
      "When time is : 10450, get best_k: 0.8906832057989539 best_b: 16.05243696767411, and the loss is: 6.230651707990446\n",
      "When time is : 10500, get best_k: 0.9200707552060697 best_b: 15.865678074393477, and the loss is: 6.220434346011305\n",
      "When time is : 10550, get best_k: 0.9539438382100217 best_b: 15.680579260164222, and the loss is: 6.210322303433058\n",
      "When time is : 10600, get best_k: 0.986252573387886 best_b: 15.495757125776853, and the loss is: 6.200258450920834\n",
      "When time is : 10650, get best_k: 1.015698225561797 best_b: 15.310934991389486, and the loss is: 6.190262186621728\n",
      "When time is : 10700, get best_k: 1.0424849844550748 best_b: 15.125836177160226, and the loss is: 6.18026369853601\n",
      "When time is : 10750, get best_k: 1.0717530081704867 best_b: 14.941290722614774, and the loss is: 6.170283807144937\n",
      "When time is : 10800, get best_k: 1.1003841148898506 best_b: 14.757021947911213, and the loss is: 6.160355768483977\n",
      "When time is : 10850, get best_k: 1.1316259725973565 best_b: 14.573306532891433, and the loss is: 6.1504297292038705\n",
      "When time is : 10900, get best_k: 1.1611739963127676 best_b: 14.389314438029757, and the loss is: 6.140507209462589\n",
      "When time is : 10950, get best_k: 1.1907220200281787 best_b: 14.205322343168081, and the loss is: 6.130589119512348\n",
      "When time is : 11000, get best_k: 1.2219638777356847 best_b: 14.021606928148302, and the loss is: 6.120668412447704\n",
      "When time is : 11050, get best_k: 1.2515119014510958 best_b: 13.837614833286626, and the loss is: 6.110740560490957\n",
      "When time is : 11100, get best_k: 1.281059925166507 best_b: 13.65362273842495, and the loss is: 6.100822470540708\n",
      "When time is : 11150, get best_k: 1.310607948881918 best_b: 13.469630643563274, and the loss is: 6.090904380590467\n",
      "When time is : 11200, get best_k: 1.341849806589424 best_b: 13.285915228543494, and the loss is: 6.080976756359182\n",
      "When time is : 11250, get best_k: 1.371397830304835 best_b: 13.101923133681819, and the loss is: 6.071055821569082\n",
      "When time is : 11300, get best_k: 1.4009458540202462 best_b: 12.917931038820143, and the loss is: 6.061137731618835\n",
      "When time is : 11350, get best_k: 1.4321877117277522 best_b: 12.734215623800363, and the loss is: 6.051215439603012\n",
      "When time is : 11400, get best_k: 1.4617357354431633 best_b: 12.550223528938687, and the loss is: 6.041289172597453\n",
      "When time is : 11450, get best_k: 1.494341071411541 best_b: 12.36733815344462, and the loss is: 6.031482772207458\n",
      "When time is : 11500, get best_k: 1.5230457749688517 best_b: 12.184729457792452, and the loss is: 6.021683996645215\n",
      "When time is : 11550, get best_k: 1.5520642334668715 best_b: 12.00295080166595, and the loss is: 6.011996229439732\n"
     ]
    },
    {
     "name": "stdout",
     "output_type": "stream",
     "text": [
      "When time is : 11600, get best_k: 1.584102375759358 best_b: 11.821725505223235, and the loss is: 6.002316832113188\n",
      "When time is : 11650, get best_k: 1.6145202808976942 best_b: 11.640223528938623, and the loss is: 5.992641799530344\n",
      "When time is : 11700, get best_k: 1.6446343915696273 best_b: 11.458721552654012, and the loss is: 5.982970250977717\n",
      "When time is : 11750, get best_k: 1.6741409133087544 best_b: 11.2772195763694, and the loss is: 5.973306034620357\n",
      "When time is : 11800, get best_k: 1.7018753006605296 best_b: 11.095440920242893, and the loss is: 5.963647196752142\n",
      "When time is : 11850, get best_k: 1.7296096880123049 best_b: 10.913662264116386, and the loss is: 5.953988723018753\n",
      "When time is : 11900, get best_k: 1.7601836405814715 best_b: 10.732436967673687, and the loss is: 5.944351466135217\n",
      "When time is : 11950, get best_k: 1.7877326524391757 best_b: 10.550934991389108, and the loss is: 5.934707418725873\n",
      "When time is : 12000, get best_k: 1.8170371978937183 best_b: 10.369986374788299, and the loss is: 5.925107735126865\n",
      "When time is : 12050, get best_k: 1.846524352043915 best_b: 10.189314438029406, and the loss is: 5.915551311387623\n",
      "When time is : 12100, get best_k: 1.8779692927553784 best_b: 10.00919586095429, and the loss is: 5.9059798073002145\n",
      "When time is : 12150, get best_k: 1.9074337591585433 best_b: 9.829077283879174, and the loss is: 5.896470353488432\n",
      "When time is : 12200, get best_k: 1.936399371806768 best_b: 9.64978874632978, and the loss is: 5.887043697200506\n",
      "When time is : 12250, get best_k: 1.9660896089609177 best_b: 9.472436967673625, and the loss is: 5.877804250433823\n",
      "When time is : 12300, get best_k: 1.9973242729925378 best_b: 9.29563854870127, and the loss is: 5.868609478108142\n",
      "When time is : 12350, get best_k: 2.0262968026368053 best_b: 9.119946849096507, and the loss is: 5.859532589328055\n",
      "When time is : 12400, get best_k: 2.05443929275538 best_b: 8.94425514949174, and the loss is: 5.850494107163432\n",
      "When time is : 12450, get best_k: 2.0807955378146654 best_b: 8.768286770045075, and the loss is: 5.841442096623124\n",
      "When time is : 12500, get best_k: 2.1083835615300757 best_b: 8.592595070440307, and the loss is: 5.832403828136272\n",
      "When time is : 12550, get best_k: 2.1368337196328344 best_b: 8.417180050677437, and the loss is: 5.823383886517283\n",
      "When time is : 12600, get best_k: 2.165283877735593 best_b: 8.241765030914568, and the loss is: 5.8143644161794406\n",
      "When time is : 12650, get best_k: 2.1944434429529784 best_b: 8.066626690993607, and the loss is: 5.805353767421553\n",
      "When time is : 12700, get best_k: 2.2201575140992245 best_b: 7.891488351072663, and the loss is: 5.796401543691427\n",
      "When time is : 12750, get best_k: 2.2467450635063417 best_b: 7.716626690993618, and the loss is: 5.787468020402706\n",
      "When time is : 12800, get best_k: 2.2737977117276897 best_b: 7.542041710756469, and the loss is: 5.7785502332252765\n",
      "When time is : 12850, get best_k: 2.302709925166433 best_b: 7.368286770045011, and the loss is: 5.769682650150916\n",
      "When time is : 12900, get best_k: 2.333247909356164 best_b: 7.19480850917545, and the loss is: 5.760824644104219\n",
      "When time is : 12950, get best_k: 2.3621601227949074 best_b: 7.0210535684639925, and the loss is: 5.7519531491338975\n",
      "When time is : 13000, get best_k: 2.391759332281081 best_b: 6.847575307594429, and the loss is: 5.743123433584031\n",
      "When time is : 13050, get best_k: 2.420452138605198 best_b: 6.6782472443533205, and the loss is: 5.734683019166061\n",
      "When time is : 13100, get best_k: 2.4471387393957205 best_b: 6.509749220637905, and the loss is: 5.726371844645759\n",
      "When time is : 13150, get best_k: 2.4768317433482854 best_b: 6.342911275973867, and the loss is: 5.718157176561886\n",
      "When time is : 13200, get best_k: 2.5049764469055877 best_b: 6.1763500111517295, and the loss is: 5.710004569516081\n",
      "When time is : 13250, get best_k: 2.532429450858153 best_b: 6.010065426171493, and the loss is: 5.701921625723121\n",
      "When time is : 13300, get best_k: 2.5577990556012344 best_b: 5.844334200875049, and the loss is: 5.693855473302432\n",
      "When time is : 13350, get best_k: 2.5857918619253364 best_b: 5.679433015104293, and the loss is: 5.685865950383628\n",
      "When time is : 13400, get best_k: 2.611894114889753 best_b: 5.514255149491641, and the loss is: 5.6778746588392295\n",
      "When time is : 13450, get best_k: 2.637895379711879 best_b: 5.349077283878988, and the loss is: 5.669890800705931\n",
      "When time is : 13500, get best_k: 2.6663958935458685 best_b: 5.185006137633927, and the loss is: 5.661966815190357\n",
      "When time is : 13550, get best_k: 2.6936142729925137 best_b: 5.021765030914553, and the loss is: 5.654145780130822\n",
      "When time is : 13600, get best_k: 2.7190984231901476 best_b: 4.858247244353283, and the loss is: 5.6463166155373345\n",
      "When time is : 13650, get best_k: 2.747950043743513 best_b: 4.6952828174758094, and the loss is: 5.638504000801753\n",
      "When time is : 13700, get best_k: 2.771598976549845 best_b: 4.5314883510726425, and the loss is: 5.630670091197404\n",
      "When time is : 13750, get best_k: 2.7986153797119084 best_b: 4.3682472443532685, and the loss is: 5.622846543984668\n",
      "When time is : 13800, get best_k: 2.824616091174356 best_b: 4.205836177159592, and the loss is: 5.615116693459915\n",
      "When time is : 13850, get best_k: 2.851500794731661 best_b: 4.0445318293335, and the loss is: 5.607484841883087\n",
      "When time is : 13900, get best_k: 2.875229134652609 best_b: 3.882950801665515, and the loss is: 5.599890516294101\n",
      "When time is : 13950, get best_k: 2.90467617022573 best_b: 3.722476493365116, and the loss is: 5.59232162894222\n",
      "When time is : 14000, get best_k: 2.9289871978937163 best_b: 3.561448825380925, and the loss is: 5.584690813813043\n",
      "When time is : 14050, get best_k: 2.954519213703996 best_b: 3.400697837238632, and the loss is: 5.577117577340051\n",
      "When time is : 14100, get best_k: 2.980051229514276 best_b: 3.239946849096339, and the loss is: 5.569544340867046\n",
      "When time is : 14150, get best_k: 3.005583245324556 best_b: 3.0791958609540457, and the loss is: 5.561975910458329\n",
      "When time is : 14200, get best_k: 3.030542257182266 best_b: 2.918444872811753, and the loss is: 5.554443556619914\n",
      "When time is : 14250, get best_k: 3.058802336233649 best_b: 2.759630643562741, and the loss is: 5.5469923562825905\n",
      "When time is : 14300, get best_k: 3.083721229514279 best_b: 2.6008164143137247, and the loss is: 5.5396037125293685\n",
      "When time is : 14350, get best_k: 3.1081891346526156 best_b: 2.442002185064712, and the loss is: 5.532223395082878\n",
      "When time is : 14400, get best_k: 3.134235774968818 best_b: 2.283464635657598, and the loss is: 5.524843460271869\n",
      "When time is : 14450, get best_k: 3.16028241528502 best_b: 2.124927086250484, and the loss is: 5.517474458764271\n",
      "When time is : 14500, get best_k: 3.184615023980669 best_b: 1.9661128570014728, and the loss is: 5.510102967691809\n",
      "When time is : 14550, get best_k: 3.2106616642968713 best_b: 1.8075753075943588, and the loss is: 5.502722814455553\n",
      "When time is : 14600, get best_k: 3.2367083046130736 best_b: 1.6490377581872449, and the loss is: 5.495344422900173\n",
      "When time is : 14650, get best_k: 3.262754944929276 best_b: 1.490500208780131, and the loss is: 5.48797542139257\n",
      "When time is : 14700, get best_k: 3.2870875536249247 best_b: 1.3316859795311196, and the loss is: 5.4806023870644776\n",
      "When time is : 14750, get best_k: 3.3130008342573323 best_b: 1.1731484301240054, and the loss is: 5.473224728392258\n",
      "When time is : 14800, get best_k: 3.3399417038225425 best_b: 1.0151642404006846, and the loss is: 5.4658908475585335\n",
      "When time is : 14850, get best_k: 3.3687103204233235 best_b: 0.8577334103611591, and the loss is: 5.458575255999812\n",
      "When time is : 14900, get best_k: 3.3958982650873457 best_b: 0.7000259004797362, and the loss is: 5.451252221416781\n",
      "When time is : 14950, get best_k: 3.4228598856406958 best_b: 0.5423183905983131, and the loss is: 5.443939274121207\n",
      "When time is : 15000, get best_k: 3.448124075364011 best_b: 0.38461088071688915, and the loss is: 5.436657977492298\n",
      "When time is : 15050, get best_k: 3.474742612913415 best_b: 0.22718005067736255, and the loss is: 5.429365956842936\n",
      "When time is : 15100, get best_k: 3.499493561530013 best_b: 0.06947254079593963, and the loss is: 5.422093282867476\n",
      "When time is : 15150, get best_k: 3.523088818447005 best_b: -0.08795828924358605, and the loss is: 5.414867484710086\n"
     ]
    },
    {
     "name": "stdout",
     "output_type": "stream",
     "text": [
      "When time is : 15200, get best_k: 3.550072296707872 best_b: -0.2437290402317282, and the loss is: 5.407707161300788\n",
      "When time is : 15250, get best_k: 3.575596565482571 best_b: -0.3994997912198716, and the loss is: 5.400594381328283\n",
      "When time is : 15300, get best_k: 3.601410241371895 best_b: -0.5549938623661173, and the loss is: 5.393500954347867\n",
      "When time is : 15350, get best_k: 3.6286889370240667 best_b: -0.7096578939866703, and the loss is: 5.386458322631232\n",
      "When time is : 15400, get best_k: 3.653330320423279 best_b: -0.8643219256072237, and the loss is: 5.379439816946958\n",
      "When time is : 15450, get best_k: 3.677450439000358 best_b: -1.0189859572277773, and the loss is: 5.37243861362181\n",
      "When time is : 15500, get best_k: 3.7032643915695322 best_b: -1.1733733090064304, and the loss is: 5.365435789623395\n",
      "When time is : 15550, get best_k: 3.7268488579726977 best_b: -1.3280373406269808, and the loss is: 5.358446011176848\n",
      "When time is : 15600, get best_k: 3.750183205798787 best_b: -1.4824246924056343, and the loss is: 5.351471075381173\n",
      "When time is : 15650, get best_k: 3.773469411332383 best_b: -1.6359820046585989, and the loss is: 5.344577175692688\n",
      "When time is : 15700, get best_k: 3.797271348091273 best_b: -1.788432597543974, and the loss is: 5.337785214139106\n",
      "When time is : 15750, get best_k: 3.8224577907790214 best_b: -1.9400531509036572, and the loss is: 5.331047980437385\n",
      "When time is : 15800, get best_k: 3.844254905403531 best_b: -2.0919503841052354, and the loss is: 5.324311649055924\n",
      "When time is : 15850, get best_k: 3.8691453006604526 best_b: -2.24052745920405, and the loss is: 5.317831209984355\n",
      "When time is : 15900, get best_k: 3.892966605008281 best_b: -2.3871677754095852, and the loss is: 5.311515551278335\n",
      "When time is : 15950, get best_k: 3.9187534429529443 best_b: -2.531317973038043, and the loss is: 5.305426276325207\n",
      "When time is : 16000, get best_k: 3.9414901623205356 best_b: -2.674638131140814, and the loss is: 5.299391519490736\n",
      "When time is : 16050, get best_k: 3.9655095694351643 best_b: -2.8165748900340994, and the loss is: 5.293472325794626\n",
      "When time is : 16100, get best_k: 3.989434905403548 best_b: -2.957958289243593, and the loss is: 5.287598221762781\n",
      "When time is : 16150, get best_k: 4.013276407379839 best_b: -3.0993416884530864, and the loss is: 5.281725119265468\n",
      "When time is : 16200, get best_k: 4.037117909356132 best_b: -3.2407250876625797, and the loss is: 5.275852016768166\n",
      "When time is : 16250, get best_k: 4.060959411332425 best_b: -3.382108486872073, and the loss is: 5.26997891427086\n",
      "When time is : 16300, get best_k: 4.084800913308719 best_b: -3.5234918860815663, and the loss is: 5.264105811773546\n",
      "When time is : 16350, get best_k: 4.107290004217816 best_b: -3.66487528529106, and the loss is: 5.258248866044823\n",
      "When time is : 16400, get best_k: 4.129271940976716 best_b: -3.8062586845005533, and the loss is: 5.252398284570339\n",
      "When time is : 16450, get best_k: 4.151253877735616 best_b: -3.9476420837100465, and the loss is: 5.246554713442922\n",
      "When time is : 16500, get best_k: 4.1723081069846355 best_b: -4.089025482919538, and the loss is: 5.240710455962438\n",
      "When time is : 16550, get best_k: 4.194317435047886 best_b: -4.229855522445235, and the loss is: 5.234917082700975\n",
      "When time is : 16600, get best_k: 4.219025774968843 best_b: -4.369855522445236, and the loss is: 5.229133422126305\n",
      "When time is : 16650, get best_k: 4.242730597103239 best_b: -4.509855522445243, and the loss is: 5.2233737889094085\n",
      "When time is : 16700, get best_k: 4.264122375759376 best_b: -4.6493021627614475, and the loss is: 5.217687035364698\n",
      "When time is : 16750, get best_k: 4.287909925166504 best_b: -4.787642083710052, and the loss is: 5.212057383583301\n",
      "When time is : 16800, get best_k: 4.311082138605249 best_b: -4.925982004658664, and the loss is: 5.206431996372263\n",
      "When time is : 16850, get best_k: 4.334009767063744 best_b: -5.06376856592349, and the loss is: 5.200870918476783\n",
      "When time is : 16900, get best_k: 4.355784193941218 best_b: -5.201278447346415, and the loss is: 5.1953330459165405\n",
      "When time is : 16950, get best_k: 4.3805824548107815 best_b: -5.33795828924365, and the loss is: 5.189846748663395\n",
      "When time is : 17000, get best_k: 4.401206723585479 best_b: -5.475191490824684, and the loss is: 5.184336325917074\n",
      "When time is : 17050, get best_k: 4.424017869830526 best_b: -5.611871332721911, and the loss is: 5.17884761193327\n",
      "When time is : 17100, get best_k: 4.4457582650874325 best_b: -5.747997814935349, and the loss is: 5.173407994475712\n",
      "When time is : 17150, get best_k: 4.466441743348296 best_b: -5.883570937464987, and the loss is: 5.1680382409031544\n",
      "When time is : 17200, get best_k: 4.486538383664497 best_b: -6.019144059994622, and the loss is: 5.162673383940454\n",
      "When time is : 17250, get best_k: 4.508144589198091 best_b: -6.154163822840464, and the loss is: 5.157329930519143\n",
      "When time is : 17300, get best_k: 4.530242178130894 best_b: -6.288906905844412, and the loss is: 5.151997260595151\n",
      "When time is : 17350, get best_k: 4.551682929119034 best_b: -6.423373309006477, and the loss is: 5.1466938468053565\n",
      "When time is : 17400, get best_k: 4.5739324152850385 best_b: -6.55728635248474, and the loss is: 5.141432777006668\n",
      "When time is : 17450, get best_k: 4.596564272992545 best_b: -6.690922716121096, and the loss is: 5.136188948875467\n",
      "When time is : 17500, get best_k: 4.617414035838394 best_b: -6.824835759599355, and the loss is: 5.130946571515845\n",
      "When time is : 17550, get best_k: 4.640974707775156 best_b: -6.95819544339382, and the loss is: 5.125699850804888\n",
      "When time is : 17600, get best_k: 4.661607000265275 best_b: -7.091831807030178, and the loss is: 5.120530712754607\n",
      "When time is : 17650, get best_k: 4.686009332281075 best_b: -7.222701372247575, and the loss is: 5.1154366010710035\n",
      "When time is : 17700, get best_k: 4.708246367854186 best_b: -7.353017577781168, and the loss is: 5.110443927119136\n",
      "When time is : 17750, get best_k: 4.728547751253382 best_b: -7.483333783314766, and the loss is: 5.105468490662787\n",
      "When time is : 17800, get best_k: 4.748890636628868 best_b: -7.613373309006462, and the loss is: 5.1005224903377275\n",
      "When time is : 17850, get best_k: 4.769570518051793 best_b: -7.743136154856262, and the loss is: 5.0955925986093025\n",
      "When time is : 17900, get best_k: 4.789977316470778 best_b: -7.872622320864164, and the loss is: 5.090679907244373\n",
      "When time is : 17950, get best_k: 4.811697237419409 best_b: -8.00183180703017, and the loss is: 5.085773006132148\n",
      "When time is : 18000, get best_k: 4.83494415441546 best_b: -8.127444455251519, and the loss is: 5.081112677785942\n",
      "When time is : 18050, get best_k: 4.856665182083445 best_b: -8.252227063947174, and the loss is: 5.076527604553277\n",
      "When time is : 18100, get best_k: 4.874723522004395 best_b: -8.377563032326625, and the loss is: 5.0719474937266735\n",
      "When time is : 18150, get best_k: 4.895293284850249 best_b: -8.502345641022286, and the loss is: 5.067370167641667\n",
      "When time is : 18200, get best_k: 4.915853640581485 best_b: -8.626021530350359, and the loss is: 5.06288986126847\n",
      "When time is : 18250, get best_k: 4.9371488579727885 best_b: -8.74886738015273, and the loss is: 5.058447000956712\n",
      "When time is : 18300, get best_k: 4.958305735443147 best_b: -8.8717132299551, and the loss is: 5.054004613898723\n",
      "When time is : 18350, get best_k: 4.980018186036035 best_b: -8.99428239991556, and the loss is: 5.049580968819373\n",
      "When time is : 18400, get best_k: 5.000668186036031 best_b: -9.116574890034125, and the loss is: 5.045189998973709\n",
      "When time is : 18450, get best_k: 5.0196171583680345 best_b: -9.2388673801527, and the loss is: 5.04081095019127\n",
      "When time is : 18500, get best_k: 5.040271585245493 best_b: -9.360883190429377, and the loss is: 5.036439158629219\n",
      "When time is : 18550, get best_k: 5.05899202002809 best_b: -9.483175680547955, and the loss is: 5.03206595127903\n",
      "When time is : 18600, get best_k: 5.080758423190138 best_b: -9.604638131140836, and the loss is: 5.027706663891066\n",
      "When time is : 18650, get best_k: 5.10069652595694 best_b: -9.726100581733718, and the loss is: 5.023381681074751\n",
      "When time is : 18700, get best_k: 5.1206144310952935 best_b: -9.847286352484701, and the loss is: 5.019073047246462\n",
      "When time is : 18750, get best_k: 5.140532336233647 best_b: -9.968472123235685, and the loss is: 5.014764413418175\n",
      "When time is : 18800, get best_k: 5.159711506194127 best_b: -10.089657893986669, and the loss is: 5.010463219354221\n"
     ]
    },
    {
     "name": "stdout",
     "output_type": "stream",
     "text": [
      "When time is : 18850, get best_k: 5.178860794731671 best_b: -10.210566984895754, and the loss is: 5.006178872446369\n",
      "When time is : 18900, get best_k: 5.1982264469055846 best_b: -10.331199395962942, and the loss is: 5.001920015357275\n",
      "When time is : 18950, get best_k: 5.2166536010557865 best_b: -10.451831807030135, and the loss is: 4.997663303835693\n",
      "When time is : 19000, get best_k: 5.235683363901636 best_b: -10.572187538255431, and the loss is: 4.993417564869058\n",
      "When time is : 19050, get best_k: 5.255749016075549 best_b: -10.69226658963884, and the loss is: 4.9891836110726455\n",
      "When time is : 19100, get best_k: 5.274819727538 best_b: -10.812345641022242, and the loss is: 4.984956184996006\n",
      "When time is : 19150, get best_k: 5.293537672202035 best_b: -10.932148012563745, and the loss is: 4.9808043306825995\n",
      "When time is : 19200, get best_k: 5.313998699870022 best_b: -11.051397024421465, and the loss is: 4.9765776499547085\n",
      "When time is : 19250, get best_k: 5.334284589198088 best_b: -11.170369356437268, and the loss is: 4.972420007302474\n",
      "When time is : 19300, get best_k: 5.352818265087419 best_b: -11.289618368294967, and the loss is: 4.968262046861784\n",
      "When time is : 19350, get best_k: 5.3745282255617255 best_b: -11.40776066078508, and the loss is: 4.964137166960293\n",
      "When time is : 19400, get best_k: 5.39430779077911 best_b: -11.524796233907598, and the loss is: 4.960108980027909\n",
      "When time is : 19450, get best_k: 5.413243205798864 best_b: -11.641555127188226, and the loss is: 4.9561173170100625\n",
      "When time is : 19500, get best_k: 5.43149522160913 best_b: -11.758314020468864, and the loss is: 4.9521260506781335\n",
      "When time is : 19550, get best_k: 5.448903363901611 best_b: -11.875072913749511, and the loss is: 4.948151633788664\n",
      "When time is : 19600, get best_k: 5.468274549672348 best_b: -11.991278447346335, and the loss is: 4.944182725313064\n",
      "When time is : 19650, get best_k: 5.487465893545856 best_b: -12.107207301101269, and the loss is: 4.940227186343474\n",
      "When time is : 19700, get best_k: 5.506012573387758 best_b: -12.222306115330529, and the loss is: 4.936345492920288\n",
      "When time is : 19750, get best_k: 5.525043442952991 best_b: -12.336574890034067, and the loss is: 4.932514674786506\n",
      "When time is : 19800, get best_k: 5.542561703822571 best_b: -12.450843664737604, and the loss is: 4.928701150014989\n",
      "When time is : 19850, get best_k: 5.560512968644721 best_b: -12.564835759599246, and the loss is: 4.924891423562853\n",
      "When time is : 19900, get best_k: 5.581065023980694 best_b: -12.67606105604192, and the loss is: 4.921231168388467\n",
      "When time is : 19950, get best_k: 5.599457316470815 best_b: -12.786732992800786, and the loss is: 4.917635010100184\n"
     ]
    }
   ],
   "source": [
    "trying_times = 20000\n",
    "\n",
    "X, y = data['data'], data['target']\n",
    "\n",
    "min_loss = float('inf') \n",
    "\n",
    "current_k = random.random() * 200 - 100\n",
    "current_b = random.random() * 200 - 100\n",
    "\n",
    "learning_rate = 0.07\n",
    "\n",
    "\n",
    "update_time = 0\n",
    "\n",
    "for i in range(trying_times):\n",
    "    \n",
    "    price_by_k_and_b = [price(r, current_k, current_b) for r in X_rm]\n",
    "    \n",
    "    current_loss = loss(y, price_by_k_and_b)\n",
    "\n",
    "    if current_loss < min_loss: # performance became better\n",
    "        min_loss = current_loss\n",
    "        \n",
    "        if i % 50 == 0: \n",
    "            print('When time is : {}, get best_k: {} best_b: {}, and the loss is: {}'.format(i, current_k, current_b, min_loss))\n",
    "\n",
    "    k_gradient = partial_k(X_rm, y, price_by_k_and_b)\n",
    "    \n",
    "    b_gradient = partial_b(X_rm, y, price_by_k_and_b)\n",
    "    \n",
    "    current_k += (-1 * k_gradient) * learning_rate\n",
    "\n",
    "    current_b += (-1 * b_gradient) * learning_rate"
   ]
  },
  {
   "cell_type": "markdown",
   "metadata": {},
   "source": [
    "### Part 3: Finish the Solution Parse Part of Edit-Distance"
   ]
  },
  {
   "cell_type": "code",
   "execution_count": 140,
   "metadata": {},
   "outputs": [],
   "source": [
    "solution = {}"
   ]
  },
  {
   "cell_type": "code",
   "execution_count": 141,
   "metadata": {},
   "outputs": [],
   "source": [
    "def edit_distance(string1, string2):\n",
    "    \n",
    "    if len(string1) == 0: return len(string2)\n",
    "    if len(string2) == 0: return len(string1)\n",
    "    \n",
    "    tail_s1 = string1[-1]\n",
    "    tail_s2 = string2[-1]\n",
    "    \n",
    "    candidates = [\n",
    "        (edit_distance(string1[:-1], string2) + 1, 'DEL {}'.format(tail_s1)),  # string 1 delete tail\n",
    "        (edit_distance(string1, string2[:-1]) + 1, 'ADD {}'.format(tail_s2)),  # string 1 add tail of string2\n",
    "    ]\n",
    "    \n",
    "    if tail_s1 == tail_s2:\n",
    "        both_forward = (edit_distance(string1[:-1], string2[:-1]) + 0, '')\n",
    "    else:\n",
    "        both_forward = (edit_distance(string1[:-1], string2[:-1]) + 1, 'SUB {} => {}'.format(tail_s1, tail_s2))\n",
    "\n",
    "    candidates.append(both_forward)\n",
    "    \n",
    "    min_distance, operation = min(candidates, key=lambda x: x[0])\n",
    "    \n",
    "    solution[(string1, string2)] = operation \n",
    "    \n",
    "    return min_distance"
   ]
  },
  {
   "cell_type": "code",
   "execution_count": 142,
   "metadata": {},
   "outputs": [
    {
     "data": {
      "text/plain": [
       "2"
      ]
     },
     "execution_count": 142,
     "metadata": {},
     "output_type": "execute_result"
    }
   ],
   "source": [
    "edit_distance('ABCDE', 'ABCCEF')"
   ]
  },
  {
   "cell_type": "code",
   "execution_count": 143,
   "metadata": {},
   "outputs": [
    {
     "data": {
      "text/plain": [
       "{('A', 'A'): '',\n",
       " ('A', 'AB'): 'ADD B',\n",
       " ('A', 'ABC'): 'ADD C',\n",
       " ('A', 'ABCC'): 'ADD C',\n",
       " ('A', 'ABCCE'): 'ADD E',\n",
       " ('A', 'ABCCEF'): 'ADD F',\n",
       " ('AB', 'A'): 'DEL B',\n",
       " ('AB', 'AB'): '',\n",
       " ('AB', 'ABC'): 'ADD C',\n",
       " ('AB', 'ABCC'): 'ADD C',\n",
       " ('AB', 'ABCCE'): 'ADD E',\n",
       " ('AB', 'ABCCEF'): 'ADD F',\n",
       " ('ABC', 'A'): 'DEL C',\n",
       " ('ABC', 'AB'): 'DEL C',\n",
       " ('ABC', 'ABC'): '',\n",
       " ('ABC', 'ABCC'): 'ADD C',\n",
       " ('ABC', 'ABCCE'): 'ADD E',\n",
       " ('ABC', 'ABCCEF'): 'ADD F',\n",
       " ('ABCD', 'A'): 'DEL D',\n",
       " ('ABCD', 'AB'): 'DEL D',\n",
       " ('ABCD', 'ABC'): 'DEL D',\n",
       " ('ABCD', 'ABCC'): 'SUB D => C',\n",
       " ('ABCD', 'ABCCE'): 'ADD E',\n",
       " ('ABCD', 'ABCCEF'): 'ADD F',\n",
       " ('ABCDE', 'A'): 'DEL E',\n",
       " ('ABCDE', 'AB'): 'DEL E',\n",
       " ('ABCDE', 'ABC'): 'DEL E',\n",
       " ('ABCDE', 'ABCC'): 'DEL E',\n",
       " ('ABCDE', 'ABCCE'): '',\n",
       " ('ABCDE', 'ABCCEF'): 'ADD F'}"
      ]
     },
     "execution_count": 143,
     "metadata": {},
     "output_type": "execute_result"
    }
   ],
   "source": [
    "solution"
   ]
  },
  {
   "cell_type": "code",
   "execution_count": 181,
   "metadata": {},
   "outputs": [
    {
     "data": {
      "text/plain": [
       "\"('ABCDE', 'ABCCEF'): ADD F->('ABCDE', 'ABCCE'): ->('ABCD', 'ABCC'): SUB D => C->('ABC', 'ABC'): ->('AB', 'AB'): ->('A', 'A'): \""
      ]
     },
     "execution_count": 181,
     "metadata": {},
     "output_type": "execute_result"
    }
   ],
   "source": [
    "parse_solutions(solution, 'ABCDE', 'ABCCEF')"
   ]
  },
  {
   "cell_type": "code",
   "execution_count": 195,
   "metadata": {},
   "outputs": [],
   "source": [
    "def parse_solution(solution, string1, string2):\n",
    "    result = []\n",
    "    def parser(solution, string1, string2):\n",
    "        if not string1 or not string2: return None\n",
    "\n",
    "        operation = solution[(string1, string2)]\n",
    "        if operation != '':\n",
    "            result.append('\\'{}\\' to \\'{}\\': \\'{}\\''.format(string1, string2, operation))\n",
    "        if operation.startswith('DEL'):\n",
    "            parser(solution, string1[:-1], string2)\n",
    "        elif operation.startswith('ADD'):\n",
    "            parser(solution, string1, string2[:-1])\n",
    "        elif operation.startswith('SUB') or operation == '':\n",
    "            parser(solution, string1[:-1], string2[:-1])\n",
    "        return result\n",
    "    \n",
    "    result = parser(solution, string1, string2)\n",
    "    if result != None:\n",
    "        return '-->'.join(result)\n",
    "    else: return None"
   ]
  },
  {
   "cell_type": "code",
   "execution_count": 196,
   "metadata": {},
   "outputs": [
    {
     "data": {
      "text/plain": [
       "\"'ABCDE' to 'ABCCEF': 'ADD F'-->'ABCD' to 'ABCC': 'SUB D => C'\""
      ]
     },
     "execution_count": 196,
     "metadata": {},
     "output_type": "execute_result"
    }
   ],
   "source": [
    "parse_solution(solution, 'ABCDE', 'ABCCEF')"
   ]
  },
  {
   "cell_type": "markdown",
   "metadata": {},
   "source": [
    "### Part 4 Choose 1 - 2 books to keep reading: \n",
    "\n",
    "+ SICP, Structure and Interpretation of Computer Programming. \n",
    "+ Introduction to Algorithms \n",
    "+ Artificial Intelligence A Modern Approach (3rd Edition) \n",
    "+ Code Complete 2 \n",
    "+ Programming Pearls \n",
    "+ Deep Learning\n",
    "+ 黑客与画家\n",
    "+ 数学之美\n",
    "+ Fluent Python\n",
    "+ Hands on Tensorflow\n",
    "+ Conference: NIPS_ ICML_ ICLR_ ACL_ AAAI\n",
    "\n",
    "> most books you may find in our github: https://github.com/Computing-Intelligence/References"
   ]
  },
  {
   "cell_type": "markdown",
   "metadata": {},
   "source": [
    "## Part 5-1: review machine learning"
   ]
  },
  {
   "cell_type": "markdown",
   "metadata": {},
   "source": [
    "1. Why do we use Derivative / Gredient to fit a target function?¶"
   ]
  },
  {
   "cell_type": "markdown",
   "metadata": {},
   "source": [
    "Ans: Because it is negative of derivative is the direction that the loss  decreases the fastest."
   ]
  },
  {
   "cell_type": "markdown",
   "metadata": {},
   "source": [
    "2. In the words 'Gredient Descent', what's the Gredient and what's the Descent?¶"
   ]
  },
  {
   "cell_type": "markdown",
   "metadata": {},
   "source": [
    "Ans: Gradient is the partial derivative of the loss function to the parameters. Descent means the drop is towards the direction of negative of derivative."
   ]
  },
  {
   "cell_type": "markdown",
   "metadata": {},
   "source": [
    "\n",
    "3. What's the advantages of the 3rd gradient descent method compared to the previous methods?"
   ]
  },
  {
   "cell_type": "markdown",
   "metadata": {},
   "source": [
    "Ans: It follows the right direction and minimize the loss function at the direction of the negative derivate."
   ]
  },
  {
   "cell_type": "markdown",
   "metadata": {},
   "source": [
    "4. Using the simple words to describe: What's the machine leanring.¶"
   ]
  },
  {
   "cell_type": "markdown",
   "metadata": {},
   "source": [
    "Ans: Machine learning is the approach that uses data and ml method / algo as input to derive the function / relationship formula."
   ]
  },
  {
   "cell_type": "markdown",
   "metadata": {},
   "source": [
    "### Part 5: Answer following questions: "
   ]
  },
  {
   "cell_type": "markdown",
   "metadata": {},
   "source": [
    "1. Why do we need dynamic programming? What's the difference of dynamic programming and previous talked `search` problme? "
   ]
  },
  {
   "cell_type": "markdown",
   "metadata": {},
   "source": [
    "Ans: Dynamic programming can be used to solve problems that have repeated sub-problems. The difference with search problem is that dynamic programming reuses the solved sub-problems, instead of solving it again and again. Therefore, more effecient."
   ]
  },
  {
   "cell_type": "markdown",
   "metadata": {},
   "source": [
    "2. Why do we still need dynamic programming? Why not we train a machine learning to fit a function which could get the `right` answer based on inputs?"
   ]
  },
  {
   "cell_type": "markdown",
   "metadata": {},
   "source": [
    "Ans: Machine learning method requires sufficient training data, but dynamic programming does not. Instead, DP requires a set of rules or a reference table."
   ]
  },
  {
   "cell_type": "markdown",
   "metadata": {},
   "source": [
    "3. Can you catch up at least 3 problems which could solved by Dynamic Programming? "
   ]
  },
  {
   "cell_type": "markdown",
   "metadata": {},
   "source": [
    "Ans: \n",
    "1. Find the best route for food delivery\n",
    "2. Fibonacci sequence\n",
    "4. Sequence alignment\n",
    "5. Checkerboard game"
   ]
  },
  {
   "cell_type": "markdown",
   "metadata": {},
   "source": [
    "4. Can you catch up at least 3 problems wich could sloved by Edit Distance? "
   ]
  },
  {
   "cell_type": "markdown",
   "metadata": {},
   "source": [
    "Ans:\n",
    "1. Approximate string matching\n",
    "2. Checking of spelling mistakes\n",
    "3. Similarity between strings\n",
    "4. Checking of OCR mistakes"
   ]
  },
  {
   "cell_type": "markdown",
   "metadata": {},
   "source": [
    "5. Please summarize the three main features of Dynamic Programming, and make a concise explain for each feature. "
   ]
  },
  {
   "cell_type": "markdown",
   "metadata": {},
   "source": [
    "Ans:\n",
    "1. Analyze how is sub-problems repeats. If the sub-problems of a problem is the same, except the input value, then this problem can be solved by DP.\n",
    "2. Store the result of the sub-problems. This creates a reference table as  solution for DP.\n",
    "3. Parse the solution to get the detailed result. Use the reference table to come out with the detailed result."
   ]
  },
  {
   "cell_type": "markdown",
   "metadata": {},
   "source": [
    "6. What's the disadvantages of Dynamic Programming? (You may need search by yourself in Internet)"
   ]
  },
  {
   "cell_type": "markdown",
   "metadata": {},
   "source": [
    "Ans: \n",
    "1. No general formation of Dynamic Program is available; every problem has to be solving in its own way.\n",
    "2. Dividing problem in sub problem and storing inter mediate results consumes memory."
   ]
  },
  {
   "cell_type": "markdown",
   "metadata": {},
   "source": [
    "## Part 6 Preparation of Project-01"
   ]
  },
  {
   "cell_type": "markdown",
   "metadata": {},
   "source": [
    "1. Using python Flask or Bottle to finish your first simple web app:\n",
    "> https://bottlepy.org/\n",
    "\n",
    "2. Learn what's the SQL, and try some simple SQL operations:\n",
    "> https://www.w3schools.com/sql/sql_intro.asp\n",
    "\n",
    "3. Learn what's the HTML ( *ONLY* need to know the basic things)\n",
    "> https://getbootstrap.com/; https://www.w3schools.com/html/"
   ]
  },
  {
   "cell_type": "code",
   "execution_count": 198,
   "metadata": {},
   "outputs": [
    {
     "name": "stdout",
     "output_type": "stream",
     "text": [
      "Collecting bottle\n",
      "  Downloading https://files.pythonhosted.org/packages/69/d1/efdd0a5584169cdf791d726264089ce5d96846a8978c44ac6e13ae234327/bottle-0.12.17-py3-none-any.whl (89kB)\n",
      "Installing collected packages: bottle\n",
      "Successfully installed bottle-0.12.17\n"
     ]
    }
   ],
   "source": [
    "!pip install bottle"
   ]
  },
  {
   "cell_type": "code",
   "execution_count": 201,
   "metadata": {},
   "outputs": [],
   "source": [
    "from bottle import route, run, template"
   ]
  },
  {
   "cell_type": "code",
   "execution_count": 202,
   "metadata": {},
   "outputs": [
    {
     "name": "stderr",
     "output_type": "stream",
     "text": [
      "Bottle v0.12.17 server starting up (using WSGIRefServer())...\n",
      "Listening on http://localhost:8080/\n",
      "Hit Ctrl-C to quit.\n",
      "\n",
      "127.0.0.1 - - [16/Jul/2019 17:24:10] \"GET / HTTP/1.1\" 404 720\n",
      "127.0.0.1 - - [16/Jul/2019 17:24:33] code 400, message Bad request version ('\\x8a\\x8aÀ+À/À,À0Ì©Ì¨À\\x13À\\x14\\x00\\x9c\\x00\\x9d\\x00/\\x005\\x00')\n",
      "127.0.0.1 - - [16/Jul/2019 17:24:33] \"\u0016\u0003\u0001\u0000À\u0001\u0000\u0000¼\u0003\u0003í*w=NÝp¤\u001a,5P\u0015<\u0018\u001d",
      "¸Únò­m^Ì¨¯M\u0000\u0000\u001c",
      "À+À/À,À0Ì©Ì¨À\u0013À\u0014\u0000\u0000\u0000/\u00005\u0000\" 400 -\n",
      "127.0.0.1 - - [16/Jul/2019 17:24:33] code 400, message Bad request syntax ('\\x16\\x03\\x01\\x00À\\x01\\x00\\x00¼\\x03\\x03\\x1c\\x91Þ%=áÒ\\x8a\\xa0+{}ý}DIyÈ\\x94_\\t\\x86¹ÈQuyG8ø9\\x81\\x00\\x00\\x1cÚÚÀ+À/À,À0Ì©Ì¨À\\x13À\\x14\\x00\\x9c\\x00\\x9d\\x00/\\x005\\x00')\n",
      "127.0.0.1 - - [16/Jul/2019 17:24:33] \"\u0016\u0003\u0001\u0000À\u0001\u0000\u0000¼\u0003\u0003\u001c",
      "Þ%=áÒ +{}ý}DIyÈ_\t¹ÈQuyG8ø9\u0000\u0000\u001c",
      "ÚÚÀ+À/À,À0Ì©Ì¨À\u0013À\u0014\u0000\u0000\u0000/\u00005\u0000\" 400 -\n",
      "127.0.0.1 - - [16/Jul/2019 17:25:03] \"GET / HTTP/1.1\" 404 720\n",
      "127.0.0.1 - - [16/Jul/2019 17:25:12] \"GET / HTTP/1.1\" 404 720\n",
      "127.0.0.1 - - [16/Jul/2019 17:25:27] \"GET / HTTP/1.1\" 404 720\n",
      "127.0.0.1 - - [16/Jul/2019 17:25:55] \"GET /hello/word HTTP/1.1\" 200 18\n"
     ]
    }
   ],
   "source": [
    "@route('/hello/<name>')\n",
    "def index(name):\n",
    "    return template('<b>Hello {{name}}</b>!', name=name)\n",
    "\n",
    "run(host='localhost', port=8080)"
   ]
  },
  {
   "cell_type": "code",
   "execution_count": null,
   "metadata": {},
   "outputs": [],
   "source": []
  },
  {
   "cell_type": "markdown",
   "metadata": {},
   "source": [
    "### (Optinal) Finish the k-person-salesman problem:"
   ]
  },
  {
   "cell_type": "code",
   "execution_count": 9,
   "metadata": {},
   "outputs": [],
   "source": [
    "import random\n",
    "import matplotlib.pylab as plt\n",
    "import pandas as pd\n",
    "import numpy as np\n",
    "import math\n",
    "import time"
   ]
  },
  {
   "cell_type": "code",
   "execution_count": 2,
   "metadata": {},
   "outputs": [],
   "source": [
    "latitudes = [random.randint(-100, 100) for _ in range(20)]\n",
    "longitude = [random.randint(-100, 100) for _ in range(20)]"
   ]
  },
  {
   "cell_type": "code",
   "execution_count": 3,
   "metadata": {},
   "outputs": [
    {
     "data": {
      "text/plain": [
       "<matplotlib.collections.PathCollection at 0x1c6ab9c0e80>"
      ]
     },
     "execution_count": 3,
     "metadata": {},
     "output_type": "execute_result"
    },
    {
     "data": {
      "image/png": "[encoded data removed]",
      "text/plain": [
       "<Figure size 432x288 with 1 Axes>"
      ]
     },
     "metadata": {},
     "output_type": "display_data"
    }
   ],
   "source": [
    "plt.scatter(latitudes, longitude)"
   ]
  },
  {
   "cell_type": "markdown",
   "metadata": {},
   "source": [
    "给定一个初始点 𝑃, 已经 𝑘个车辆，如何从该点出发，经这 k 个车辆经过所以的点全部一次，而且所走过的路程最短?\n",
    "\n",
    "例如："
   ]
  },
  {
   "cell_type": "code",
   "execution_count": 4,
   "metadata": {},
   "outputs": [],
   "source": [
    "chosen_p = (-50, 10)\n",
    "chosen_p2 = (1, 30)\n",
    "chosen_p3 = (99, 15)"
   ]
  },
  {
   "cell_type": "code",
   "execution_count": 5,
   "metadata": {},
   "outputs": [],
   "source": [
    "import matplotlib.pyplot as plt"
   ]
  },
  {
   "cell_type": "markdown",
   "metadata": {},
   "source": [
    "### 如果指定一个出发点（红色），把全程走一遍的最短路径怎么算？"
   ]
  },
  {
   "cell_type": "code",
   "execution_count": 6,
   "metadata": {},
   "outputs": [
    {
     "data": {
      "text/plain": [
       "<matplotlib.collections.PathCollection at 0x1c6aba6bb00>"
      ]
     },
     "execution_count": 6,
     "metadata": {},
     "output_type": "execute_result"
    },
    {
     "data": {
      "image/png": "[encoded data removed]",
      "text/plain": [
       "<Figure size 432x288 with 1 Axes>"
      ]
     },
     "metadata": {},
     "output_type": "display_data"
    }
   ],
   "source": [
    "plt.scatter(latitudes, longitude)\n",
    "plt.scatter([chosen_p[0]], [chosen_p[1]], color='r')"
   ]
  },
  {
   "cell_type": "code",
   "execution_count": 14,
   "metadata": {},
   "outputs": [],
   "source": [
    "point_list = [(latitudes[i], longitude[i]) for i in range(0, len(latitudes))]\n",
    "point_list.insert(0, chosen_p)\n",
    "point_array = np.array(point_list)"
   ]
  },
  {
   "cell_type": "code",
   "execution_count": 16,
   "metadata": {},
   "outputs": [],
   "source": [
    "distance = np.zeros((point_array.shape[0], point_array.shape[0]))\n",
    "for i in range(point_array.shape[0]):\n",
    "    for j in range(point_array.shape[0]):\n",
    "        distance[i, j] = math.sqrt(np.sum((point_array[i, :] - point_array[j, :]) ** 2))"
   ]
  },
  {
   "cell_type": "code",
   "execution_count": 17,
   "metadata": {},
   "outputs": [
    {
     "data": {
      "text/plain": [
       "array([[  0.        ,  38.01315562, 104.63746939,  85.32877592,\n",
       "         89.35882721, 135.95955281,  15.8113883 ,  86.34813258,\n",
       "        122.37646833,  80.8084154 ,  64.47480128, 118.08894953,\n",
       "         78.16009212, 161.91355718,  93.15041599,  93.40770846,\n",
       "         77.38862966, 114.85643212, 100.12492197,  97.02061637,\n",
       "         90.08884504],\n",
       "       [ 38.01315562,   0.        ,  66.70832032,  53.46026562,\n",
       "         56.32051136, 124.33824834,  51.623638  ,  80.28075735,\n",
       "         98.24968193,  92.61209424,  67.95586803,  96.17692031,\n",
       "         66.57326791, 129.98846103,  60.87692502,  91.92388155,\n",
       "         80.        ,  93.55746897,  62.12889827, 130.23056477,\n",
       "        122.33151679],\n",
       "       [104.63746939,  66.70832032,   0.        ,  50.03998401,\n",
       "         36.68787266, 125.64234955, 118.19052415, 103.75451797,\n",
       "         79.93122043, 135.05924626, 108.16653826,  84.02380615,\n",
       "         87.96590248,  81.88406438,  39.39543121, 118.06777715,\n",
       "        115.10864433,  83.81527307,   9.05538514, 191.12822921,\n",
       "        182.49657531],\n",
       "       [ 85.32877592,  53.46026562,  50.03998401,   0.        ,\n",
       "         71.34423593, 160.03124695,  93.92017888, 124.80785232,\n",
       "        120.93386622, 144.51643505, 118.47362576, 122.58874337,\n",
       "        109.04127659, 131.74596768,  76.15773106, 138.23168957,\n",
       "        129.28263611, 121.24768039,  41.01219331, 181.79658963,\n",
       "        174.34735444],\n",
       "       [ 89.35882721,  56.32051136,  36.68787266,  71.34423593,\n",
       "          0.        ,  90.90654542, 104.80935073,  67.47592163,\n",
       "         49.64876635, 101.11874208,  74.95331881,  51.4003891 ,\n",
       "         52.03844733,  73.68174808,   5.09901951,  81.74350127,\n",
       "         80.22468448,  50.32891813,  41.18252056, 163.76812877,\n",
       "        154.76756766],\n",
       "       [135.95955281, 124.33824834, 125.64234955, 160.03124695,\n",
       "         90.90654542,   0.        , 150.0833102 ,  50.08991915,\n",
       "         49.04079934,  78.92401409,  75.05997602,  42.54409477,\n",
       "         58.82176468,  93.77099765,  87.00574694,  48.27007354,\n",
       "         64.77653896,  42.05948169, 131.60547101, 154.82893786,\n",
       "        146.24978632],\n",
       "       [ 15.8113883 ,  51.623638  , 118.19052415,  93.92017888,\n",
       "        104.80935073, 150.0833102 ,   0.        , 100.12991561,\n",
       "        138.07968714,  89.88882022,  76.92203845, 133.66001646,\n",
       "         93.        , 177.61193654, 108.70602559, 106.04244433,\n",
       "         89.49301649, 130.39171753, 113.0707743 ,  92.91393867,\n",
       "         87.09764635],\n",
       "       [ 86.34813258,  80.28075735, 103.75451797, 124.80785232,\n",
       "         67.47592163,  50.08991915, 100.12991561,   0.        ,\n",
       "         56.85068161,  40.22437072,  25.70992026,  48.83646179,\n",
       "         16.15549442, 109.28860874,  66.06814664,  14.31782106,\n",
       "         19.10497317,  45.3431362 , 106.73799698, 115.43396381,\n",
       "        106.30145813],\n",
       "       [122.37646833,  98.24968193,  79.93122043, 120.93386622,\n",
       "         49.64876635,  49.04079934, 138.07968714,  56.85068161,\n",
       "          0.        ,  97.0051545 ,  78.87331615,   8.54400375,\n",
       "         51.03920062,  52.83937925,  44.77722635,  66.73080248,\n",
       "         75.82216035,  11.66190379,  87.04596487, 171.82840277,\n",
       "        162.64070831],\n",
       "       [ 80.8084154 ,  92.61209424, 135.05924626, 144.51643505,\n",
       "        101.11874208,  78.92401409,  89.88882022,  40.22437072,\n",
       "         97.0051545 ,   0.        ,  27.07397274,  88.86506625,\n",
       "         50.92150823, 149.51254128, 101.        ,  32.20248438,\n",
       "         21.9317122 ,  85.42833254, 136.09188073,  76.84399781,\n",
       "         67.95586803],\n",
       "       [ 64.47480128,  67.95586803, 108.16653826, 118.47362576,\n",
       "         74.95331881,  75.05997602,  76.92203845,  25.70992026,\n",
       "         78.87331615,  27.07397274,   0.        ,  71.61005516,\n",
       "         28.31960452, 129.55693729,  75.2861209 ,  29.12043956,\n",
       "         13.03840481,  68.00735254, 109.04127659,  93.60555539,\n",
       "         84.3860178 ],\n",
       "       [118.08894953,  96.17692031,  84.02380615, 122.58874337,\n",
       "         51.4003891 ,  42.54409477, 133.66001646,  48.83646179,\n",
       "          8.54400375,  88.86506625,  71.61005516,   0.        ,\n",
       "         44.29446918,  61.29437168,  46.86149806,  58.30951895,\n",
       "         67.89698079,   3.60555128,  90.60905032, 164.1036258 ,\n",
       "        154.93547044],\n",
       "       [ 78.16009212,  66.57326791,  87.96590248, 109.04127659,\n",
       "         52.03844733,  58.82176468,  93.        ,  16.15549442,\n",
       "         51.03920062,  50.92150823,  28.31960452,  44.29446918,\n",
       "          0.        , 101.23734489,  51.0881591 ,  30.3644529 ,\n",
       "         29.12043956,  40.70626487,  90.70832376, 121.91800523,\n",
       "        112.69871339],\n",
       "       [161.91355718, 129.98846103,  81.88406438, 131.74596768,\n",
       "         73.68174808,  93.77099765, 177.61193654, 109.28860874,\n",
       "         52.83937925, 149.51254128, 129.55693729,  61.29437168,\n",
       "        101.23734489,   0.        ,  69.28924881, 119.57006314,\n",
       "        128.00390619,  64.49806199,  90.93404203, 223.14345162,\n",
       "        213.92522058],\n",
       "       [ 93.15041599,  60.87692502,  39.39543121,  76.15773106,\n",
       "          5.09901951,  87.00574694, 108.70602559,  66.06814664,\n",
       "         44.77722635, 101.        ,  75.2861209 ,  46.86149806,\n",
       "         51.0881591 ,  69.28924881,   0.        ,  80.22468448,\n",
       "         79.76214641,  45.96737974,  44.65422712, 165.34206966,\n",
       "        156.28499608],\n",
       "       [ 93.40770846,  91.92388155, 118.06777715, 138.23168957,\n",
       "         81.74350127,  48.27007354, 106.04244433,  14.31782106,\n",
       "         66.73080248,  32.20248438,  29.12043956,  58.30951895,\n",
       "         30.3644529 , 119.57006314,  80.22468448,   0.        ,\n",
       "         17.02938637,  55.07267925, 121.03718437, 109.04127659,\n",
       "        100.12492197],\n",
       "       [ 77.38862966,  80.        , 115.10864433, 129.28263611,\n",
       "         80.22468448,  64.77653896,  89.49301649,  19.10497317,\n",
       "         75.82216035,  21.9317122 ,  13.03840481,  67.89698079,\n",
       "         29.12043956, 128.00390619,  79.76214641,  17.02938637,\n",
       "          0.        ,  64.38167441, 116.84177335,  96.33275663,\n",
       "         87.20665112],\n",
       "       [114.85643212,  93.55746897,  83.81527307, 121.24768039,\n",
       "         50.32891813,  42.05948169, 130.39171753,  45.3431362 ,\n",
       "         11.66190379,  85.42833254,  68.00735254,   3.60555128,\n",
       "         40.70626487,  64.49806199,  45.96737974,  55.07267925,\n",
       "         64.38167441,   0.        ,  90.13878189, 160.55217221,\n",
       "        151.38031576],\n",
       "       [100.12492197,  62.12889827,   9.05538514,  41.01219331,\n",
       "         41.18252056, 131.60547101, 113.0707743 , 106.73799698,\n",
       "         87.04596487, 136.09188073, 109.04127659,  90.60905032,\n",
       "         90.70832376,  90.93404203,  44.65422712, 121.03718437,\n",
       "        116.84177335,  90.13878189,   0.        , 189.1137224 ,\n",
       "        180.64606279],\n",
       "       [ 97.02061637, 130.23056477, 191.12822921, 181.79658963,\n",
       "        163.76812877, 154.82893786,  92.91393867, 115.43396381,\n",
       "        171.82840277,  76.84399781,  93.60555539, 164.1036258 ,\n",
       "        121.91800523, 223.14345162, 165.34206966, 109.04127659,\n",
       "         96.33275663, 160.55217221, 189.1137224 ,   0.        ,\n",
       "          9.21954446],\n",
       "       [ 90.08884504, 122.33151679, 182.49657531, 174.34735444,\n",
       "        154.76756766, 146.24978632,  87.09764635, 106.30145813,\n",
       "        162.64070831,  67.95586803,  84.3860178 , 154.93547044,\n",
       "        112.69871339, 213.92522058, 156.28499608, 100.12492197,\n",
       "         87.20665112, 151.38031576, 180.64606279,   9.21954446,\n",
       "          0.        ]])"
      ]
     },
     "execution_count": 17,
     "metadata": {},
     "output_type": "execute_result"
    }
   ],
   "source": [
    "distance"
   ]
  },
  {
   "cell_type": "code",
   "execution_count": 32,
   "metadata": {},
   "outputs": [],
   "source": [
    "\"\"\"\n",
    "N:计数\n",
    "s:二进制表示，遍历过得城市对应位为0，未遍历为1\n",
    "dp:动态规划的距离数组\n",
    "dist：目的地间距离矩阵\n",
    "sumpath:目前的最小路径总长度\n",
    "Dtemp：当前最小距离\n",
    "path:记录下一个应该到达的城市\n",
    "\"\"\"\n",
    "\n",
    "N = point_array.shape[0]\n",
    "path = np.ones((2 ** N -1, N), dtype = np.int)\n",
    "dp = np.ones((2 ** N -1, N)) * -1"
   ]
  },
  {
   "cell_type": "code",
   "execution_count": 26,
   "metadata": {},
   "outputs": [],
   "source": [
    "def TSP(s, init):\n",
    "    if dp[s][init] != -1:\n",
    "        return dp[s][init]\n",
    "    \n",
    "    if s == 0:\n",
    "        return distance[0][init]\n",
    "    sumpath = float('inf')\n",
    "    \n",
    "    for i in range(N):\n",
    "        if s & (1 << i):\n",
    "            m = TSP(s & (~ (1 << i)), i) + distance[i][init] #s & (~ (1 << i))让遍历过的点的相应位置变0\n",
    "            if m < sumpath:\n",
    "                sumpath = m\n",
    "                path[s][init] = i\n",
    "    dp[s][init] = sumpath\n",
    "    return dp[s][init]\n",
    "    "
   ]
  },
  {
   "cell_type": "code",
   "execution_count": 27,
   "metadata": {},
   "outputs": [],
   "source": [
    "init_point = 0\n",
    "s = 0\n",
    "for i in range(1, N):\n",
    "    s = s | (1 <<i)\n",
    "    \n",
    "start = time.time()\n",
    "distance_result = TSP(s, init_point)\n",
    "end = time.time()"
   ]
  },
  {
   "cell_type": "code",
   "execution_count": 29,
   "metadata": {},
   "outputs": [
    {
     "name": "stdout",
     "output_type": "stream",
     "text": [
      "687.5994066432721\n"
     ]
    }
   ],
   "source": [
    "for i in range(1, N):\n",
    "    s = s | (1<< i)\n",
    "init = 0\n",
    "num = 0\n",
    "print(distance_result)\n",
    "route = [chosen_p]\n"
   ]
  },
  {
   "cell_type": "code",
   "execution_count": 30,
   "metadata": {},
   "outputs": [
    {
     "name": "stdout",
     "output_type": "stream",
     "text": [
      "1\n",
      "3\n",
      "18\n",
      "2\n",
      "4\n",
      "14\n",
      "13\n",
      "8\n",
      "11\n",
      "17\n",
      "5\n",
      "15\n",
      "7\n",
      "12\n",
      "10\n",
      "16\n",
      "9\n",
      "20\n",
      "19\n",
      "6\n",
      "Running time is 181.70063257217407\n"
     ]
    }
   ],
   "source": [
    "while True:\n",
    "    print(path[s][init])\n",
    "    init = path[s][init]\n",
    "    route.append(point_list[init])\n",
    "    s = s & (~ (1 << init))\n",
    "    num += 1\n",
    "    if num > N-2:\n",
    "        break\n",
    "print(\"Running time is %s\" % (end - start))"
   ]
  },
  {
   "cell_type": "code",
   "execution_count": 33,
   "metadata": {},
   "outputs": [
    {
     "data": {
      "text/plain": [
       "[<matplotlib.lines.Line2D at 0x1c680005cf8>]"
      ]
     },
     "execution_count": 33,
     "metadata": {},
     "output_type": "execute_result"
    },
    {
     "data": {
      "image/png": "[encoded data removed]",
      "text/plain": [
       "<Figure size 432x288 with 1 Axes>"
      ]
     },
     "metadata": {},
     "output_type": "display_data"
    }
   ],
   "source": [
    "# 此代码为结果可视化展示\n",
    "\n",
    "route.append(chosen_p)\n",
    "plt.scatter(latitudes, longitude)\n",
    "plt.scatter([chosen_p[0]], [chosen_p[1]], color='r')\n",
    "x = [point[0] for point in route]\n",
    "y = [point[1] for point in route]\n",
    "plt.plot(x, y, color='black')"
   ]
  },
  {
   "cell_type": "code",
   "execution_count": null,
   "metadata": {},
   "outputs": [],
   "source": []
  },
  {
   "cell_type": "markdown",
   "metadata": {},
   "source": [
    "### 下面这个方法穷尽所有path的distance，再找出最小的。\n",
    "### 对于20个点，运行时间太长，不可行。"
   ]
  },
  {
   "cell_type": "code",
   "execution_count": 13,
   "metadata": {},
   "outputs": [],
   "source": [
    "def route_distance(start, points): # 得到一个点与点之间的距离列表\n",
    "    \n",
    "    if len(points) == 0: return 0\n",
    "    \n",
    "    def point_distance(point1, point2):\n",
    "        return math.sqrt((point1[0]-point2[0]) ** 2 + (point1[1]-point2[1]) ** 2)\n",
    "    \n",
    "    for i in range(len(points)):\n",
    "        distance = point_distance(start, points[i])\n",
    "        solution[(start, points[i])] = distance  \n",
    "    \n",
    "    for i in range(0, len(points)-1):\n",
    "        result2 = route_distance(points[i], points[i+1:])\n",
    "    \n",
    "    return solution"
   ]
  },
  {
   "cell_type": "code",
   "execution_count": 25,
   "metadata": {},
   "outputs": [
    {
     "data": {
      "text/plain": [
       "[(-50, 10),\n",
       " (35, 31),\n",
       " (18, 0),\n",
       " (22, -1),\n",
       " (63, 0),\n",
       " (-79, 80),\n",
       " (15, -91),\n",
       " (6, 18),\n",
       " (82, -76),\n",
       " (56, -90),\n",
       " (-79, -78)]"
      ]
     },
     "execution_count": 25,
     "metadata": {},
     "output_type": "execute_result"
    }
   ],
   "source": [
    "points"
   ]
  },
  {
   "cell_type": "code",
   "execution_count": 268,
   "metadata": {},
   "outputs": [],
   "source": [
    "# 这个方法穷尽所有path的distance，再找出最小的。运行时间很长。对于20个点，不可行。\n",
    "\n",
    "solution = {}\n",
    "result = {}\n",
    "\n",
    "points = [(latitudes[i], longitude[i]) for i in range(0, len(latitudes))]\n",
    "points_permutations = itertools.permutations(points)\n",
    "\n",
    "solution = route_distance(chosen_p, points)\n",
    "\n",
    "for key, value in solution.items():\n",
    "    solution2[(key[1], key[0])] = value\n",
    "\n",
    "solution.update(solution2)\n",
    "\n",
    "\n",
    "def parse_solution(solution, start, points):  \n",
    "    if not start or not points or not solution: return None\n",
    "    \n",
    "    \n",
    "    def calculate_distance(points):\n",
    "        distance = 0\n",
    "        for i in range(len(points)-1):\n",
    "            distance += solution[(points[i], points[i+1])]\n",
    "        return distance\n",
    "    \n",
    "    for k in points_permutations:\n",
    "        k = list(k)\n",
    "        k.insert(0, start)\n",
    "        k.append(start)\n",
    "        current_distance = calculate_distance(k)\n",
    "        result[(current_distance)] = k\n",
    "        \n",
    "\n",
    "    shortest_path = min(result.items())\n",
    "\n",
    "    return shortest_path"
   ]
  },
  {
   "cell_type": "markdown",
   "metadata": {},
   "source": [
    "### 如果指定三个出发点（红色），把全程走一遍的最短路径怎么算？假设同时从三个点出发。"
   ]
  },
  {
   "cell_type": "code",
   "execution_count": 14,
   "metadata": {
    "scrolled": true
   },
   "outputs": [
    {
     "data": {
      "text/plain": [
       "<matplotlib.collections.PathCollection at 0x2cdc1096cf8>"
      ]
     },
     "execution_count": 14,
     "metadata": {},
     "output_type": "execute_result"
    },
    {
     "data": {
      "image/png": "[encoded data removed]",
      "text/plain": [
       "<Figure size 432x288 with 1 Axes>"
      ]
     },
     "metadata": {},
     "output_type": "display_data"
    }
   ],
   "source": [
    "plt.scatter(latitudes, longitude)\n",
    "plt.scatter([chosen_p[0]], [chosen_p[1]], color='r')\n",
    "plt.scatter([chosen_p2[0]], [chosen_p2[1]], color='r')\n",
    "plt.scatter([chosen_p3[0]], [chosen_p3[1]], color='r')"
   ]
  },
  {
   "cell_type": "code",
   "execution_count": null,
   "metadata": {},
   "outputs": [],
   "source": []
  }
 ],
 "metadata": {
  "kernelspec": {
   "display_name": "Python 3",
   "language": "python",
   "name": "python3"
  },
  "language_info": {
   "codemirror_mode": {
    "name": "ipython",
    "version": 3
   },
   "file_extension": ".py",
   "mimetype": "text/x-python",
   "name": "python",
   "nbconvert_exporter": "python",
   "pygments_lexer": "ipython3",
   "version": "3.6.5"
  }
 },
 "nbformat": 4,
 "nbformat_minor": 2
}
