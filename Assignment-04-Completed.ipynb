{
 "cells": [
  {
   "cell_type": "code",
   "execution_count": 1,
   "metadata": {},
   "outputs": [
    {
     "name": "stderr",
     "output_type": "stream",
     "text": [
      "C:\\Users\\Zhang Bo Chao\\Anaconda3\\lib\\site-packages\\gensim\\utils.py:865: UserWarning: detected Windows; aliasing chunkize to chunkize_serial\n",
      "  warnings.warn(\"detected Windows; aliasing chunkize to chunkize_serial\")\n"
     ]
    }
   ],
   "source": [
    "from gensim.models import Word2Vec\n",
    "from gensim.models.word2vec import LineSentence\n",
    "from gensim.corpora import WikiCorpus\n",
    "import jieba\n",
    "from sklearn.manifold import TSNE\n",
    "import matplotlib.pyplot as plt\n",
    "plt.rcParams[\"font.sans-serif\"] = [\"Microsoft YaHei\"]\n",
    "plt.rcParams['axes.unicode_minus'] = False\n",
    "\n",
    "from cython.parallel import prange\n",
    "from io import open\n",
    "import pandas as pd\n",
    "import logging\n",
    "from wordcloud import WordCloud\n",
    "import numpy as np"
   ]
  },
  {
   "cell_type": "code",
   "execution_count": null,
   "metadata": {},
   "outputs": [],
   "source": [
    "\"*******Data pre-processing, cut words and generate word list***********\"\n",
    "space = ' '\n",
    "i = 0\n",
    "l = []\n",
    "zhwiki_name = 'C:/Users/Zhang Bo Chao/Desktop/AI集训营/NLP必修课/Lecture4/Assignment/zhwiki-20190720-pages-articles-multistream.xml.bz2'\n",
    "f = open('C:/Users/Zhang Bo Chao/Desktop/AI集训营/NLP必修课/Lecture4/Assignment/zhwiki.txt', 'w',encoding='utf-8')\n",
    "wiki = WikiCorpus(zhwiki_name, lemmatize=False, dictionary={}) #从xml文件中读出训练语料\n",
    "for text in wiki.get_texts():\n",
    "    for i in prange(len(text), nogil=True):\n",
    "        temp_sentence = text[i]\n",
    "        seg_list = list(jieba.cut(temp_sentence)) #分词\n",
    "        for temp_term in seg_list:\n",
    "            l.append(temp_term)\n",
    "    f.write(space.join(l) + '\\n')\n",
    "    l = []\n",
    "    i = i + 1\n",
    "\n",
    "    if (i %200 == 0):\n",
    "        print('Saved ' + str(i) + ' articles')\n",
    "f.close()\n",
    " "
   ]
  },
  {
   "cell_type": "code",
   "execution_count": null,
   "metadata": {},
   "outputs": [],
   "source": [
    "\"*******Generate model**********\"\n",
    "logging.basicConfig(format='%(asctime)s : %(levelname)s : %(message)s', level=logging.INFO)\n",
    "\n",
    "wiki_news = open('C:/Users/Zhang Bo Chao/Desktop/AI集训营/NLP必修课/Lecture4/Assignment/zhwiki.txt', 'r',encoding='utf-8')\n",
    "print('~~~开始生成词向量模型~~~~请耐心等待')\n",
    "model = Word2Vec(LineSentence(wiki_news), sg=0,size=200, window=5, min_count=5, workers=6)\n",
    "print('~~~等待是有回报的~~~~词向量模型已经生成')\n",
    "model.save('C:/Users/Zhang Bo Chao/Desktop/AI集训营/NLP必修课/Lecture4/Assignment/model/zhwiki_news.word2vec')\n"
   ]
  },
  {
   "cell_type": "code",
   "execution_count": null,
   "metadata": {},
   "outputs": [],
   "source": [
    "\"*******Test the model***********\"\n",
    "model = Word2Vec.load('C:/Users/Zhang Bo Chao/Desktop/AI集训营/NLP必修课/Lecture4/Assignment/model/zhwiki_news.word2vec')\n",
    "print(model.similarity('数学', '经济学'))\n",
    "\n",
    "result = pd.Series(model.most_similar(u'腾讯')) #查找近义相关词\n",
    "print(result)\n",
    "\n",
    "result1 = pd.Series(model.most_similar(u'人工智能', topn = 100))\n",
    "print(result1)\n",
    "\n",
    "print(model.wv['人工智能']) #查看人工智能的词向量（单个词语的词向量）\n"
   ]
  },
  {
   "cell_type": "code",
   "execution_count": null,
   "metadata": {},
   "outputs": [],
   "source": [
    "\"*******Create word cloud***********\"\n",
    "font_path = 'simkai.ttf'\n",
    " \n",
    "'''\n",
    "获取一个圆形的mask\n",
    "'''\n",
    "def get_mask():\n",
    "    x, y = np.ogrid[:1000, :1000]\n",
    "    mask = (x - 500) ** 2 + (y - 500) ** 2 > 500 ** 2\n",
    "    mask = 255 * mask.astype(int)\n",
    "    return mask\n",
    " \n",
    "'''\n",
    "绘制词云\n",
    "'''\n",
    "def draw_word_cloud(word_cloud):\n",
    "    wc = WordCloud(font_path = font_path,background_color=\"white\", mask=get_mask())\n",
    "    wc.generate_from_frequencies(word_cloud)\n",
    "    # 隐藏x轴和y轴\n",
    "    plt.axis(\"off\")\n",
    "    plt.imshow(wc, interpolation=\"bilinear\")\n",
    "    plt.show()\n",
    "    plt.savefig('C:/Users/Zhang Bo Chao/Desktop/AI集训营/NLP必修课/Lecture4/Assignment/word_cloud.png')\n",
    "\n",
    "def draw():\n",
    "    #logging.basicConfig(format=\"%(asctime)s:%(levelname)s:%(message)s\", level=logging.INFO)\n",
    "    model = Word2Vec.load(\"C:/Users/Zhang Bo Chao/Desktop/AI集训营/NLP必修课/Lecture4/Assignment/model/zhwiki_news.word2vec\")\n",
    "    # 输入一个词找出相似的前100个词,默认是10个\n",
    "    one_corpus = [\"人工智能\"]\n",
    "    result = model.most_similar(one_corpus[0], topn=100)\n",
    "    # 将返回的结果转换为字典,便于绘制词云\n",
    "    word_cloud = dict()\n",
    "    for sim in result:\n",
    "        # print(sim[0],\":\",sim[1])\n",
    "        word_cloud[sim[0]] = sim[1]\n",
    "    # 绘制词云\n",
    "    draw_word_cloud(word_cloud)\n",
    "\n",
    "draw()\n"
   ]
  },
  {
   "cell_type": "code",
   "execution_count": null,
   "metadata": {},
   "outputs": [],
   "source": [
    "\"********Plotting and save fig**********\"\n",
    "def tsne_plot_by_keyword(model, keyword):\n",
    "    \"Creates and TSNE model and plots it\"\n",
    "    labels = []\n",
    "    tokens = []\n",
    "    keywords = pd.Series(model.most_similar(keyword, topn = 100)) # return a pandas series, get the most similar 100 words to the keyword, plot only those words\n",
    "    \n",
    "    for word in keywords:\n",
    "        tokens.append(model[word[0]])\n",
    "        labels.append(word[0])\n",
    "    \n",
    "    tsne_model = TSNE(perplexity=40, n_components=2, init='pca', n_iter=2500, random_state=23)\n",
    "    new_values = tsne_model.fit_transform(tokens)\n",
    "\n",
    "    x = []\n",
    "    y = []\n",
    "    for value in new_values:\n",
    "        x.append(value[0])\n",
    "        y.append(value[1])\n",
    "        \n",
    "    plt.figure(figsize=(16, 16)) \n",
    "    for i in range(len(x)):\n",
    "        plt.scatter(x[i],y[i])\n",
    "        plt.annotate(labels[i],\n",
    "                     xy=(x[i], y[i]),\n",
    "                     xytext=(5, 2),\n",
    "                     textcoords='offset points',\n",
    "                     ha='right',\n",
    "                     va='bottom')\n",
    "\n",
    "    plt.savefig('C:/Users/Zhang Bo Chao/Desktop/AI集训营/NLP必修课/Lecture4/Assignment/graph_by_keyword.png')\n",
    "    plt.show()\n",
    "    \n",
    "tsne_plot_by_keyword(model, keyword = '人工智能')"
   ]
  }
 ],
 "metadata": {
  "kernelspec": {
   "display_name": "Python 3",
   "language": "python",
   "name": "python3"
  },
  "language_info": {
   "codemirror_mode": {
    "name": "ipython",
    "version": 3
   },
   "file_extension": ".py",
   "mimetype": "text/x-python",
   "name": "python",
   "nbconvert_exporter": "python",
   "pygments_lexer": "ipython3",
   "version": "3.6.2"
  }
 },
 "nbformat": 4,
 "nbformat_minor": 2
}
