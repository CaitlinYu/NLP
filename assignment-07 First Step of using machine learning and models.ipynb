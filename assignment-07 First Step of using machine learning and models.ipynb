{
 "cells": [
  {
   "cell_type": "markdown",
   "metadata": {},
   "source": [
    "## Assignment-07 First Step of using machine learning and models."
   ]
  },
  {
   "cell_type": "markdown",
   "metadata": {},
   "source": [
    "![](https://github.com/Computing-Intelligence/jupyters_and_slides/raw/master/entrance-test/images/kkb-ai.png)"
   ]
  },
  {
   "cell_type": "markdown",
   "metadata": {},
   "source": [
    "### 任务描述"
   ]
  },
  {
   "cell_type": "markdown",
   "metadata": {},
   "source": [
    "报社等相关的机构，往往会遇到一个问题，就是别人家的机构使用自己的文章但是并没有标明来源。 在本次任务中，我们将解决新华社的文章被抄袭引用的问题。"
   ]
  },
  {
   "cell_type": "markdown",
   "metadata": {},
   "source": [
    "给定的数据集合中，存在一些新闻预料，该预料是来自新华社，但是其来源并不是新华社，请设计技巧学习模型解决该问题。"
   ]
  },
  {
   "cell_type": "markdown",
   "metadata": {},
   "source": [
    "![](https://timgsa.baidu.com/timg?image&quality=80&size=b9999_10000&sec=1566105348906&di=ee9a2de91207767364853d4decc6cca3&imgtype=0&src=http%3A%2F%2Fmmbiz.qpic.cn%2Fmmbiz_png%2FTicO2kbP6Ao5sCsSQDpehZiczLdC6hDCNvoicjcOCEKX2bLxBc9gVOw28zHyFibfIWq9ceRibP6HDTKReGkr6YyTfQQ%2F640%3Fwx_fmt%3Dpng)"
   ]
  },
  {
   "cell_type": "markdown",
   "metadata": {},
   "source": [
    "### Step1: 数据分析"
   ]
  },
  {
   "cell_type": "markdown",
   "metadata": {},
   "source": [
    "请在课程的GitHub中下载数据集，然后使用pandas进行读取。"
   ]
  },
  {
   "cell_type": "code",
   "execution_count": 36,
   "metadata": {},
   "outputs": [],
   "source": [
    "fname = 'sqlResult_1558435.csv'"
   ]
  },
  {
   "cell_type": "code",
   "execution_count": 37,
   "metadata": {},
   "outputs": [],
   "source": [
    "import pandas as pd\n",
    "import re\n",
    "import jieba\n",
    "import numpy as np"
   ]
  },
  {
   "cell_type": "code",
   "execution_count": 38,
   "metadata": {},
   "outputs": [],
   "source": [
    "content = pd.read_csv(fname, encoding='gb18030')"
   ]
  },
  {
   "cell_type": "code",
   "execution_count": 4,
   "metadata": {},
   "outputs": [
    {
     "data": {
      "text/html": [
       "<div>\n",
       "<style scoped>\n",
       "    .dataframe tbody tr th:only-of-type {\n",
       "        vertical-align: middle;\n",
       "    }\n",
       "\n",
       "    .dataframe tbody tr th {\n",
       "        vertical-align: top;\n",
       "    }\n",
       "\n",
       "    .dataframe thead th {\n",
       "        text-align: right;\n",
       "    }\n",
       "</style>\n",
       "<table border=\"1\" class=\"dataframe\">\n",
       "  <thead>\n",
       "    <tr style=\"text-align: right;\">\n",
       "      <th></th>\n",
       "      <th>id</th>\n",
       "      <th>author</th>\n",
       "      <th>source</th>\n",
       "      <th>content</th>\n",
       "      <th>feature</th>\n",
       "      <th>title</th>\n",
       "      <th>url</th>\n",
       "    </tr>\n",
       "  </thead>\n",
       "  <tbody>\n",
       "    <tr>\n",
       "      <th>0</th>\n",
       "      <td>89617</td>\n",
       "      <td>NaN</td>\n",
       "      <td>快科技@http://www.kkj.cn/</td>\n",
       "      <td>此外，自本周（6月12日）起，除小米手机6等15款机型外，其余机型已暂停更新发布（含开发版/...</td>\n",
       "      <td>{\"type\":\"科技\",\"site\":\"cnbeta\",\"commentNum\":\"37\"...</td>\n",
       "      <td>小米MIUI 9首批机型曝光：共计15款</td>\n",
       "      <td>http://www.cnbeta.com/articles/tech/623597.htm</td>\n",
       "    </tr>\n",
       "    <tr>\n",
       "      <th>1</th>\n",
       "      <td>89616</td>\n",
       "      <td>NaN</td>\n",
       "      <td>快科技@http://www.kkj.cn/</td>\n",
       "      <td>骁龙835作为唯一通过Windows 10桌面平台认证的ARM处理器，高通强调，不会因为只考...</td>\n",
       "      <td>{\"type\":\"科技\",\"site\":\"cnbeta\",\"commentNum\":\"15\"...</td>\n",
       "      <td>骁龙835在Windows 10上的性能表现有望改善</td>\n",
       "      <td>http://www.cnbeta.com/articles/tech/623599.htm</td>\n",
       "    </tr>\n",
       "    <tr>\n",
       "      <th>2</th>\n",
       "      <td>89615</td>\n",
       "      <td>NaN</td>\n",
       "      <td>快科技@http://www.kkj.cn/</td>\n",
       "      <td>此前的一加3T搭载的是3400mAh电池，DashCharge快充规格为5V/4A。\\r\\n...</td>\n",
       "      <td>{\"type\":\"科技\",\"site\":\"cnbeta\",\"commentNum\":\"18\"...</td>\n",
       "      <td>一加手机5细节曝光：3300mAh、充半小时用1天</td>\n",
       "      <td>http://www.cnbeta.com/articles/tech/623601.htm</td>\n",
       "    </tr>\n",
       "    <tr>\n",
       "      <th>3</th>\n",
       "      <td>89614</td>\n",
       "      <td>NaN</td>\n",
       "      <td>新华社</td>\n",
       "      <td>这是6月18日在葡萄牙中部大佩德罗冈地区拍摄的被森林大火烧毁的汽车。新华社记者张立云摄\\r\\n</td>\n",
       "      <td>{\"type\":\"国际新闻\",\"site\":\"环球\",\"commentNum\":\"0\",\"j...</td>\n",
       "      <td>葡森林火灾造成至少62人死亡 政府宣布进入紧急状态（组图）</td>\n",
       "      <td>http://world.huanqiu.com/hot/2017-06/10866126....</td>\n",
       "    </tr>\n",
       "    <tr>\n",
       "      <th>4</th>\n",
       "      <td>89613</td>\n",
       "      <td>胡淑丽_MN7479</td>\n",
       "      <td>深圳大件事</td>\n",
       "      <td>（原标题：44岁女子跑深圳约会网友被拒，暴雨中裸身奔走……）\\r\\n@深圳交警微博称：昨日清...</td>\n",
       "      <td>{\"type\":\"新闻\",\"site\":\"网易热门\",\"commentNum\":\"978\",...</td>\n",
       "      <td>44岁女子约网友被拒暴雨中裸奔 交警为其披衣相随</td>\n",
       "      <td>http://news.163.com/17/0618/00/CN617P3Q0001875...</td>\n",
       "    </tr>\n",
       "  </tbody>\n",
       "</table>\n",
       "</div>"
      ],
      "text/plain": [
       "      id      author                  source  \\\n",
       "0  89617         NaN  快科技@http://www.kkj.cn/   \n",
       "1  89616         NaN  快科技@http://www.kkj.cn/   \n",
       "2  89615         NaN  快科技@http://www.kkj.cn/   \n",
       "3  89614         NaN                     新华社   \n",
       "4  89613  胡淑丽_MN7479                   深圳大件事   \n",
       "\n",
       "                                             content  \\\n",
       "0  此外，自本周（6月12日）起，除小米手机6等15款机型外，其余机型已暂停更新发布（含开发版/...   \n",
       "1  骁龙835作为唯一通过Windows 10桌面平台认证的ARM处理器，高通强调，不会因为只考...   \n",
       "2  此前的一加3T搭载的是3400mAh电池，DashCharge快充规格为5V/4A。\\r\\n...   \n",
       "3    这是6月18日在葡萄牙中部大佩德罗冈地区拍摄的被森林大火烧毁的汽车。新华社记者张立云摄\\r\\n   \n",
       "4  （原标题：44岁女子跑深圳约会网友被拒，暴雨中裸身奔走……）\\r\\n@深圳交警微博称：昨日清...   \n",
       "\n",
       "                                             feature  \\\n",
       "0  {\"type\":\"科技\",\"site\":\"cnbeta\",\"commentNum\":\"37\"...   \n",
       "1  {\"type\":\"科技\",\"site\":\"cnbeta\",\"commentNum\":\"15\"...   \n",
       "2  {\"type\":\"科技\",\"site\":\"cnbeta\",\"commentNum\":\"18\"...   \n",
       "3  {\"type\":\"国际新闻\",\"site\":\"环球\",\"commentNum\":\"0\",\"j...   \n",
       "4  {\"type\":\"新闻\",\"site\":\"网易热门\",\"commentNum\":\"978\",...   \n",
       "\n",
       "                           title  \\\n",
       "0           小米MIUI 9首批机型曝光：共计15款   \n",
       "1     骁龙835在Windows 10上的性能表现有望改善   \n",
       "2      一加手机5细节曝光：3300mAh、充半小时用1天   \n",
       "3  葡森林火灾造成至少62人死亡 政府宣布进入紧急状态（组图）   \n",
       "4       44岁女子约网友被拒暴雨中裸奔 交警为其披衣相随   \n",
       "\n",
       "                                                 url  \n",
       "0     http://www.cnbeta.com/articles/tech/623597.htm  \n",
       "1     http://www.cnbeta.com/articles/tech/623599.htm  \n",
       "2     http://www.cnbeta.com/articles/tech/623601.htm  \n",
       "3  http://world.huanqiu.com/hot/2017-06/10866126....  \n",
       "4  http://news.163.com/17/0618/00/CN617P3Q0001875...  "
      ]
     },
     "execution_count": 4,
     "metadata": {},
     "output_type": "execute_result"
    }
   ],
   "source": [
    "content.head()"
   ]
  },
  {
   "cell_type": "code",
   "execution_count": 5,
   "metadata": {},
   "outputs": [],
   "source": [
    "xinhua_news = content[content['source'] == '新华社']"
   ]
  },
  {
   "cell_type": "code",
   "execution_count": 6,
   "metadata": {},
   "outputs": [
    {
     "data": {
      "text/plain": [
       "0.8778051801676133"
      ]
     },
     "execution_count": 6,
     "metadata": {},
     "output_type": "execute_result"
    }
   ],
   "source": [
    "len(xinhua_news) / len(content) # 有87.78%的新闻来自新华社"
   ]
  },
  {
   "cell_type": "markdown",
   "metadata": {},
   "source": [
    "### Step2: 数据预处理"
   ]
  },
  {
   "cell_type": "markdown",
   "metadata": {},
   "source": [
    "将pandas中的数据，依据是否是新华社的文章，请改变成新的数据dataframe: <content, y>, 其中，content是文章内容，y是0或者1. 你可能要使用到pandas的dataframe操作。https://pandas.pydata.org/pandas-docs/stable/reference/api/pandas.DataFrame.apply.html"
   ]
  },
  {
   "cell_type": "code",
   "execution_count": 39,
   "metadata": {},
   "outputs": [],
   "source": [
    "content['label'] = content['source'].apply(lambda x: 1 if x == '新华社' else 0)"
   ]
  },
  {
   "cell_type": "code",
   "execution_count": 40,
   "metadata": {},
   "outputs": [],
   "source": [
    "news = content[['content', 'label']]"
   ]
  },
  {
   "cell_type": "markdown",
   "metadata": {},
   "source": [
    "这样我们就得到了一个带有标记的数据，叫做news"
   ]
  },
  {
   "cell_type": "code",
   "execution_count": 9,
   "metadata": {},
   "outputs": [
    {
     "data": {
      "text/html": [
       "<div>\n",
       "<style scoped>\n",
       "    .dataframe tbody tr th:only-of-type {\n",
       "        vertical-align: middle;\n",
       "    }\n",
       "\n",
       "    .dataframe tbody tr th {\n",
       "        vertical-align: top;\n",
       "    }\n",
       "\n",
       "    .dataframe thead th {\n",
       "        text-align: right;\n",
       "    }\n",
       "</style>\n",
       "<table border=\"1\" class=\"dataframe\">\n",
       "  <thead>\n",
       "    <tr style=\"text-align: right;\">\n",
       "      <th></th>\n",
       "      <th>content</th>\n",
       "      <th>label</th>\n",
       "    </tr>\n",
       "  </thead>\n",
       "  <tbody>\n",
       "    <tr>\n",
       "      <th>0</th>\n",
       "      <td>此外，自本周（6月12日）起，除小米手机6等15款机型外，其余机型已暂停更新发布（含开发版/...</td>\n",
       "      <td>0</td>\n",
       "    </tr>\n",
       "    <tr>\n",
       "      <th>1</th>\n",
       "      <td>骁龙835作为唯一通过Windows 10桌面平台认证的ARM处理器，高通强调，不会因为只考...</td>\n",
       "      <td>0</td>\n",
       "    </tr>\n",
       "    <tr>\n",
       "      <th>2</th>\n",
       "      <td>此前的一加3T搭载的是3400mAh电池，DashCharge快充规格为5V/4A。\\r\\n...</td>\n",
       "      <td>0</td>\n",
       "    </tr>\n",
       "    <tr>\n",
       "      <th>3</th>\n",
       "      <td>这是6月18日在葡萄牙中部大佩德罗冈地区拍摄的被森林大火烧毁的汽车。新华社记者张立云摄\\r\\n</td>\n",
       "      <td>1</td>\n",
       "    </tr>\n",
       "    <tr>\n",
       "      <th>4</th>\n",
       "      <td>（原标题：44岁女子跑深圳约会网友被拒，暴雨中裸身奔走……）\\r\\n@深圳交警微博称：昨日清...</td>\n",
       "      <td>0</td>\n",
       "    </tr>\n",
       "  </tbody>\n",
       "</table>\n",
       "</div>"
      ],
      "text/plain": [
       "                                             content  label\n",
       "0  此外，自本周（6月12日）起，除小米手机6等15款机型外，其余机型已暂停更新发布（含开发版/...      0\n",
       "1  骁龙835作为唯一通过Windows 10桌面平台认证的ARM处理器，高通强调，不会因为只考...      0\n",
       "2  此前的一加3T搭载的是3400mAh电池，DashCharge快充规格为5V/4A。\\r\\n...      0\n",
       "3    这是6月18日在葡萄牙中部大佩德罗冈地区拍摄的被森林大火烧毁的汽车。新华社记者张立云摄\\r\\n      1\n",
       "4  （原标题：44岁女子跑深圳约会网友被拒，暴雨中裸身奔走……）\\r\\n@深圳交警微博称：昨日清...      0"
      ]
     },
     "execution_count": 9,
     "metadata": {},
     "output_type": "execute_result"
    }
   ],
   "source": [
    "news.head()"
   ]
  },
  {
   "cell_type": "code",
   "execution_count": 10,
   "metadata": {},
   "outputs": [
    {
     "data": {
      "text/plain": [
       "1    78661\n",
       "0    10950\n",
       "Name: label, dtype: int64"
      ]
     },
     "execution_count": 10,
     "metadata": {},
     "output_type": "execute_result"
    }
   ],
   "source": [
    "news['label'].value_counts()"
   ]
  },
  {
   "cell_type": "code",
   "execution_count": 11,
   "metadata": {},
   "outputs": [],
   "source": [
    "corpus = news['content'].tolist()"
   ]
  },
  {
   "cell_type": "code",
   "execution_count": 12,
   "metadata": {},
   "outputs": [
    {
     "name": "stderr",
     "output_type": "stream",
     "text": [
      "Building prefix dict from the default dictionary ...\n",
      "Loading model from cache C:\\Users\\ZHANGB~1\\AppData\\Local\\Temp\\jieba.cache\n",
      "Loading model cost 0.857 seconds.\n",
      "Prefix dict has been built succesfully.\n"
     ]
    }
   ],
   "source": [
    "clean_corpus = list()\n",
    "for sentence in corpus:\n",
    "    sentence = ''.join(re.findall(r'\\w+', str(sentence)))\n",
    "    clean_corpus.append(' '.join(jieba.cut(sentence)))"
   ]
  },
  {
   "cell_type": "code",
   "execution_count": 15,
   "metadata": {},
   "outputs": [
    {
     "data": {
      "text/plain": [
       "['此外 自 本周 6 月 12 日起 除 小米 手机 6 等 15 款 机型 外 其余 机型 已 暂停 更新 发布 含 开发 版 体验版 内测 稳定版 暂不受 影响 以 确保 工程师 可以 集中 全部 精力 进行 系统优化 工作 有人 猜测 这 也 是 将 精力 主要 用到 MIUI9 的 研发 之中 MIUI8 去年 5 月 发布 距今已有 一年 有余 也 是 时候 更新换代 了 当然 关于 MIUI9 的 确切 信息 我们 还是 等待 官方消息']"
      ]
     },
     "execution_count": 15,
     "metadata": {},
     "output_type": "execute_result"
    }
   ],
   "source": [
    "clean_corpus[:1]"
   ]
  },
  {
   "cell_type": "code",
   "execution_count": 13,
   "metadata": {},
   "outputs": [],
   "source": [
    "y = news['label'].values.astype(np.int)"
   ]
  },
  {
   "cell_type": "code",
   "execution_count": 14,
   "metadata": {},
   "outputs": [
    {
     "data": {
      "text/plain": [
       "((89611,), 89611)"
      ]
     },
     "execution_count": 14,
     "metadata": {},
     "output_type": "execute_result"
    }
   ],
   "source": [
    "y.shape, len(clean_corpus)"
   ]
  },
  {
   "cell_type": "markdown",
   "metadata": {},
   "source": [
    "### Step3: 使用tfidf进行文本向量化"
   ]
  },
  {
   "cell_type": "markdown",
   "metadata": {},
   "source": [
    "参考 https://scikit-learn.org/stable/modules/generated/sklearn.feature_extraction.text.TfidfVectorizer.html 对"
   ]
  },
  {
   "cell_type": "markdown",
   "metadata": {},
   "source": [
    "对文本进行向量化"
   ]
  },
  {
   "cell_type": "code",
   "execution_count": 16,
   "metadata": {},
   "outputs": [],
   "source": [
    "from pyltp import Segmentor\n",
    "from pyltp import SentenceSplitter\n",
    "from sklearn.feature_extraction.text import TfidfVectorizer"
   ]
  },
  {
   "cell_type": "code",
   "execution_count": 57,
   "metadata": {},
   "outputs": [],
   "source": [
    "vectorizer = TfidfVectorizer(use_idf=True, max_features=1000, token_pattern=r'\\w+') # max_features "
   ]
  },
  {
   "cell_type": "code",
   "execution_count": 58,
   "metadata": {},
   "outputs": [],
   "source": [
    "X = vectorizer.fit_transform(clean_corpus) # X is the term-document matrix of the whole corpus"
   ]
  },
  {
   "cell_type": "code",
   "execution_count": 59,
   "metadata": {},
   "outputs": [
    {
     "data": {
      "text/plain": [
       "<1x1000 sparse matrix of type '<class 'numpy.float64'>'\n",
       "\twith 36 stored elements in Compressed Sparse Row format>"
      ]
     },
     "execution_count": 59,
     "metadata": {},
     "output_type": "execute_result"
    }
   ],
   "source": [
    "X[0]"
   ]
  },
  {
   "cell_type": "code",
   "execution_count": 60,
   "metadata": {},
   "outputs": [
    {
     "data": {
      "text/html": [
       "<div>\n",
       "<style scoped>\n",
       "    .dataframe tbody tr th:only-of-type {\n",
       "        vertical-align: middle;\n",
       "    }\n",
       "\n",
       "    .dataframe tbody tr th {\n",
       "        vertical-align: top;\n",
       "    }\n",
       "\n",
       "    .dataframe thead th {\n",
       "        text-align: right;\n",
       "    }\n",
       "</style>\n",
       "<table border=\"1\" class=\"dataframe\">\n",
       "  <thead>\n",
       "    <tr style=\"text-align: right;\">\n",
       "      <th></th>\n",
       "      <th>tfidf</th>\n",
       "    </tr>\n",
       "  </thead>\n",
       "  <tbody>\n",
       "    <tr>\n",
       "      <th>发布</th>\n",
       "      <td>0.315998</td>\n",
       "    </tr>\n",
       "    <tr>\n",
       "      <th>6</th>\n",
       "      <td>0.215984</td>\n",
       "    </tr>\n",
       "    <tr>\n",
       "      <th>也</th>\n",
       "      <td>0.213918</td>\n",
       "    </tr>\n",
       "    <tr>\n",
       "      <th>手机</th>\n",
       "      <td>0.210384</td>\n",
       "    </tr>\n",
       "    <tr>\n",
       "      <th>研发</th>\n",
       "      <td>0.206915</td>\n",
       "    </tr>\n",
       "    <tr>\n",
       "      <th>时候</th>\n",
       "      <td>0.198877</td>\n",
       "    </tr>\n",
       "    <tr>\n",
       "      <th>集中</th>\n",
       "      <td>0.195529</td>\n",
       "    </tr>\n",
       "    <tr>\n",
       "      <th>确保</th>\n",
       "      <td>0.195319</td>\n",
       "    </tr>\n",
       "    <tr>\n",
       "      <th>开发</th>\n",
       "      <td>0.192860</td>\n",
       "    </tr>\n",
       "    <tr>\n",
       "      <th>一年</th>\n",
       "      <td>0.191815</td>\n",
       "    </tr>\n",
       "    <tr>\n",
       "      <th>外</th>\n",
       "      <td>0.187894</td>\n",
       "    </tr>\n",
       "    <tr>\n",
       "      <th>全部</th>\n",
       "      <td>0.180548</td>\n",
       "    </tr>\n",
       "    <tr>\n",
       "      <th>关于</th>\n",
       "      <td>0.177072</td>\n",
       "    </tr>\n",
       "    <tr>\n",
       "      <th>是</th>\n",
       "      <td>0.175682</td>\n",
       "    </tr>\n",
       "    <tr>\n",
       "      <th>此外</th>\n",
       "      <td>0.173935</td>\n",
       "    </tr>\n",
       "  </tbody>\n",
       "</table>\n",
       "</div>"
      ],
      "text/plain": [
       "       tfidf\n",
       "发布  0.315998\n",
       "6   0.215984\n",
       "也   0.213918\n",
       "手机  0.210384\n",
       "研发  0.206915\n",
       "时候  0.198877\n",
       "集中  0.195529\n",
       "确保  0.195319\n",
       "开发  0.192860\n",
       "一年  0.191815\n",
       "外   0.187894\n",
       "全部  0.180548\n",
       "关于  0.177072\n",
       "是   0.175682\n",
       "此外  0.173935"
      ]
     },
     "execution_count": 60,
     "metadata": {},
     "output_type": "execute_result"
    }
   ],
   "source": [
    "# get the first vector out (for the first document)\n",
    "first_vector_tfidfvectorizer=X[0]\n",
    " \n",
    "# place tf-idf values in a pandas data frame\n",
    "df = pd.DataFrame(first_vector_tfidfvectorizer.T.todense(), index=vectorizer.get_feature_names(), columns=[\"tfidf\"])\n",
    "df.sort_values(by=[\"tfidf\"],ascending=False).head(15)"
   ]
  },
  {
   "cell_type": "code",
   "execution_count": 61,
   "metadata": {},
   "outputs": [],
   "source": [
    "X = X.toarray()"
   ]
  },
  {
   "cell_type": "code",
   "execution_count": 62,
   "metadata": {},
   "outputs": [
    {
     "data": {
      "text/plain": [
       "((89611, 1000), (89611,))"
      ]
     },
     "execution_count": 62,
     "metadata": {},
     "output_type": "execute_result"
    }
   ],
   "source": [
    "X.shape, y.shape"
   ]
  },
  {
   "cell_type": "markdown",
   "metadata": {},
   "source": [
    "### 数据集不平衡，现在有连个策略：\n",
    "1. Oversample 非新华社文章\n",
    "2. 产生多一些非新华社文章"
   ]
  },
  {
   "cell_type": "code",
   "execution_count": 16,
   "metadata": {},
   "outputs": [
    {
     "name": "stdout",
     "output_type": "stream",
     "text": [
      "Collecting imblearn.over_sampling\n"
     ]
    },
    {
     "name": "stderr",
     "output_type": "stream",
     "text": [
      "  ERROR: Could not find a version that satisfies the requirement imblearn.over_sampling (from versions: none)\n",
      "ERROR: No matching distribution found for imblearn.over_sampling\n"
     ]
    }
   ],
   "source": [
    "!pip install imblearn.over_sampling"
   ]
  },
  {
   "cell_type": "code",
   "execution_count": 1,
   "metadata": {},
   "outputs": [],
   "source": [
    "from imblearn.over_sampling import SMOTE, ADASYN"
   ]
  },
  {
   "cell_type": "code",
   "execution_count": 346,
   "metadata": {},
   "outputs": [],
   "source": [
    "X_resampled, y_resampled = SMOTE().fit_resample(X, y)"
   ]
  },
  {
   "cell_type": "code",
   "execution_count": 347,
   "metadata": {},
   "outputs": [
    {
     "data": {
      "text/plain": [
       "(157322, 157322, 89611, 89611)"
      ]
     },
     "execution_count": 347,
     "metadata": {},
     "output_type": "execute_result"
    }
   ],
   "source": [
    "len(X_resampled), len(y_resampled), len(X), len(y)"
   ]
  },
  {
   "cell_type": "markdown",
   "metadata": {},
   "source": [
    "### Step4: 参考scikit-learning的方法，构建你的第一个机器学习模型"
   ]
  },
  {
   "cell_type": "markdown",
   "metadata": {},
   "source": [
    "+ 按照课程讲解的内容，把数据集分割为 traning_data, validation_data, test_data. https://scikit-learn.org/stable/modules/generated/sklearn.model_selection.train_test_split.html"
   ]
  },
  {
   "cell_type": "markdown",
   "metadata": {},
   "source": [
    "+ 参照scikit learning的示例，从构建你的第一个KNN机器学习模型。"
   ]
  },
  {
   "cell_type": "code",
   "execution_count": 26,
   "metadata": {},
   "outputs": [],
   "source": [
    "import numpy as np\n",
    "from sklearn.model_selection import train_test_split\n",
    "import matplotlib.pyplot as plt\n",
    "%matplotlib inline"
   ]
  },
  {
   "cell_type": "code",
   "execution_count": 348,
   "metadata": {},
   "outputs": [],
   "source": [
    "X_train, X_test, Y_train, Y_test = train_test_split(X_resampled, y_resampled, test_size = 0.2, random_state = 1, stratify = y_resampled) # Split the data into training and testing set"
   ]
  },
  {
   "cell_type": "code",
   "execution_count": 352,
   "metadata": {},
   "outputs": [],
   "source": [
    "x_train, x_valid, y_train, y_valid = train_test_split(X_train, Y_train, test_size = 0.2, random_state = 1)\n",
    "# Further split train set into training and validation set\n",
    "# test_size represents the proportion of the dataset to include in the test split"
   ]
  },
  {
   "cell_type": "markdown",
   "metadata": {},
   "source": [
    "对第一篇新闻做个小测试：\n",
    "手动写一个predict函数，运用KNN的原理，通过找出最相似的5篇新闻，做一个投票，看它是不是新华社的新闻。如果最相似的5篇新闻里有三篇或以上都属于新华社，则该新闻也来自新华社。然而，结果不对。测试结果是有三篇新华社文章出现在最相似文章中，可是该文章事实上不是新华社的。>>>> 可见该方法并不准确。还是需要调用sklearn.neighbors的KNeighborsClassifer"
   ]
  },
  {
   "cell_type": "code",
   "execution_count": 274,
   "metadata": {},
   "outputs": [],
   "source": [
    "def model(X, y):\n",
    "    return [(Xi, yi) for Xi, yi in zip(X, y)]"
   ]
  },
  {
   "cell_type": "code",
   "execution_count": 278,
   "metadata": {},
   "outputs": [],
   "source": [
    "model = model(X_train, y_train)"
   ]
  },
  {
   "cell_type": "code",
   "execution_count": 314,
   "metadata": {},
   "outputs": [
    {
     "data": {
      "text/plain": [
       "(<1x1637193 sparse matrix of type '<class 'numpy.float64'>'\n",
       " \twith 36 stored elements in Compressed Sparse Row format>, 0)"
      ]
     },
     "execution_count": 314,
     "metadata": {},
     "output_type": "execute_result"
    }
   ],
   "source": [
    "model[0]"
   ]
  },
  {
   "cell_type": "code",
   "execution_count": 277,
   "metadata": {},
   "outputs": [],
   "source": [
    "def similarity(x1, x2):\n",
    "    return cosine_similarity(x1, x2)"
   ]
  },
  {
   "cell_type": "code",
   "execution_count": 281,
   "metadata": {},
   "outputs": [
    {
     "data": {
      "text/plain": [
       "array([[0.]])"
      ]
     },
     "execution_count": 281,
     "metadata": {},
     "output_type": "execute_result"
    }
   ],
   "source": [
    "similarity(model[1][0],model[4][0])"
   ]
  },
  {
   "cell_type": "code",
   "execution_count": 313,
   "metadata": {},
   "outputs": [],
   "source": [
    "def counter(most_similars, k= 5):\n",
    "    count = 0\n",
    "    for i in range(len(most_similars)):\n",
    "        count += most_similars[i][1]\n",
    "    prediction = count / k\n",
    "    return prediction"
   ]
  },
  {
   "cell_type": "code",
   "execution_count": 286,
   "metadata": {},
   "outputs": [],
   "source": [
    "def predict(x,  k = 5):\n",
    "    most_similars = sorted(model, key=lambda xi: similarity(xi[0], x))[:k]\n",
    "    # key parameter to specify a function to be called on each list element prior to making comparisons.\n",
    "    return most_similars"
   ]
  },
  {
   "cell_type": "code",
   "execution_count": 283,
   "metadata": {},
   "outputs": [],
   "source": [
    "test1 = predict(model[0][0], k =5)"
   ]
  },
  {
   "cell_type": "code",
   "execution_count": 316,
   "metadata": {},
   "outputs": [
    {
     "data": {
      "text/plain": [
       "array([[0.]])"
      ]
     },
     "execution_count": 316,
     "metadata": {},
     "output_type": "execute_result"
    }
   ],
   "source": [
    "similarity(model[0][0], model[1][0])"
   ]
  },
  {
   "cell_type": "code",
   "execution_count": 307,
   "metadata": {},
   "outputs": [
    {
     "data": {
      "text/plain": [
       "0.6"
      ]
     },
     "execution_count": 307,
     "metadata": {},
     "output_type": "execute_result"
    }
   ],
   "source": [
    "counter(test1) # 超过0.5，说明预测该文章为新华社文章"
   ]
  },
  {
   "cell_type": "code",
   "execution_count": 398,
   "metadata": {},
   "outputs": [
    {
     "data": {
      "text/plain": [
       "'快科技@http://www.kkj.cn/'"
      ]
     },
     "execution_count": 398,
     "metadata": {},
     "output_type": "execute_result"
    }
   ],
   "source": [
    "content['source'].iloc[0] # 第一篇文章不是来自新华社的"
   ]
  },
  {
   "cell_type": "markdown",
   "metadata": {},
   "source": [
    "### Step5: 在traning_data, validation_data, test_data 上观察其相关metric: recall, precision, f1等， 并解释其含义. "
   ]
  },
  {
   "cell_type": "markdown",
   "metadata": {},
   "source": [
    "### KNN"
   ]
  },
  {
   "cell_type": "code",
   "execution_count": 92,
   "metadata": {},
   "outputs": [],
   "source": [
    "from sklearn.linear_model import LinearRegression\n",
    "from sklearn.metrics.pairwise import cosine_similarity\n",
    "from sklearn.neighbors import KNeighborsClassifier\n",
    "from sklearn.metrics import f1_score, recall_score, precision_score, roc_auc_score"
   ]
  },
  {
   "cell_type": "code",
   "execution_count": 93,
   "metadata": {},
   "outputs": [
    {
     "data": {
      "text/plain": [
       "KNeighborsClassifier(algorithm='auto', leaf_size=30, metric='minkowski',\n",
       "                     metric_params=None, n_jobs=-1, n_neighbors=5, p=2,\n",
       "                     weights='uniform')"
      ]
     },
     "execution_count": 93,
     "metadata": {},
     "output_type": "execute_result"
    }
   ],
   "source": [
    "KNC = KNeighborsClassifier(n_neighbors= 5, algorithm='auto', leaf_size=30, p=2, metric_params=None, n_jobs=-1)\n",
    "KNC.fit(X_train, Y_train)"
   ]
  },
  {
   "cell_type": "code",
   "execution_count": 101,
   "metadata": {},
   "outputs": [
    {
     "name": "stdout",
     "output_type": "stream",
     "text": [
      "Accuracy: 0.9222228421581209\n",
      "Precision: 0.9775527875840938\n",
      "Recall: 0.9328163732282464\n",
      "F1: 0.9546607688805049\n",
      "ROC AUC Score: 0.8894675473447168\n"
     ]
    }
   ],
   "source": [
    "KNC_metrics = metrics(KNC) # 很慢"
   ]
  },
  {
   "cell_type": "markdown",
   "metadata": {},
   "source": [
    "### 另一种metric：K-Fold Cross-Validation\n",
    "The train-test-split method we used in earlier is called ‘holdout’. Cross-validation is better than using the holdout method because the holdout method score is dependent on how the data is split into train and test sets. Cross-validation gives the model an opportunity to test on multiple splits so we can get a better idea on how the model will perform on unseen data."
   ]
  },
  {
   "cell_type": "code",
   "execution_count": 102,
   "metadata": {},
   "outputs": [],
   "source": [
    "from sklearn.model_selection import cross_val_score"
   ]
  },
  {
   "cell_type": "code",
   "execution_count": 103,
   "metadata": {},
   "outputs": [],
   "source": [
    "cv_scores = cross_val_score(KNC, X, y, cv=5)"
   ]
  },
  {
   "cell_type": "code",
   "execution_count": 104,
   "metadata": {},
   "outputs": [
    {
     "data": {
      "text/plain": [
       "array([0.88807677, 0.86312912, 0.86619797, 0.89186475, 0.88667559])"
      ]
     },
     "execution_count": 104,
     "metadata": {},
     "output_type": "execute_result"
    }
   ],
   "source": [
    "cv_scores"
   ]
  },
  {
   "cell_type": "code",
   "execution_count": 105,
   "metadata": {},
   "outputs": [
    {
     "name": "stdout",
     "output_type": "stream",
     "text": [
      "cv_scores means:0.8791888396744463\n"
     ]
    }
   ],
   "source": [
    "print('cv_scores means:{}'.format(np.mean(cv_scores)))"
   ]
  },
  {
   "cell_type": "markdown",
   "metadata": {},
   "source": [
    "Use cross-validation, our mean score is about 0.911.比不用cross_validation低。这个数据才更有说服力。"
   ]
  },
  {
   "cell_type": "markdown",
   "metadata": {},
   "source": [
    "### 总结一下，评价模型好坏的metrics有这些：（分别用训练集，验证集，和测试集）"
   ]
  },
  {
   "cell_type": "code",
   "execution_count": 29,
   "metadata": {},
   "outputs": [],
   "source": [
    "def metrics_on_train(model):\n",
    "    accuracy = model.score(x_train, y_train)\n",
    "    precision = precision_score(y_train, model.predict(x_train))\n",
    "    recall = recall_score(y_train, model.predict(x_train))\n",
    "    f1 = f1_score(y_train, model.predict(x_train))\n",
    "    roc_auc = roc_auc_score(y_train, model.predict(x_train))\n",
    "    # cv_scores = np.mean(cross_val_score(model, X, y, cv=5))\n",
    "    print('Accuracy: {}\\nPrecision: {}\\nRecall: {}\\nF1: {}\\nROC AUC Score: {}'.format(accuracy, precision, recall, f1, roc_auc))\n",
    "    return [accuracy, precision, recall, f1, roc_auc]"
   ]
  },
  {
   "cell_type": "code",
   "execution_count": 30,
   "metadata": {},
   "outputs": [],
   "source": [
    "def metrics_on_valid(model):\n",
    "    accuracy = model.score(x_valid, y_valid)\n",
    "    precision = precision_score(y_valid, model.predict(x_valid))\n",
    "    recall = recall_score(y_valid, model.predict(x_valid))\n",
    "    f1 = f1_score(y_valid, model.predict(x_valid))\n",
    "    roc_auc = roc_auc_score(y_valid, model.predict(x_valid))\n",
    "    # cv_scores = np.mean(cross_val_score(model, X, y, cv=5))\n",
    "    print('Accuracy: {}\\nPrecision: {}\\nRecall: {}\\nF1: {}\\nROC AUC Score: {}'.format(accuracy, precision, recall, f1, roc_auc))\n",
    "    return [accuracy, precision, recall, f1, roc_auc]"
   ]
  },
  {
   "cell_type": "code",
   "execution_count": 31,
   "metadata": {},
   "outputs": [],
   "source": [
    "def metrics(model):\n",
    "    accuracy = model.score(X_test, Y_test)\n",
    "    precision = precision_score(Y_test, model.predict(X_test))\n",
    "    recall = recall_score(Y_test, model.predict(X_test))\n",
    "    f1 = f1_score(Y_test, model.predict(X_test))\n",
    "    roc_auc = roc_auc_score(Y_test, model.predict(X_test))\n",
    "    # cv_scores = np.mean(cross_val_score(model, X, y, cv=5))\n",
    "    print('Accuracy: {}\\nPrecision: {}\\nRecall: {}\\nF1: {}\\nROC AUC Score: {}'.format(accuracy, precision, recall, f1, roc_auc))\n",
    "    return [accuracy, precision, recall, f1, roc_auc]"
   ]
  },
  {
   "cell_type": "markdown",
   "metadata": {},
   "source": [
    "### 继续尝试新的模型"
   ]
  },
  {
   "cell_type": "markdown",
   "metadata": {},
   "source": [
    "### Logistic Regression"
   ]
  },
  {
   "cell_type": "code",
   "execution_count": 32,
   "metadata": {},
   "outputs": [],
   "source": [
    "from sklearn.linear_model import LogisticRegression"
   ]
  },
  {
   "cell_type": "markdown",
   "metadata": {},
   "source": [
    "LR model运行很快 :)"
   ]
  },
  {
   "cell_type": "code",
   "execution_count": 66,
   "metadata": {},
   "outputs": [],
   "source": [
    "LR = LogisticRegression(solver = 'saga').fit(x_train, y_train)"
   ]
  },
  {
   "cell_type": "code",
   "execution_count": 68,
   "metadata": {},
   "outputs": [
    {
     "name": "stdout",
     "output_type": "stream",
     "text": [
      "Accuracy: 0.9960944038386431\n",
      "Precision: 0.9983455297486478\n",
      "Recall: 0.9972033305790377\n",
      "F1: 0.9977741032816076\n",
      "ROC AUC Score: 0.9926655922301582\n"
     ]
    }
   ],
   "source": [
    "LR_metrics = metrics(LR)"
   ]
  },
  {
   "cell_type": "code",
   "execution_count": 70,
   "metadata": {},
   "outputs": [
    {
     "name": "stdout",
     "output_type": "stream",
     "text": [
      "Accuracy: 0.9974019180470793\n",
      "Precision: 0.9988467579981309\n",
      "Recall: 0.9981917895322497\n",
      "F1: 0.9985191663602302\n",
      "ROC AUC Score: 0.9949671931715918\n"
     ]
    },
    {
     "data": {
      "text/plain": [
       "[0.9974019180470793,\n",
       " 0.9988467579981309,\n",
       " 0.9981917895322497,\n",
       " 0.9985191663602302,\n",
       " 0.9949671931715918]"
      ]
     },
     "execution_count": 70,
     "metadata": {},
     "output_type": "execute_result"
    }
   ],
   "source": [
    "metrics_on_train(LR)"
   ]
  },
  {
   "cell_type": "code",
   "execution_count": 71,
   "metadata": {},
   "outputs": [
    {
     "name": "stdout",
     "output_type": "stream",
     "text": [
      "Accuracy: 0.9959548054121914\n",
      "Precision: 0.9979358526516354\n",
      "Recall: 0.9974607205205523\n",
      "F1: 0.9976982300182554\n",
      "ROC AUC Score: 0.9912418809976034\n"
     ]
    },
    {
     "data": {
      "text/plain": [
       "[0.9959548054121914,\n",
       " 0.9979358526516354,\n",
       " 0.9974607205205523,\n",
       " 0.9976982300182554,\n",
       " 0.9912418809976034]"
      ]
     },
     "execution_count": 71,
     "metadata": {},
     "output_type": "execute_result"
    }
   ],
   "source": [
    "metrics_on_valid(LR)"
   ]
  },
  {
   "cell_type": "markdown",
   "metadata": {},
   "source": [
    "### SVM\n",
    "Support vector machines (SVMs) are a set of supervised learning methods used for classification, regression and outliers detection."
   ]
  },
  {
   "cell_type": "code",
   "execution_count": 88,
   "metadata": {},
   "outputs": [],
   "source": [
    "from sklearn import svm\n",
    "from sklearn.svm import LinearSVC"
   ]
  },
  {
   "cell_type": "code",
   "execution_count": 469,
   "metadata": {},
   "outputs": [],
   "source": [
    "SVM = svm.SVC(probability= True).fit(x_train, y_train) # SVC很慢，以至于我不敢尝试调参，但metrics效果很好，ROC AUC Score到了0.96"
   ]
  },
  {
   "cell_type": "code",
   "execution_count": 89,
   "metadata": {},
   "outputs": [],
   "source": [
    "LinearSVM = LinearSVC().fit(x_train, y_train)\n",
    "# Similar to SVC with parameter kernel=’linear’, \n",
    "# but implemented in terms of liblinear rather than libsvm, \n",
    "# so it has more flexibility in the choice of penalties and loss functions and should scale better to large numbers of samples."
   ]
  },
  {
   "cell_type": "code",
   "execution_count": 90,
   "metadata": {},
   "outputs": [
    {
     "name": "stdout",
     "output_type": "stream",
     "text": [
      "Accuracy: 0.9972102884561737\n",
      "Precision: 0.9991089045891414\n",
      "Recall: 0.9977118159283036\n",
      "F1: 0.9984098715176187\n",
      "ROC AUC Score: 0.9956595609321883\n"
     ]
    }
   ],
   "source": [
    "LinearSVM_metrics = metrics(LinearSVM)"
   ]
  },
  {
   "cell_type": "code",
   "execution_count": 354,
   "metadata": {},
   "outputs": [
    {
     "data": {
      "text/plain": [
       "array([[15695,    37],\n",
       "       [   26, 15707]], dtype=int64)"
      ]
     },
     "execution_count": 354,
     "metadata": {},
     "output_type": "execute_result"
    }
   ],
   "source": [
    "from sklearn.metrics import confusion_matrix\n",
    "confusion_matrix(Y_test, LinearSVM.predict(X_test))"
   ]
  },
  {
   "cell_type": "markdown",
   "metadata": {},
   "source": [
    "### Gaussian Naive Bayes\n",
    "Naive Bayes methods are a set of supervised learning algorithms based on applying Bayes’ theorem with the “naive” assumption of conditional independence between every pair of features given the value of the class variable. GaussianNB implements the Gaussian Naive Bayes algorithm for classification. The likelihood of the features is assumed to be Gaussian."
   ]
  },
  {
   "cell_type": "code",
   "execution_count": 42,
   "metadata": {},
   "outputs": [],
   "source": [
    "from sklearn.naive_bayes import GaussianNB, MultinomialNB, ComplementNB"
   ]
  },
  {
   "cell_type": "code",
   "execution_count": 72,
   "metadata": {},
   "outputs": [],
   "source": [
    "GNB = GaussianNB().fit(x_train, y_train)"
   ]
  },
  {
   "cell_type": "code",
   "execution_count": 73,
   "metadata": {},
   "outputs": [
    {
     "name": "stdout",
     "output_type": "stream",
     "text": [
      "Accuracy: 0.9859398538191151\n",
      "Precision: 0.9927430135591062\n",
      "Recall: 0.9912286277251636\n",
      "F1: 0.9919852426690414\n",
      "ROC AUC Score: 0.9695869166023079\n"
     ]
    }
   ],
   "source": [
    "GNB_metrics = metrics(GNB)"
   ]
  },
  {
   "cell_type": "markdown",
   "metadata": {},
   "source": [
    "ComplementNB implements the complement naive Bayes (CNB) algorithm. CNB is an adaptation of the standard multinomial naive Bayes (MNB) algorithm that is particularly suited for imbalanced data sets. Specifically, CNB uses statistics from the complement of each class to compute the model’s weights. The inventors of CNB show empirically that the parameter estimates for CNB are more stable than those for MNB. Further, CNB regularly outperforms MNB (often by a considerable margin) on text classification tasks."
   ]
  },
  {
   "cell_type": "code",
   "execution_count": 74,
   "metadata": {},
   "outputs": [],
   "source": [
    "CNB = ComplementNB().fit(x_train, y_train)"
   ]
  },
  {
   "cell_type": "code",
   "execution_count": 75,
   "metadata": {},
   "outputs": [
    {
     "name": "stdout",
     "output_type": "stream",
     "text": [
      "Accuracy: 0.881716230541762\n",
      "Precision: 0.9953424059384324\n",
      "Recall: 0.8693192652386703\n",
      "F1: 0.9280721992264368\n",
      "ROC AUC Score: 0.9200477604732166\n"
     ]
    }
   ],
   "source": [
    "CNB_metrics = metrics(CNB)"
   ]
  },
  {
   "cell_type": "markdown",
   "metadata": {},
   "source": [
    "MNB"
   ]
  },
  {
   "cell_type": "code",
   "execution_count": 76,
   "metadata": {},
   "outputs": [],
   "source": [
    "MNB = MultinomialNB().fit(x_train, y_train)"
   ]
  },
  {
   "cell_type": "code",
   "execution_count": 77,
   "metadata": {},
   "outputs": [
    {
     "name": "stdout",
     "output_type": "stream",
     "text": [
      "Accuracy: 0.9390726998828322\n",
      "Precision: 0.9783077425677883\n",
      "Recall: 0.951693891819742\n",
      "F1: 0.9648173207036536\n",
      "ROC AUC Score: 0.9000478591518801\n"
     ]
    }
   ],
   "source": [
    "MNB_metrics = metrics(MNB)"
   ]
  },
  {
   "cell_type": "markdown",
   "metadata": {},
   "source": [
    "### Decision Tree\n",
    "Decision Trees (DTs) are a non-parametric supervised learning method used for classification and regression. The goal is to create a model that predicts the value of a target variable by learning simple decision rules inferred from the data features."
   ]
  },
  {
   "cell_type": "code",
   "execution_count": 51,
   "metadata": {},
   "outputs": [],
   "source": [
    "from sklearn import tree"
   ]
  },
  {
   "cell_type": "code",
   "execution_count": 78,
   "metadata": {},
   "outputs": [],
   "source": [
    "DT = tree.DecisionTreeClassifier().fit(x_train, y_train)"
   ]
  },
  {
   "cell_type": "code",
   "execution_count": 79,
   "metadata": {},
   "outputs": [
    {
     "data": {
      "text/plain": [
       "[<matplotlib.text.Annotation at 0x1c7d9628518>,\n",
       " <matplotlib.text.Annotation at 0x1c7d8370780>,\n",
       " <matplotlib.text.Annotation at 0x1c7d8370da0>,\n",
       " <matplotlib.text.Annotation at 0x1c7d8980358>,\n",
       " <matplotlib.text.Annotation at 0x1c7d89808d0>,\n",
       " <matplotlib.text.Annotation at 0x1c7d8980e48>,\n",
       " <matplotlib.text.Annotation at 0x1c780400400>,\n",
       " <matplotlib.text.Annotation at 0x1c780400978>,\n",
       " <matplotlib.text.Annotation at 0x1c780400ef0>,\n",
       " <matplotlib.text.Annotation at 0x1c7804194a8>,\n",
       " <matplotlib.text.Annotation at 0x1c780419a20>,\n",
       " <matplotlib.text.Annotation at 0x1c780419f98>,\n",
       " <matplotlib.text.Annotation at 0x1c780073550>,\n",
       " <matplotlib.text.Annotation at 0x1c780073ac8>,\n",
       " <matplotlib.text.Annotation at 0x1c780046080>,\n",
       " <matplotlib.text.Annotation at 0x1c7800465f8>,\n",
       " <matplotlib.text.Annotation at 0x1c780046b70>,\n",
       " <matplotlib.text.Annotation at 0x1c7d98c8128>,\n",
       " <matplotlib.text.Annotation at 0x1c7d7b8e588>,\n",
       " <matplotlib.text.Annotation at 0x1c7d8583f60>,\n",
       " <matplotlib.text.Annotation at 0x1c7d7ca6588>,\n",
       " <matplotlib.text.Annotation at 0x1c7d7f60b70>,\n",
       " <matplotlib.text.Annotation at 0x1c7d8a6fb38>,\n",
       " <matplotlib.text.Annotation at 0x1c7d9796160>,\n",
       " <matplotlib.text.Annotation at 0x1c7d98c8240>,\n",
       " <matplotlib.text.Annotation at 0x1c7d98c86a0>,\n",
       " <matplotlib.text.Annotation at 0x1c7d98c8b70>,\n",
       " <matplotlib.text.Annotation at 0x1c7d8707128>,\n",
       " <matplotlib.text.Annotation at 0x1c7d8a6f438>,\n",
       " <matplotlib.text.Annotation at 0x1c7d9796ac8>,\n",
       " <matplotlib.text.Annotation at 0x1c7d9779908>,\n",
       " <matplotlib.text.Annotation at 0x1c7d98c5588>,\n",
       " <matplotlib.text.Annotation at 0x1c7d73b6278>,\n",
       " <matplotlib.text.Annotation at 0x1c7d73b60f0>,\n",
       " <matplotlib.text.Annotation at 0x1c7d73b6f98>,\n",
       " <matplotlib.text.Annotation at 0x1c7d75ee748>,\n",
       " <matplotlib.text.Annotation at 0x1c7d75ee240>,\n",
       " <matplotlib.text.Annotation at 0x1c7d70f4e10>,\n",
       " <matplotlib.text.Annotation at 0x1c7d70f4c88>,\n",
       " <matplotlib.text.Annotation at 0x1c7d70f44e0>,\n",
       " <matplotlib.text.Annotation at 0x1c7d7cb8470>,\n",
       " <matplotlib.text.Annotation at 0x1c7d7cb8748>,\n",
       " <matplotlib.text.Annotation at 0x1c7d7cb8278>,\n",
       " <matplotlib.text.Annotation at 0x1c7d70fa4a8>,\n",
       " <matplotlib.text.Annotation at 0x1c7d70fa780>,\n",
       " <matplotlib.text.Annotation at 0x1c7d70fa278>,\n",
       " <matplotlib.text.Annotation at 0x1c7d7700518>,\n",
       " <matplotlib.text.Annotation at 0x1c7d7700da0>,\n",
       " <matplotlib.text.Annotation at 0x1c7d7700278>,\n",
       " <matplotlib.text.Annotation at 0x1c7d7eae6d8>,\n",
       " <matplotlib.text.Annotation at 0x1c7d7eae940>,\n",
       " <matplotlib.text.Annotation at 0x1c7d7eaea20>,\n",
       " <matplotlib.text.Annotation at 0x1c7d78b1c88>,\n",
       " <matplotlib.text.Annotation at 0x1c7d78b17f0>,\n",
       " <matplotlib.text.Annotation at 0x1c7d78b1080>,\n",
       " <matplotlib.text.Annotation at 0x1c7d980ce48>,\n",
       " <matplotlib.text.Annotation at 0x1c7d980cd30>,\n",
       " <matplotlib.text.Annotation at 0x1c7d980c048>,\n",
       " <matplotlib.text.Annotation at 0x1c7d76bfc88>,\n",
       " <matplotlib.text.Annotation at 0x1c7d76bfda0>,\n",
       " <matplotlib.text.Annotation at 0x1c7d760c320>,\n",
       " <matplotlib.text.Annotation at 0x1c7d760cf60>,\n",
       " <matplotlib.text.Annotation at 0x1c7d760c940>,\n",
       " <matplotlib.text.Annotation at 0x1c7d80e8278>,\n",
       " <matplotlib.text.Annotation at 0x1c7d80e8550>,\n",
       " <matplotlib.text.Annotation at 0x1c7d80e87b8>,\n",
       " <matplotlib.text.Annotation at 0x1c7d76329e8>,\n",
       " <matplotlib.text.Annotation at 0x1c7d76327b8>,\n",
       " <matplotlib.text.Annotation at 0x1c7d76328d0>,\n",
       " <matplotlib.text.Annotation at 0x1c7d7381630>,\n",
       " <matplotlib.text.Annotation at 0x1c7d7381b00>,\n",
       " <matplotlib.text.Annotation at 0x1c7d73817f0>,\n",
       " <matplotlib.text.Annotation at 0x1c7d7f6ee80>,\n",
       " <matplotlib.text.Annotation at 0x1c7d7f6edd8>,\n",
       " <matplotlib.text.Annotation at 0x1c7d7f6eb70>,\n",
       " <matplotlib.text.Annotation at 0x1c7d78e5550>,\n",
       " <matplotlib.text.Annotation at 0x1c7d78e5438>,\n",
       " <matplotlib.text.Annotation at 0x1c7d6e18668>,\n",
       " <matplotlib.text.Annotation at 0x1c7d78e5978>,\n",
       " <matplotlib.text.Annotation at 0x1c7d78e5da0>,\n",
       " <matplotlib.text.Annotation at 0x1c7d7f6e198>,\n",
       " <matplotlib.text.Annotation at 0x1c7d7f6e828>,\n",
       " <matplotlib.text.Annotation at 0x1c7d7f6eb38>,\n",
       " <matplotlib.text.Annotation at 0x1c7d7381668>,\n",
       " <matplotlib.text.Annotation at 0x1c7d7381048>,\n",
       " <matplotlib.text.Annotation at 0x1c7d7381a58>,\n",
       " <matplotlib.text.Annotation at 0x1c7d7632ef0>,\n",
       " <matplotlib.text.Annotation at 0x1c7d7632048>,\n",
       " <matplotlib.text.Annotation at 0x1c7d7632470>,\n",
       " <matplotlib.text.Annotation at 0x1c7d80e8f98>,\n",
       " <matplotlib.text.Annotation at 0x1c7d80e8860>,\n",
       " <matplotlib.text.Annotation at 0x1c7d80e8400>,\n",
       " <matplotlib.text.Annotation at 0x1c7d760cc88>,\n",
       " <matplotlib.text.Annotation at 0x1c7d760c9b0>,\n",
       " <matplotlib.text.Annotation at 0x1c7d760c438>,\n",
       " <matplotlib.text.Annotation at 0x1c7d76bf518>,\n",
       " <matplotlib.text.Annotation at 0x1c7d76bfe10>,\n",
       " <matplotlib.text.Annotation at 0x1c7d980c278>,\n",
       " <matplotlib.text.Annotation at 0x1c7d980ccc0>,\n",
       " <matplotlib.text.Annotation at 0x1c7d980c710>,\n",
       " <matplotlib.text.Annotation at 0x1c7d78b1978>,\n",
       " <matplotlib.text.Annotation at 0x1c7d78b1198>,\n",
       " <matplotlib.text.Annotation at 0x1c7d78b1438>,\n",
       " <matplotlib.text.Annotation at 0x1c7d7eae128>,\n",
       " <matplotlib.text.Annotation at 0x1c7d7eaec18>,\n",
       " <matplotlib.text.Annotation at 0x1c7d7eae710>,\n",
       " <matplotlib.text.Annotation at 0x1c7d7700eb8>,\n",
       " <matplotlib.text.Annotation at 0x1c7d7700898>,\n",
       " <matplotlib.text.Annotation at 0x1c7d77002b0>,\n",
       " <matplotlib.text.Annotation at 0x1c7d70fa3c8>,\n",
       " <matplotlib.text.Annotation at 0x1c7d70fa358>,\n",
       " <matplotlib.text.Annotation at 0x1c7d70fa080>,\n",
       " <matplotlib.text.Annotation at 0x1c7d7cb8cf8>,\n",
       " <matplotlib.text.Annotation at 0x1c7d7cb8908>,\n",
       " <matplotlib.text.Annotation at 0x1c7d7cb83c8>,\n",
       " <matplotlib.text.Annotation at 0x1c7d70f4b70>,\n",
       " <matplotlib.text.Annotation at 0x1c7d70f4e80>,\n",
       " <matplotlib.text.Annotation at 0x1c7d70f42b0>,\n",
       " <matplotlib.text.Annotation at 0x1c7d75eeba8>,\n",
       " <matplotlib.text.Annotation at 0x1c7d75ee400>,\n",
       " <matplotlib.text.Annotation at 0x1c7d73b69e8>,\n",
       " <matplotlib.text.Annotation at 0x1c7d73b62e8>,\n",
       " <matplotlib.text.Annotation at 0x1c7d73b64e0>,\n",
       " <matplotlib.text.Annotation at 0x1c7d98c55f8>,\n",
       " <matplotlib.text.Annotation at 0x1c7d97795f8>,\n",
       " <matplotlib.text.Annotation at 0x1c7d97962b0>,\n",
       " <matplotlib.text.Annotation at 0x1c7d8a6ff28>,\n",
       " <matplotlib.text.Annotation at 0x1c7d769c2e8>,\n",
       " <matplotlib.text.Annotation at 0x1c7d98c8b38>,\n",
       " <matplotlib.text.Annotation at 0x1c7d769cf60>,\n",
       " <matplotlib.text.Annotation at 0x1c7d77898d0>,\n",
       " <matplotlib.text.Annotation at 0x1c7d98c8668>,\n",
       " <matplotlib.text.Annotation at 0x1c7d7789710>,\n",
       " <matplotlib.text.Annotation at 0x1c7d760b668>,\n",
       " <matplotlib.text.Annotation at 0x1c7d98c8208>,\n",
       " <matplotlib.text.Annotation at 0x1c7d760b3c8>,\n",
       " <matplotlib.text.Annotation at 0x1c7d78fb4a8>,\n",
       " <matplotlib.text.Annotation at 0x1c7d9796e10>,\n",
       " <matplotlib.text.Annotation at 0x1c7d78fbdd8>,\n",
       " <matplotlib.text.Annotation at 0x1c7d7ab30f0>,\n",
       " <matplotlib.text.Annotation at 0x1c7d8a6feb8>,\n",
       " <matplotlib.text.Annotation at 0x1c7d7ab3dd8>,\n",
       " <matplotlib.text.Annotation at 0x1c7d987ffd0>,\n",
       " <matplotlib.text.Annotation at 0x1c7d7f60668>,\n",
       " <matplotlib.text.Annotation at 0x1c7d987f0b8>,\n",
       " <matplotlib.text.Annotation at 0x1c7d7df6ef0>,\n",
       " <matplotlib.text.Annotation at 0x1c7d7ca6400>,\n",
       " <matplotlib.text.Annotation at 0x1c7d7df62e8>,\n",
       " <matplotlib.text.Annotation at 0x1c7d7b2e710>,\n",
       " <matplotlib.text.Annotation at 0x1c7d8583ba8>,\n",
       " <matplotlib.text.Annotation at 0x1c7d7b2ee80>,\n",
       " <matplotlib.text.Annotation at 0x1c7d7765860>,\n",
       " <matplotlib.text.Annotation at 0x1c7d7b8e908>,\n",
       " <matplotlib.text.Annotation at 0x1c7d7765b70>,\n",
       " <matplotlib.text.Annotation at 0x1c7d7324ef0>,\n",
       " <matplotlib.text.Annotation at 0x1c7d98c80f0>,\n",
       " <matplotlib.text.Annotation at 0x1c7d7324780>,\n",
       " <matplotlib.text.Annotation at 0x1c7d77adb38>,\n",
       " <matplotlib.text.Annotation at 0x1c780046b38>,\n",
       " <matplotlib.text.Annotation at 0x1c7d77adf60>,\n",
       " <matplotlib.text.Annotation at 0x1c7d89a2a20>,\n",
       " <matplotlib.text.Annotation at 0x1c7800465c0>,\n",
       " <matplotlib.text.Annotation at 0x1c780046048>,\n",
       " <matplotlib.text.Annotation at 0x1c780073a90>,\n",
       " <matplotlib.text.Annotation at 0x1c780073518>,\n",
       " <matplotlib.text.Annotation at 0x1c780419f60>,\n",
       " <matplotlib.text.Annotation at 0x1c7804199e8>,\n",
       " <matplotlib.text.Annotation at 0x1c780419470>,\n",
       " <matplotlib.text.Annotation at 0x1c7d82bc908>,\n",
       " <matplotlib.text.Annotation at 0x1c7d78d2ac8>,\n",
       " <matplotlib.text.Annotation at 0x1c7d78d2a20>,\n",
       " <matplotlib.text.Annotation at 0x1c7d78d2320>,\n",
       " <matplotlib.text.Annotation at 0x1c7d88dc6a0>,\n",
       " <matplotlib.text.Annotation at 0x1c7d88dc9b0>,\n",
       " <matplotlib.text.Annotation at 0x1c7d7843e80>,\n",
       " <matplotlib.text.Annotation at 0x1c7d78434a8>,\n",
       " <matplotlib.text.Annotation at 0x1c7d7843240>,\n",
       " <matplotlib.text.Annotation at 0x1c7d71a1668>,\n",
       " <matplotlib.text.Annotation at 0x1c7d71a15f8>,\n",
       " <matplotlib.text.Annotation at 0x1c7d71a14a8>,\n",
       " <matplotlib.text.Annotation at 0x1c7d7843f98>,\n",
       " <matplotlib.text.Annotation at 0x1c7d7843748>,\n",
       " <matplotlib.text.Annotation at 0x1c7d7843b38>,\n",
       " <matplotlib.text.Annotation at 0x1c7d88dc5c0>,\n",
       " <matplotlib.text.Annotation at 0x1c7d88dc2b0>,\n",
       " <matplotlib.text.Annotation at 0x1c7d983e668>,\n",
       " <matplotlib.text.Annotation at 0x1c7d74515f8>,\n",
       " <matplotlib.text.Annotation at 0x1c7d78d2a58>,\n",
       " <matplotlib.text.Annotation at 0x1c7d78d2128>,\n",
       " <matplotlib.text.Annotation at 0x1c7d78d25f8>,\n",
       " <matplotlib.text.Annotation at 0x1c7d773a278>,\n",
       " <matplotlib.text.Annotation at 0x1c7d773aa90>,\n",
       " <matplotlib.text.Annotation at 0x1c7d7262160>,\n",
       " <matplotlib.text.Annotation at 0x1c7d773acc0>,\n",
       " <matplotlib.text.Annotation at 0x1c780400eb8>,\n",
       " <matplotlib.text.Annotation at 0x1c780400940>,\n",
       " <matplotlib.text.Annotation at 0x1c7d8665ef0>,\n",
       " <matplotlib.text.Annotation at 0x1c7d86656a0>,\n",
       " <matplotlib.text.Annotation at 0x1c7d6defba8>,\n",
       " <matplotlib.text.Annotation at 0x1c7d6deff60>,\n",
       " <matplotlib.text.Annotation at 0x1c7d98aa4e0>,\n",
       " <matplotlib.text.Annotation at 0x1c7d87072e8>,\n",
       " <matplotlib.text.Annotation at 0x1c7d98aaac8>,\n",
       " <matplotlib.text.Annotation at 0x1c7d6def908>,\n",
       " <matplotlib.text.Annotation at 0x1c7d6defb38>,\n",
       " <matplotlib.text.Annotation at 0x1c7d8665b38>,\n",
       " <matplotlib.text.Annotation at 0x1c78084fcc0>,\n",
       " <matplotlib.text.Annotation at 0x1c780839278>,\n",
       " <matplotlib.text.Annotation at 0x1c7808397f0>,\n",
       " <matplotlib.text.Annotation at 0x1c780839d30>,\n",
       " <matplotlib.text.Annotation at 0x1c7808397b8>,\n",
       " <matplotlib.text.Annotation at 0x1c780839240>,\n",
       " <matplotlib.text.Annotation at 0x1c7804003c8>,\n",
       " <matplotlib.text.Annotation at 0x1c7d8980e10>,\n",
       " <matplotlib.text.Annotation at 0x1c7805176d8>,\n",
       " <matplotlib.text.Annotation at 0x1c780517c50>,\n",
       " <matplotlib.text.Annotation at 0x1c7804e0208>,\n",
       " <matplotlib.text.Annotation at 0x1c7804e0780>,\n",
       " <matplotlib.text.Annotation at 0x1c7804e0cc0>,\n",
       " <matplotlib.text.Annotation at 0x1c7804e0748>,\n",
       " <matplotlib.text.Annotation at 0x1c7804e01d0>,\n",
       " <matplotlib.text.Annotation at 0x1c780517c18>,\n",
       " <matplotlib.text.Annotation at 0x1c7801b41d0>,\n",
       " <matplotlib.text.Annotation at 0x1c7801b4748>,\n",
       " <matplotlib.text.Annotation at 0x1c7801b4c88>,\n",
       " <matplotlib.text.Annotation at 0x1c7801b4710>,\n",
       " <matplotlib.text.Annotation at 0x1c7d8980898>,\n",
       " <matplotlib.text.Annotation at 0x1c7801bfbe0>,\n",
       " <matplotlib.text.Annotation at 0x1c7808cd198>,\n",
       " <matplotlib.text.Annotation at 0x1c7808cd710>,\n",
       " <matplotlib.text.Annotation at 0x1c7808cdc88>,\n",
       " <matplotlib.text.Annotation at 0x1c7808c0240>,\n",
       " <matplotlib.text.Annotation at 0x1c7808c07b8>,\n",
       " <matplotlib.text.Annotation at 0x1c7808c0d30>,\n",
       " <matplotlib.text.Annotation at 0x1c7808ee2e8>,\n",
       " <matplotlib.text.Annotation at 0x1c7808ee860>,\n",
       " <matplotlib.text.Annotation at 0x1c7808eeda0>,\n",
       " <matplotlib.text.Annotation at 0x1c7808ee828>,\n",
       " <matplotlib.text.Annotation at 0x1c7808ee2b0>,\n",
       " <matplotlib.text.Annotation at 0x1c7801fed68>,\n",
       " <matplotlib.text.Annotation at 0x1c7801dd2e8>,\n",
       " <matplotlib.text.Annotation at 0x1c7808c0cf8>,\n",
       " <matplotlib.text.Annotation at 0x1c7808c0780>,\n",
       " <matplotlib.text.Annotation at 0x1c7808c0208>,\n",
       " <matplotlib.text.Annotation at 0x1c7808cdc50>,\n",
       " <matplotlib.text.Annotation at 0x1c7808cd6d8>,\n",
       " <matplotlib.text.Annotation at 0x1c7805991d0>,\n",
       " <matplotlib.text.Annotation at 0x1c780599710>,\n",
       " <matplotlib.text.Annotation at 0x1c7808cd160>,\n",
       " <matplotlib.text.Annotation at 0x1c780577198>,\n",
       " <matplotlib.text.Annotation at 0x1c780577710>,\n",
       " <matplotlib.text.Annotation at 0x1c780577c88>,\n",
       " <matplotlib.text.Annotation at 0x1c780589240>,\n",
       " <matplotlib.text.Annotation at 0x1c7805897b8>,\n",
       " <matplotlib.text.Annotation at 0x1c780589d30>,\n",
       " <matplotlib.text.Annotation at 0x1c7821f62b0>,\n",
       " <matplotlib.text.Annotation at 0x1c780589cf8>,\n",
       " <matplotlib.text.Annotation at 0x1c780589780>,\n",
       " <matplotlib.text.Annotation at 0x1c780589208>,\n",
       " <matplotlib.text.Annotation at 0x1c780577c50>,\n",
       " <matplotlib.text.Annotation at 0x1c7805776d8>,\n",
       " <matplotlib.text.Annotation at 0x1c7821ef1d0>,\n",
       " <matplotlib.text.Annotation at 0x1c7821ef710>,\n",
       " <matplotlib.text.Annotation at 0x1c7d8980320>,\n",
       " <matplotlib.text.Annotation at 0x1c7d8370d68>,\n",
       " <matplotlib.text.Annotation at 0x1c782202630>,\n",
       " <matplotlib.text.Annotation at 0x1c782202ba8>,\n",
       " <matplotlib.text.Annotation at 0x1c7822c6128>,\n",
       " <matplotlib.text.Annotation at 0x1c782202b70>,\n",
       " <matplotlib.text.Annotation at 0x1c7822c6ba8>,\n",
       " <matplotlib.text.Annotation at 0x1c7822cf160>,\n",
       " <matplotlib.text.Annotation at 0x1c7822cf6d8>,\n",
       " <matplotlib.text.Annotation at 0x1c7822cfc50>,\n",
       " <matplotlib.text.Annotation at 0x1c7822d4208>,\n",
       " <matplotlib.text.Annotation at 0x1c7822d4748>,\n",
       " <matplotlib.text.Annotation at 0x1c7822d41d0>,\n",
       " <matplotlib.text.Annotation at 0x1c7803bf208>,\n",
       " <matplotlib.text.Annotation at 0x1c7803bf748>,\n",
       " <matplotlib.text.Annotation at 0x1c7822cfc18>,\n",
       " <matplotlib.text.Annotation at 0x1c7803a21d0>,\n",
       " <matplotlib.text.Annotation at 0x1c7803a2710>,\n",
       " <matplotlib.text.Annotation at 0x1c7822cf6a0>,\n",
       " <matplotlib.text.Annotation at 0x1c7803df198>,\n",
       " <matplotlib.text.Annotation at 0x1c7803df6d8>,\n",
       " <matplotlib.text.Annotation at 0x1c7803dfc50>,\n",
       " <matplotlib.text.Annotation at 0x1c7805281d0>,\n",
       " <matplotlib.text.Annotation at 0x1c7822cf128>,\n",
       " <matplotlib.text.Annotation at 0x1c780528be0>,\n",
       " <matplotlib.text.Annotation at 0x1c780541160>]"
      ]
     },
     "execution_count": 79,
     "metadata": {},
     "output_type": "execute_result"
    },
    {
     "data": {
      "image/png": "[encoded data removed]",
      "text/plain": [
       "<matplotlib.figure.Figure at 0x1c78180b630>"
      ]
     },
     "metadata": {
      "needs_background": "light"
     },
     "output_type": "display_data"
    }
   ],
   "source": [
    "tree.plot_tree(DT)"
   ]
  },
  {
   "cell_type": "code",
   "execution_count": 80,
   "metadata": {},
   "outputs": [
    {
     "name": "stdout",
     "output_type": "stream",
     "text": [
      "Accuracy: 0.997042905763544\n",
      "Precision: 0.9986008649198678\n",
      "Recall: 0.9980296192715947\n",
      "F1: 0.9983151603776583\n",
      "ROC AUC Score: 0.993991978585569\n"
     ]
    }
   ],
   "source": [
    "DT_metrics = metrics(DT)"
   ]
  },
  {
   "cell_type": "markdown",
   "metadata": {},
   "source": [
    "### Random Forest\n",
    "A random forest is a meta estimator that fits a number of decision tree classifiers on various sub-samples of the dataset and uses averaging to improve the predictive accuracy and control over-fitting."
   ]
  },
  {
   "cell_type": "code",
   "execution_count": 82,
   "metadata": {},
   "outputs": [],
   "source": [
    "from sklearn.ensemble import RandomForestClassifier"
   ]
  },
  {
   "cell_type": "code",
   "execution_count": 85,
   "metadata": {},
   "outputs": [],
   "source": [
    "RF = RandomForestClassifier(n_estimators = 100, random_state = 1).fit(x_train, y_train)"
   ]
  },
  {
   "cell_type": "code",
   "execution_count": 86,
   "metadata": {},
   "outputs": [
    {
     "name": "stdout",
     "output_type": "stream",
     "text": [
      "Accuracy: 0.9968197288400379\n",
      "Precision: 0.9975876079228034\n",
      "Recall: 0.9987923472954936\n",
      "F1: 0.9981896141019533\n",
      "ROC AUC Score: 0.9907203745609889\n"
     ]
    }
   ],
   "source": [
    "RF_metrics = metrics(RF)"
   ]
  },
  {
   "cell_type": "markdown",
   "metadata": {},
   "source": [
    "### 总结一下，各个模型的metrics如何？"
   ]
  },
  {
   "cell_type": "code",
   "execution_count": 115,
   "metadata": {},
   "outputs": [],
   "source": [
    "result = pd.DataFrame({\n",
    "    'Model': ['Linear SVM', 'KNN', 'Logistic Regression', \n",
    "              'Random Forest', 'Naive Bayes',  \n",
    "              'Decision Tree'],\n",
    "    'Score': [LinearSVM_metrics[0],KNC_metrics[0], LR_metrics[0], RF_metrics[0], GNB_metrics[0], DT_metrics[0]],\n",
    "    'Precision Score': [LinearSVM_metrics[1],KNC_metrics[1], LR_metrics[1], RF_metrics[1], GNB_metrics[1], DT_metrics[1]],\n",
    "    'Recall Score': [LinearSVM_metrics[2],KNC_metrics[2], LR_metrics[2], RF_metrics[2], GNB_metrics[2], DT_metrics[2]],\n",
    "    'F1 Score': [LinearSVM_metrics[3],KNC_metrics[3], LR_metrics[3], RF_metrics[3], GNB_metrics[3], DT_metrics[3]],\n",
    "    'ROC AUC Score': [LinearSVM_metrics[4],KNC_metrics[4], LR_metrics[4], RF_metrics[4], GNB_metrics[4], DT_metrics[4]],\n",
    "})\n"
   ]
  },
  {
   "cell_type": "code",
   "execution_count": 116,
   "metadata": {},
   "outputs": [
    {
     "data": {
      "text/html": [
       "<div>\n",
       "<style scoped>\n",
       "    .dataframe tbody tr th:only-of-type {\n",
       "        vertical-align: middle;\n",
       "    }\n",
       "\n",
       "    .dataframe tbody tr th {\n",
       "        vertical-align: top;\n",
       "    }\n",
       "\n",
       "    .dataframe thead th {\n",
       "        text-align: right;\n",
       "    }\n",
       "</style>\n",
       "<table border=\"1\" class=\"dataframe\">\n",
       "  <thead>\n",
       "    <tr style=\"text-align: right;\">\n",
       "      <th></th>\n",
       "      <th>Model</th>\n",
       "      <th>Score</th>\n",
       "      <th>Precision Score</th>\n",
       "      <th>Recall Score</th>\n",
       "      <th>F1 Score</th>\n",
       "      <th>ROC AUC Score</th>\n",
       "    </tr>\n",
       "  </thead>\n",
       "  <tbody>\n",
       "    <tr>\n",
       "      <th>0</th>\n",
       "      <td>Linear SVM</td>\n",
       "      <td>0.997210</td>\n",
       "      <td>0.999109</td>\n",
       "      <td>0.997712</td>\n",
       "      <td>0.998410</td>\n",
       "      <td>0.995660</td>\n",
       "    </tr>\n",
       "    <tr>\n",
       "      <th>1</th>\n",
       "      <td>KNN</td>\n",
       "      <td>0.922223</td>\n",
       "      <td>0.977553</td>\n",
       "      <td>0.932816</td>\n",
       "      <td>0.954661</td>\n",
       "      <td>0.889468</td>\n",
       "    </tr>\n",
       "    <tr>\n",
       "      <th>2</th>\n",
       "      <td>Logistic Regression</td>\n",
       "      <td>0.996094</td>\n",
       "      <td>0.998346</td>\n",
       "      <td>0.997203</td>\n",
       "      <td>0.997774</td>\n",
       "      <td>0.992666</td>\n",
       "    </tr>\n",
       "    <tr>\n",
       "      <th>3</th>\n",
       "      <td>Random Forest</td>\n",
       "      <td>0.996820</td>\n",
       "      <td>0.997588</td>\n",
       "      <td>0.998792</td>\n",
       "      <td>0.998190</td>\n",
       "      <td>0.990720</td>\n",
       "    </tr>\n",
       "    <tr>\n",
       "      <th>4</th>\n",
       "      <td>Naive Bayes</td>\n",
       "      <td>0.985940</td>\n",
       "      <td>0.992743</td>\n",
       "      <td>0.991229</td>\n",
       "      <td>0.991985</td>\n",
       "      <td>0.969587</td>\n",
       "    </tr>\n",
       "    <tr>\n",
       "      <th>5</th>\n",
       "      <td>Decision Tree</td>\n",
       "      <td>0.997043</td>\n",
       "      <td>0.998601</td>\n",
       "      <td>0.998030</td>\n",
       "      <td>0.998315</td>\n",
       "      <td>0.993992</td>\n",
       "    </tr>\n",
       "  </tbody>\n",
       "</table>\n",
       "</div>"
      ],
      "text/plain": [
       "                 Model     Score  Precision Score  Recall Score  F1 Score  \\\n",
       "0           Linear SVM  0.997210         0.999109      0.997712  0.998410   \n",
       "1                  KNN  0.922223         0.977553      0.932816  0.954661   \n",
       "2  Logistic Regression  0.996094         0.998346      0.997203  0.997774   \n",
       "3        Random Forest  0.996820         0.997588      0.998792  0.998190   \n",
       "4          Naive Bayes  0.985940         0.992743      0.991229  0.991985   \n",
       "5        Decision Tree  0.997043         0.998601      0.998030  0.998315   \n",
       "\n",
       "   ROC AUC Score  \n",
       "0       0.995660  \n",
       "1       0.889468  \n",
       "2       0.992666  \n",
       "3       0.990720  \n",
       "4       0.969587  \n",
       "5       0.993992  "
      ]
     },
     "execution_count": 116,
     "metadata": {},
     "output_type": "execute_result"
    }
   ],
   "source": [
    "result"
   ]
  },
  {
   "cell_type": "markdown",
   "metadata": {},
   "source": [
    "### Step6: 使用 test_data 对其进行新数据的判断"
   ]
  },
  {
   "cell_type": "code",
   "execution_count": 421,
   "metadata": {},
   "outputs": [],
   "source": [
    "result = KNC.predict(X_test)"
   ]
  },
  {
   "cell_type": "code",
   "execution_count": 426,
   "metadata": {},
   "outputs": [],
   "source": [
    "output = list()\n",
    "for i in range(len(result)):\n",
    "    output.append([Y_test[i], result[i]])"
   ]
  },
  {
   "cell_type": "code",
   "execution_count": 427,
   "metadata": {},
   "outputs": [
    {
     "data": {
      "text/plain": [
       "[[1, 1],\n",
       " [1, 1],\n",
       " [0, 0],\n",
       " [1, 1],\n",
       " [1, 1],\n",
       " [1, 1],\n",
       " [1, 1],\n",
       " [1, 1],\n",
       " [1, 1],\n",
       " [0, 0],\n",
       " [1, 1],\n",
       " [1, 1],\n",
       " [1, 1],\n",
       " [0, 0],\n",
       " [1, 1],\n",
       " [1, 1],\n",
       " [0, 1],\n",
       " [1, 1],\n",
       " [1, 1],\n",
       " [1, 1],\n",
       " [1, 1],\n",
       " [1, 1],\n",
       " [0, 1],\n",
       " [0, 0],\n",
       " [1, 1],\n",
       " [1, 1],\n",
       " [1, 1],\n",
       " [1, 1],\n",
       " [0, 1],\n",
       " [1, 0],\n",
       " [1, 1],\n",
       " [1, 1],\n",
       " [1, 1],\n",
       " [1, 1],\n",
       " [1, 1],\n",
       " [1, 1],\n",
       " [1, 1],\n",
       " [1, 1],\n",
       " [1, 1],\n",
       " [1, 1],\n",
       " [1, 1],\n",
       " [1, 1],\n",
       " [1, 1],\n",
       " [1, 1],\n",
       " [1, 1],\n",
       " [1, 1],\n",
       " [1, 1],\n",
       " [1, 1],\n",
       " [1, 1],\n",
       " [1, 1],\n",
       " [1, 1],\n",
       " [1, 1],\n",
       " [1, 1],\n",
       " [1, 1],\n",
       " [1, 1],\n",
       " [1, 1],\n",
       " [1, 1],\n",
       " [1, 1],\n",
       " [1, 1],\n",
       " [1, 1],\n",
       " [1, 1],\n",
       " [0, 0],\n",
       " [1, 1],\n",
       " [1, 1],\n",
       " [1, 1],\n",
       " [0, 0],\n",
       " [0, 1],\n",
       " [1, 1],\n",
       " [0, 1],\n",
       " [0, 0],\n",
       " [1, 1],\n",
       " [1, 1],\n",
       " [1, 1],\n",
       " [1, 1],\n",
       " [1, 1],\n",
       " [1, 1],\n",
       " [1, 1],\n",
       " [1, 1],\n",
       " [1, 1],\n",
       " [1, 1],\n",
       " [1, 1],\n",
       " [1, 1],\n",
       " [1, 1],\n",
       " [1, 1],\n",
       " [1, 1],\n",
       " [1, 1],\n",
       " [1, 1],\n",
       " [1, 1],\n",
       " [1, 1],\n",
       " [1, 1],\n",
       " [1, 1],\n",
       " [1, 1],\n",
       " [1, 1],\n",
       " [1, 1],\n",
       " [0, 0],\n",
       " [1, 1],\n",
       " [1, 1],\n",
       " [1, 1],\n",
       " [0, 0],\n",
       " [0, 0],\n",
       " [1, 1],\n",
       " [1, 1],\n",
       " [1, 1],\n",
       " [1, 1],\n",
       " [1, 1],\n",
       " [1, 1],\n",
       " [1, 1],\n",
       " [1, 1],\n",
       " [1, 1],\n",
       " [0, 0],\n",
       " [1, 1],\n",
       " [1, 1],\n",
       " [1, 1],\n",
       " [0, 1],\n",
       " [1, 1],\n",
       " [1, 1],\n",
       " [1, 1],\n",
       " [1, 1],\n",
       " [1, 1],\n",
       " [1, 1],\n",
       " [1, 1],\n",
       " [1, 1],\n",
       " [1, 1],\n",
       " [1, 1],\n",
       " [1, 1],\n",
       " [1, 1],\n",
       " [0, 0],\n",
       " [1, 1],\n",
       " [1, 1],\n",
       " [1, 1],\n",
       " [1, 1],\n",
       " [1, 1],\n",
       " [1, 1],\n",
       " [1, 1],\n",
       " [1, 1],\n",
       " [1, 1],\n",
       " [0, 0],\n",
       " [1, 1],\n",
       " [1, 1],\n",
       " [1, 1],\n",
       " [1, 1],\n",
       " [1, 1],\n",
       " [1, 1],\n",
       " [1, 1],\n",
       " [1, 1],\n",
       " [1, 1],\n",
       " [1, 1],\n",
       " [1, 1],\n",
       " [1, 1],\n",
       " [0, 0],\n",
       " [1, 1],\n",
       " [1, 1],\n",
       " [1, 1],\n",
       " [1, 1],\n",
       " [1, 1],\n",
       " [0, 1],\n",
       " [1, 1],\n",
       " [1, 1],\n",
       " [1, 1],\n",
       " [0, 0],\n",
       " [1, 1],\n",
       " [1, 1],\n",
       " [1, 1],\n",
       " [1, 1],\n",
       " [1, 1],\n",
       " [0, 1],\n",
       " [1, 1],\n",
       " [1, 1],\n",
       " [1, 1],\n",
       " [1, 1],\n",
       " [1, 1],\n",
       " [1, 1],\n",
       " [1, 1],\n",
       " [1, 1],\n",
       " [1, 1],\n",
       " [1, 1],\n",
       " [1, 1],\n",
       " [1, 1],\n",
       " [0, 1],\n",
       " [0, 1],\n",
       " [1, 1],\n",
       " [1, 1],\n",
       " [1, 1],\n",
       " [1, 1],\n",
       " [1, 1],\n",
       " [1, 1],\n",
       " [1, 1],\n",
       " [1, 1],\n",
       " [0, 0],\n",
       " [1, 1],\n",
       " [0, 0],\n",
       " [1, 1],\n",
       " [1, 1],\n",
       " [1, 1],\n",
       " [1, 1],\n",
       " [1, 1],\n",
       " [1, 1],\n",
       " [1, 1],\n",
       " [1, 1],\n",
       " [1, 1],\n",
       " [0, 0],\n",
       " [0, 0],\n",
       " [1, 1],\n",
       " [1, 1],\n",
       " [1, 1],\n",
       " [1, 1],\n",
       " [0, 1],\n",
       " [1, 1],\n",
       " [1, 1],\n",
       " [1, 1],\n",
       " [1, 1],\n",
       " [0, 0],\n",
       " [1, 1],\n",
       " [1, 1],\n",
       " [1, 1],\n",
       " [1, 1],\n",
       " [1, 0],\n",
       " [1, 1],\n",
       " [1, 1],\n",
       " [1, 1],\n",
       " [1, 1],\n",
       " [1, 1],\n",
       " [1, 1],\n",
       " [1, 1],\n",
       " [1, 1],\n",
       " [1, 1],\n",
       " [1, 1],\n",
       " [1, 1],\n",
       " [1, 1],\n",
       " [1, 0],\n",
       " [1, 1],\n",
       " [1, 1],\n",
       " [1, 1],\n",
       " [1, 1],\n",
       " [1, 1],\n",
       " [1, 1],\n",
       " [1, 1],\n",
       " [1, 1],\n",
       " [1, 1],\n",
       " [1, 1],\n",
       " [1, 1],\n",
       " [1, 1],\n",
       " [1, 1],\n",
       " [1, 1],\n",
       " [1, 0],\n",
       " [1, 1],\n",
       " [0, 0],\n",
       " [1, 1],\n",
       " [1, 1],\n",
       " [0, 0],\n",
       " [0, 0],\n",
       " [1, 1],\n",
       " [1, 1],\n",
       " [1, 1],\n",
       " [1, 1],\n",
       " [1, 1],\n",
       " [1, 1],\n",
       " [1, 1],\n",
       " [1, 1],\n",
       " [1, 1],\n",
       " [0, 0],\n",
       " [1, 1],\n",
       " [1, 1],\n",
       " [1, 1],\n",
       " [1, 1],\n",
       " [1, 0],\n",
       " [0, 0],\n",
       " [1, 1],\n",
       " [1, 1],\n",
       " [1, 1],\n",
       " [1, 1],\n",
       " [1, 1],\n",
       " [1, 1],\n",
       " [1, 1],\n",
       " [1, 1],\n",
       " [1, 0],\n",
       " [1, 1],\n",
       " [1, 1],\n",
       " [1, 1],\n",
       " [1, 1],\n",
       " [1, 1],\n",
       " [1, 1],\n",
       " [1, 1],\n",
       " [1, 1],\n",
       " [1, 0],\n",
       " [0, 0],\n",
       " [1, 1],\n",
       " [1, 1],\n",
       " [1, 1],\n",
       " [0, 0],\n",
       " [1, 1],\n",
       " [1, 1],\n",
       " [1, 1],\n",
       " [1, 1],\n",
       " [1, 1],\n",
       " [1, 1],\n",
       " [1, 1],\n",
       " [1, 1],\n",
       " [0, 0],\n",
       " [1, 1],\n",
       " [1, 0],\n",
       " [1, 1],\n",
       " [1, 1],\n",
       " [1, 1],\n",
       " [1, 1],\n",
       " [1, 1],\n",
       " [1, 1],\n",
       " [1, 1],\n",
       " [1, 1],\n",
       " [1, 1],\n",
       " [1, 1],\n",
       " [1, 1],\n",
       " [1, 1],\n",
       " [1, 1],\n",
       " [1, 1],\n",
       " [1, 1],\n",
       " [0, 0],\n",
       " [1, 1],\n",
       " [0, 0],\n",
       " [1, 1],\n",
       " [1, 1],\n",
       " [1, 1],\n",
       " [1, 1],\n",
       " [1, 1],\n",
       " [1, 1],\n",
       " [1, 1],\n",
       " [1, 1],\n",
       " [1, 1],\n",
       " [0, 0],\n",
       " [1, 1],\n",
       " [1, 1],\n",
       " [0, 0],\n",
       " [1, 1],\n",
       " [1, 1],\n",
       " [1, 1],\n",
       " [1, 1],\n",
       " [1, 1],\n",
       " [1, 1],\n",
       " [1, 1],\n",
       " [1, 1],\n",
       " [0, 1],\n",
       " [1, 1],\n",
       " [1, 1],\n",
       " [1, 1],\n",
       " [1, 1],\n",
       " [1, 1],\n",
       " [1, 1],\n",
       " [1, 1],\n",
       " [0, 0],\n",
       " [1, 1],\n",
       " [0, 0],\n",
       " [1, 1],\n",
       " [0, 1],\n",
       " [1, 1],\n",
       " [1, 1],\n",
       " [1, 1],\n",
       " [1, 1],\n",
       " [0, 0],\n",
       " [1, 1],\n",
       " [1, 1],\n",
       " [1, 1],\n",
       " [1, 1],\n",
       " [1, 1],\n",
       " [1, 1],\n",
       " [1, 1],\n",
       " [1, 1],\n",
       " [1, 1],\n",
       " [1, 1],\n",
       " [1, 1],\n",
       " [0, 0],\n",
       " [1, 1],\n",
       " [1, 1],\n",
       " [1, 1],\n",
       " [1, 1],\n",
       " [1, 1],\n",
       " [0, 1],\n",
       " [1, 1],\n",
       " [1, 1],\n",
       " [1, 1],\n",
       " [1, 1],\n",
       " [1, 1],\n",
       " [1, 1],\n",
       " [1, 1],\n",
       " [1, 1],\n",
       " [1, 1],\n",
       " [1, 1],\n",
       " [1, 1],\n",
       " [1, 1],\n",
       " [1, 1],\n",
       " [1, 1],\n",
       " [1, 1],\n",
       " [1, 1],\n",
       " [1, 1],\n",
       " [1, 1],\n",
       " [1, 1],\n",
       " [0, 0],\n",
       " [1, 1],\n",
       " [1, 1],\n",
       " [0, 1],\n",
       " [1, 1],\n",
       " [1, 1],\n",
       " [0, 0],\n",
       " [1, 1],\n",
       " [1, 1],\n",
       " [1, 1],\n",
       " [0, 0],\n",
       " [1, 1],\n",
       " [1, 1],\n",
       " [1, 0],\n",
       " [0, 0],\n",
       " [1, 1],\n",
       " [0, 0],\n",
       " [1, 1],\n",
       " [1, 1],\n",
       " [1, 1],\n",
       " [1, 1],\n",
       " [1, 1],\n",
       " [1, 1],\n",
       " [0, 0],\n",
       " [1, 1],\n",
       " [1, 1],\n",
       " [1, 1],\n",
       " [0, 0],\n",
       " [0, 0],\n",
       " [1, 1],\n",
       " [1, 1],\n",
       " [1, 1],\n",
       " [1, 0],\n",
       " [1, 1],\n",
       " [1, 1],\n",
       " [1, 1],\n",
       " [1, 1],\n",
       " [0, 0],\n",
       " [1, 1],\n",
       " [0, 1],\n",
       " [1, 1],\n",
       " [1, 1],\n",
       " [1, 1],\n",
       " [1, 1],\n",
       " [1, 1],\n",
       " [1, 1],\n",
       " [1, 1],\n",
       " [0, 1],\n",
       " [0, 0],\n",
       " [1, 1],\n",
       " [1, 1],\n",
       " [1, 1],\n",
       " [1, 1],\n",
       " [1, 1],\n",
       " [1, 1],\n",
       " [0, 1],\n",
       " [1, 1],\n",
       " [1, 1],\n",
       " [1, 1],\n",
       " [1, 1],\n",
       " [1, 1],\n",
       " [1, 1],\n",
       " [1, 1],\n",
       " [1, 1],\n",
       " [1, 1],\n",
       " [1, 1],\n",
       " [1, 1],\n",
       " [0, 1],\n",
       " [1, 1],\n",
       " [0, 0],\n",
       " [1, 1],\n",
       " [1, 1],\n",
       " [1, 1],\n",
       " [1, 1],\n",
       " [0, 0],\n",
       " [1, 1],\n",
       " [1, 1],\n",
       " [1, 1],\n",
       " [0, 1],\n",
       " [1, 1],\n",
       " [1, 1],\n",
       " [0, 0],\n",
       " [1, 1],\n",
       " [1, 1],\n",
       " [1, 1],\n",
       " [1, 1],\n",
       " [1, 1],\n",
       " [1, 1],\n",
       " [1, 1],\n",
       " [1, 1],\n",
       " [1, 1],\n",
       " [1, 1],\n",
       " [1, 1],\n",
       " [1, 1],\n",
       " [1, 1],\n",
       " [1, 1],\n",
       " [1, 1],\n",
       " [1, 1],\n",
       " [1, 1],\n",
       " [0, 1],\n",
       " [1, 1],\n",
       " [1, 1],\n",
       " [0, 0],\n",
       " [1, 1],\n",
       " [1, 1],\n",
       " [1, 1],\n",
       " [1, 1],\n",
       " [1, 1],\n",
       " [1, 1],\n",
       " [1, 1],\n",
       " [1, 1],\n",
       " [0, 0],\n",
       " [1, 1],\n",
       " [0, 0],\n",
       " [1, 1],\n",
       " [1, 1],\n",
       " [1, 1],\n",
       " [1, 1],\n",
       " [0, 1],\n",
       " [1, 1],\n",
       " [1, 0],\n",
       " [1, 1],\n",
       " [1, 1],\n",
       " [1, 1],\n",
       " [1, 1],\n",
       " [1, 1],\n",
       " [1, 0],\n",
       " [1, 1],\n",
       " [1, 1],\n",
       " [1, 1],\n",
       " [1, 1],\n",
       " [1, 1],\n",
       " [1, 1],\n",
       " [1, 1],\n",
       " [1, 1],\n",
       " [1, 1],\n",
       " [0, 1],\n",
       " [1, 1],\n",
       " [1, 1],\n",
       " [1, 1],\n",
       " [1, 1],\n",
       " [1, 1],\n",
       " [0, 0],\n",
       " [1, 1],\n",
       " [1, 1],\n",
       " [1, 1],\n",
       " [1, 1],\n",
       " [1, 1],\n",
       " [1, 1],\n",
       " [1, 1],\n",
       " [1, 1],\n",
       " [1, 1],\n",
       " [1, 1],\n",
       " [1, 1],\n",
       " [1, 1],\n",
       " [1, 1],\n",
       " [0, 1],\n",
       " [1, 1],\n",
       " [0, 0],\n",
       " [1, 1],\n",
       " [1, 1],\n",
       " [1, 1],\n",
       " [1, 1],\n",
       " [1, 0],\n",
       " [1, 1],\n",
       " [1, 1],\n",
       " [1, 1],\n",
       " [1, 1],\n",
       " [1, 1],\n",
       " [1, 1],\n",
       " [1, 1],\n",
       " [1, 1],\n",
       " [1, 1],\n",
       " [1, 1],\n",
       " [0, 1],\n",
       " [1, 1],\n",
       " [1, 1],\n",
       " [1, 1],\n",
       " [1, 1],\n",
       " [1, 0],\n",
       " [0, 0],\n",
       " [1, 1],\n",
       " [1, 1],\n",
       " [1, 1],\n",
       " [1, 0],\n",
       " [0, 0],\n",
       " [1, 1],\n",
       " [1, 1],\n",
       " [1, 1],\n",
       " [1, 1],\n",
       " [1, 1],\n",
       " [1, 1],\n",
       " [0, 0],\n",
       " [0, 0],\n",
       " [1, 1],\n",
       " [1, 1],\n",
       " [1, 1],\n",
       " [1, 1],\n",
       " [1, 1],\n",
       " [1, 1],\n",
       " [0, 1],\n",
       " [1, 1],\n",
       " [1, 1],\n",
       " [1, 1],\n",
       " [1, 1],\n",
       " [0, 0],\n",
       " [0, 0],\n",
       " [1, 1],\n",
       " [1, 1],\n",
       " [1, 1],\n",
       " [0, 0],\n",
       " [1, 1],\n",
       " [1, 1],\n",
       " [1, 1],\n",
       " [1, 1],\n",
       " [1, 1],\n",
       " [0, 1],\n",
       " [1, 1],\n",
       " [1, 1],\n",
       " [1, 1],\n",
       " [1, 1],\n",
       " [1, 1],\n",
       " [1, 1],\n",
       " [1, 1],\n",
       " [0, 0],\n",
       " [0, 1],\n",
       " [0, 0],\n",
       " [0, 0],\n",
       " [1, 1],\n",
       " [1, 1],\n",
       " [1, 1],\n",
       " [1, 1],\n",
       " [1, 1],\n",
       " [1, 1],\n",
       " [1, 1],\n",
       " [0, 0],\n",
       " [1, 1],\n",
       " [1, 1],\n",
       " [1, 1],\n",
       " [1, 1],\n",
       " [1, 1],\n",
       " [1, 1],\n",
       " [1, 1],\n",
       " [1, 1],\n",
       " [1, 1],\n",
       " [1, 1],\n",
       " [0, 0],\n",
       " [1, 1],\n",
       " [1, 1],\n",
       " [1, 1],\n",
       " [1, 1],\n",
       " [1, 1],\n",
       " [1, 1],\n",
       " [1, 1],\n",
       " [1, 1],\n",
       " [0, 0],\n",
       " [0, 0],\n",
       " [1, 1],\n",
       " [1, 1],\n",
       " [1, 1],\n",
       " [1, 1],\n",
       " [1, 1],\n",
       " [1, 1],\n",
       " [1, 1],\n",
       " [1, 1],\n",
       " [1, 1],\n",
       " [0, 1],\n",
       " [1, 1],\n",
       " [1, 1],\n",
       " [1, 1],\n",
       " [1, 1],\n",
       " [0, 1],\n",
       " [1, 1],\n",
       " [0, 0],\n",
       " [1, 1],\n",
       " [1, 1],\n",
       " [1, 1],\n",
       " [1, 1],\n",
       " [1, 1],\n",
       " [1, 1],\n",
       " [0, 0],\n",
       " [0, 0],\n",
       " [1, 1],\n",
       " [1, 1],\n",
       " [1, 1],\n",
       " [0, 1],\n",
       " [1, 1],\n",
       " [1, 1],\n",
       " [1, 1],\n",
       " [1, 1],\n",
       " [1, 1],\n",
       " [1, 1],\n",
       " [1, 1],\n",
       " [1, 1],\n",
       " [1, 1],\n",
       " [1, 1],\n",
       " [1, 1],\n",
       " [1, 1],\n",
       " [1, 1],\n",
       " [1, 1],\n",
       " [1, 1],\n",
       " [0, 0],\n",
       " [1, 1],\n",
       " [0, 0],\n",
       " [1, 1],\n",
       " [1, 1],\n",
       " [0, 1],\n",
       " [0, 1],\n",
       " [0, 0],\n",
       " [1, 1],\n",
       " [1, 1],\n",
       " [1, 1],\n",
       " [1, 1],\n",
       " [1, 1],\n",
       " [1, 1],\n",
       " [1, 1],\n",
       " [1, 1],\n",
       " [1, 1],\n",
       " [1, 1],\n",
       " [1, 1],\n",
       " [1, 1],\n",
       " [1, 1],\n",
       " [1, 1],\n",
       " [1, 1],\n",
       " [1, 1],\n",
       " [1, 1],\n",
       " [1, 1],\n",
       " [1, 1],\n",
       " [1, 1],\n",
       " [1, 1],\n",
       " [1, 1],\n",
       " [1, 1],\n",
       " [1, 1],\n",
       " [1, 1],\n",
       " [1, 1],\n",
       " [1, 1],\n",
       " [1, 1],\n",
       " [1, 1],\n",
       " [1, 1],\n",
       " [1, 1],\n",
       " [1, 1],\n",
       " [1, 1],\n",
       " [1, 1],\n",
       " [1, 1],\n",
       " [1, 1],\n",
       " [1, 1],\n",
       " [1, 1],\n",
       " [1, 1],\n",
       " [1, 1],\n",
       " [1, 1],\n",
       " [0, 0],\n",
       " [1, 1],\n",
       " [1, 1],\n",
       " [1, 1],\n",
       " [1, 1],\n",
       " [1, 1],\n",
       " [1, 1],\n",
       " [1, 1],\n",
       " [1, 1],\n",
       " [1, 1],\n",
       " [1, 1],\n",
       " [0, 0],\n",
       " [1, 1],\n",
       " [0, 0],\n",
       " [1, 0],\n",
       " [1, 1],\n",
       " [1, 1],\n",
       " [1, 1],\n",
       " [1, 1],\n",
       " [1, 1],\n",
       " [1, 1],\n",
       " [1, 1],\n",
       " [1, 1],\n",
       " [1, 1],\n",
       " [1, 1],\n",
       " [1, 1],\n",
       " [1, 1],\n",
       " [1, 1],\n",
       " [1, 1],\n",
       " [1, 1],\n",
       " [1, 1],\n",
       " [1, 1],\n",
       " [1, 1],\n",
       " [1, 1],\n",
       " [1, 1],\n",
       " [1, 1],\n",
       " [1, 1],\n",
       " [1, 1],\n",
       " [1, 1],\n",
       " [1, 1],\n",
       " [1, 1],\n",
       " [1, 1],\n",
       " [1, 1],\n",
       " [1, 1],\n",
       " [1, 1],\n",
       " [1, 1],\n",
       " [1, 1],\n",
       " [1, 1],\n",
       " [1, 1],\n",
       " [0, 0],\n",
       " [1, 1],\n",
       " [1, 1],\n",
       " [1, 1],\n",
       " [0, 1],\n",
       " [1, 1],\n",
       " [0, 0],\n",
       " [0, 1],\n",
       " [0, 0],\n",
       " [1, 1],\n",
       " [1, 1],\n",
       " [0, 1],\n",
       " [1, 1],\n",
       " [1, 1],\n",
       " [1, 1],\n",
       " [1, 1],\n",
       " [0, 0],\n",
       " [0, 1],\n",
       " [1, 1],\n",
       " [1, 1],\n",
       " [1, 1],\n",
       " [1, 1],\n",
       " [1, 1],\n",
       " [1, 1],\n",
       " [1, 1],\n",
       " [1, 1],\n",
       " [1, 1],\n",
       " [1, 1],\n",
       " [0, 0],\n",
       " [1, 1],\n",
       " [1, 1],\n",
       " [1, 1],\n",
       " [0, 1],\n",
       " [1, 1],\n",
       " [1, 1],\n",
       " [1, 1],\n",
       " [1, 1],\n",
       " [1, 1],\n",
       " [0, 0],\n",
       " [1, 1],\n",
       " [0, 0],\n",
       " [1, 1],\n",
       " [1, 1],\n",
       " [0, 0],\n",
       " [1, 1],\n",
       " [1, 1],\n",
       " [1, 1],\n",
       " [1, 1],\n",
       " [1, 1],\n",
       " [1, 1],\n",
       " [1, 1],\n",
       " [1, 1],\n",
       " [1, 1],\n",
       " [1, 1],\n",
       " [1, 1],\n",
       " [0, 1],\n",
       " [0, 1],\n",
       " [1, 1],\n",
       " [1, 1],\n",
       " [1, 1],\n",
       " [0, 0],\n",
       " [1, 1],\n",
       " [1, 1],\n",
       " [1, 1],\n",
       " [1, 1],\n",
       " [0, 0],\n",
       " [1, 1],\n",
       " [0, 0],\n",
       " [1, 1],\n",
       " [1, 1],\n",
       " [1, 1],\n",
       " [1, 1],\n",
       " [1, 1],\n",
       " [1, 1],\n",
       " [1, 0],\n",
       " [0, 0],\n",
       " [1, 1],\n",
       " [1, 1],\n",
       " [1, 1],\n",
       " [1, 1],\n",
       " [1, 1],\n",
       " [1, 1],\n",
       " [1, 1],\n",
       " [1, 1],\n",
       " [0, 0],\n",
       " [1, 1],\n",
       " [1, 1],\n",
       " [0, 0],\n",
       " [1, 1],\n",
       " [1, 1],\n",
       " [1, 0],\n",
       " [1, 1],\n",
       " [1, 1],\n",
       " [1, 1],\n",
       " [1, 1],\n",
       " [1, 1],\n",
       " [1, 1],\n",
       " [1, 1],\n",
       " [1, 1],\n",
       " [1, 1],\n",
       " [1, 1],\n",
       " [1, 1],\n",
       " [1, 1],\n",
       " [1, 1],\n",
       " [0, 1],\n",
       " [1, 1],\n",
       " [1, 1],\n",
       " [1, 1],\n",
       " [1, 1],\n",
       " [1, 1],\n",
       " [1, 1],\n",
       " [0, 0],\n",
       " [1, 1],\n",
       " [1, 1],\n",
       " [1, 0],\n",
       " [1, 1],\n",
       " [1, 1],\n",
       " [1, 0],\n",
       " [1, 1],\n",
       " [1, 1],\n",
       " [0, 0],\n",
       " [1, 1],\n",
       " [1, 1],\n",
       " [1, 1],\n",
       " [1, 1],\n",
       " [1, 1],\n",
       " [1, 1],\n",
       " [1, 1],\n",
       " [1, 1],\n",
       " [1, 1],\n",
       " [1, 1],\n",
       " [1, 1],\n",
       " [1, 1],\n",
       " [0, 1],\n",
       " [1, 1],\n",
       " [1, 1],\n",
       " [1, 1],\n",
       " [1, 0],\n",
       " [0, 0],\n",
       " [1, 1],\n",
       " [1, 1],\n",
       " [1, 0],\n",
       " [1, 1],\n",
       " [1, 1],\n",
       " [1, 1],\n",
       " [1, 1],\n",
       " [1, 1],\n",
       " [1, 1],\n",
       " [1, 1],\n",
       " [1, 0],\n",
       " [1, 1],\n",
       " [1, 1],\n",
       " [1, 1],\n",
       " [1, 1],\n",
       " [1, 1],\n",
       " [1, 1],\n",
       " [1, 1],\n",
       " [1, 1],\n",
       " [0, 0],\n",
       " [1, 1],\n",
       " [1, 1],\n",
       " [1, 1],\n",
       " [1, 1],\n",
       " [0, 0],\n",
       " [1, 1],\n",
       " [1, 1],\n",
       " [1, 1],\n",
       " [1, 1],\n",
       " [1, 1],\n",
       " [1, 1],\n",
       " [1, 1],\n",
       " [1, 1],\n",
       " [1, 1],\n",
       " [0, 0],\n",
       " [1, 1],\n",
       " [1, 1],\n",
       " [1, 1],\n",
       " [0, 0],\n",
       " [1, 1],\n",
       " [1, 1],\n",
       " [1, 1],\n",
       " [1, 1],\n",
       " [1, 0],\n",
       " [1, 1],\n",
       " [1, 1],\n",
       " [1, 1],\n",
       " [1, 1],\n",
       " [1, 1],\n",
       " [0, 1],\n",
       " [1, 1],\n",
       " [1, 0],\n",
       " [1, 1],\n",
       " [1, 1],\n",
       " [1, 1],\n",
       " [1, 1],\n",
       " [1, 1],\n",
       " [1, 1],\n",
       " [1, 1],\n",
       " [1, 1],\n",
       " [1, 1],\n",
       " [0, 0],\n",
       " [1, 1],\n",
       " [1, 1],\n",
       " [1, 1],\n",
       " [0, 1],\n",
       " [1, 1],\n",
       " ...]"
      ]
     },
     "execution_count": 427,
     "metadata": {},
     "output_type": "execute_result"
    }
   ],
   "source": [
    "output # test data的[实际值，预测值]"
   ]
  },
  {
   "cell_type": "markdown",
   "metadata": {},
   "source": [
    "### Step7: 调整不同的参数，观察变化"
   ]
  },
  {
   "cell_type": "markdown",
   "metadata": {},
   "source": [
    "#### 调参：增加k的大小"
   ]
  },
  {
   "cell_type": "code",
   "execution_count": 86,
   "metadata": {},
   "outputs": [
    {
     "data": {
      "text/plain": [
       "KNeighborsClassifier(algorithm='auto', leaf_size=30, metric='minkowski',\n",
       "           metric_params=None, n_jobs=-1, n_neighbors=7, p=2,\n",
       "           weights='uniform')"
      ]
     },
     "execution_count": 86,
     "metadata": {},
     "output_type": "execute_result"
    }
   ],
   "source": [
    "KNC2 = KNeighborsClassifier(n_neighbors= 7, algorithm='auto', leaf_size=30, p=2, metric_params=None, n_jobs=-1)\n",
    "KNC2.fit(X_train, Y_train)"
   ]
  },
  {
   "cell_type": "code",
   "execution_count": 87,
   "metadata": {
    "scrolled": true
   },
   "outputs": [
    {
     "name": "stdout",
     "output_type": "stream",
     "text": [
      "Accuracy: 0.926686380628243\n",
      "Precision: 0.948547253157469\n",
      "Recall: 0.9690459543634399\n",
      "F1: 0.9586870401810978\n",
      "ROC AUC Score: 0.795710191793592\n"
     ]
    }
   ],
   "source": [
    "KNC2_metrics = metrics(KNC2)"
   ]
  },
  {
   "cell_type": "code",
   "execution_count": 412,
   "metadata": {},
   "outputs": [
    {
     "data": {
      "text/plain": [
       "0.948040172966941"
      ]
     },
     "execution_count": 412,
     "metadata": {},
     "output_type": "execute_result"
    }
   ],
   "source": [
    "KNC.score(x_valid, y_valid)"
   ]
  },
  {
   "cell_type": "code",
   "execution_count": 413,
   "metadata": {},
   "outputs": [
    {
     "data": {
      "text/plain": [
       "0.9594232189358312"
      ]
     },
     "execution_count": 413,
     "metadata": {},
     "output_type": "execute_result"
    }
   ],
   "source": [
    "precision_score(y_train, KNC.predict(x_train))"
   ]
  },
  {
   "cell_type": "markdown",
   "metadata": {},
   "source": [
    "增加k到7，反而比k=5准确率低"
   ]
  },
  {
   "cell_type": "markdown",
   "metadata": {},
   "source": [
    "#### 调参：用GridSearchCV寻找最佳K值 （运行太慢了）\n",
    "GridSearchCV works by training our model multiple times on a range of parameters that we specify. That way, we can test our model with each parameter and figure out the optimal values to get the best accuracy results."
   ]
  },
  {
   "cell_type": "code",
   "execution_count": 345,
   "metadata": {},
   "outputs": [
    {
     "ename": "KeyboardInterrupt",
     "evalue": "",
     "output_type": "error",
     "traceback": [
      "\u001b[1;31m---------------------------------------------------------------------------\u001b[0m",
      "\u001b[1;31mKeyboardInterrupt\u001b[0m                         Traceback (most recent call last)",
      "\u001b[1;32m<ipython-input-345-6c9e3387ce17>\u001b[0m in \u001b[0;36m<module>\u001b[1;34m()\u001b[0m\n\u001b[0;32m      9\u001b[0m \u001b[1;33m\u001b[0m\u001b[0m\n\u001b[0;32m     10\u001b[0m \u001b[1;31m#Fit model to data\u001b[0m\u001b[1;33m\u001b[0m\u001b[1;33m\u001b[0m\u001b[0m\n\u001b[1;32m---> 11\u001b[1;33m \u001b[0mknn_gscv\u001b[0m\u001b[1;33m.\u001b[0m\u001b[0mfit\u001b[0m\u001b[1;33m(\u001b[0m\u001b[0mX\u001b[0m\u001b[1;33m,\u001b[0m \u001b[0my\u001b[0m\u001b[1;33m)\u001b[0m\u001b[1;33m\u001b[0m\u001b[0m\n\u001b[0m",
      "\u001b[1;32m~\\Anaconda3\\lib\\site-packages\\sklearn\\model_selection\\_search.py\u001b[0m in \u001b[0;36mfit\u001b[1;34m(self, X, y, groups, **fit_params)\u001b[0m\n\u001b[0;32m    686\u001b[0m                 \u001b[1;32mreturn\u001b[0m \u001b[0mresults\u001b[0m\u001b[1;33m\u001b[0m\u001b[0m\n\u001b[0;32m    687\u001b[0m \u001b[1;33m\u001b[0m\u001b[0m\n\u001b[1;32m--> 688\u001b[1;33m             \u001b[0mself\u001b[0m\u001b[1;33m.\u001b[0m\u001b[0m_run_search\u001b[0m\u001b[1;33m(\u001b[0m\u001b[0mevaluate_candidates\u001b[0m\u001b[1;33m)\u001b[0m\u001b[1;33m\u001b[0m\u001b[0m\n\u001b[0m\u001b[0;32m    689\u001b[0m \u001b[1;33m\u001b[0m\u001b[0m\n\u001b[0;32m    690\u001b[0m         \u001b[1;31m# For multi-metric evaluation, store the best_index_, best_params_ and\u001b[0m\u001b[1;33m\u001b[0m\u001b[1;33m\u001b[0m\u001b[0m\n",
      "\u001b[1;32m~\\Anaconda3\\lib\\site-packages\\sklearn\\model_selection\\_search.py\u001b[0m in \u001b[0;36m_run_search\u001b[1;34m(self, evaluate_candidates)\u001b[0m\n\u001b[0;32m   1147\u001b[0m     \u001b[1;32mdef\u001b[0m \u001b[0m_run_search\u001b[0m\u001b[1;33m(\u001b[0m\u001b[0mself\u001b[0m\u001b[1;33m,\u001b[0m \u001b[0mevaluate_candidates\u001b[0m\u001b[1;33m)\u001b[0m\u001b[1;33m:\u001b[0m\u001b[1;33m\u001b[0m\u001b[0m\n\u001b[0;32m   1148\u001b[0m         \u001b[1;34m\"\"\"Search all candidates in param_grid\"\"\"\u001b[0m\u001b[1;33m\u001b[0m\u001b[0m\n\u001b[1;32m-> 1149\u001b[1;33m         \u001b[0mevaluate_candidates\u001b[0m\u001b[1;33m(\u001b[0m\u001b[0mParameterGrid\u001b[0m\u001b[1;33m(\u001b[0m\u001b[0mself\u001b[0m\u001b[1;33m.\u001b[0m\u001b[0mparam_grid\u001b[0m\u001b[1;33m)\u001b[0m\u001b[1;33m)\u001b[0m\u001b[1;33m\u001b[0m\u001b[0m\n\u001b[0m\u001b[0;32m   1150\u001b[0m \u001b[1;33m\u001b[0m\u001b[0m\n\u001b[0;32m   1151\u001b[0m \u001b[1;33m\u001b[0m\u001b[0m\n",
      "\u001b[1;32m~\\Anaconda3\\lib\\site-packages\\sklearn\\model_selection\\_search.py\u001b[0m in \u001b[0;36mevaluate_candidates\u001b[1;34m(candidate_params)\u001b[0m\n\u001b[0;32m    665\u001b[0m                                \u001b[1;32mfor\u001b[0m \u001b[0mparameters\u001b[0m\u001b[1;33m,\u001b[0m \u001b[1;33m(\u001b[0m\u001b[0mtrain\u001b[0m\u001b[1;33m,\u001b[0m \u001b[0mtest\u001b[0m\u001b[1;33m)\u001b[0m\u001b[1;33m\u001b[0m\u001b[0m\n\u001b[0;32m    666\u001b[0m                                in product(candidate_params,\n\u001b[1;32m--> 667\u001b[1;33m                                           cv.split(X, y, groups)))\n\u001b[0m\u001b[0;32m    668\u001b[0m \u001b[1;33m\u001b[0m\u001b[0m\n\u001b[0;32m    669\u001b[0m                 \u001b[1;32mif\u001b[0m \u001b[0mlen\u001b[0m\u001b[1;33m(\u001b[0m\u001b[0mout\u001b[0m\u001b[1;33m)\u001b[0m \u001b[1;33m<\u001b[0m \u001b[1;36m1\u001b[0m\u001b[1;33m:\u001b[0m\u001b[1;33m\u001b[0m\u001b[0m\n",
      "\u001b[1;32m~\\Anaconda3\\lib\\site-packages\\joblib\\parallel.py\u001b[0m in \u001b[0;36m__call__\u001b[1;34m(self, iterable)\u001b[0m\n\u001b[0;32m    919\u001b[0m             \u001b[1;31m# remaining jobs.\u001b[0m\u001b[1;33m\u001b[0m\u001b[1;33m\u001b[0m\u001b[0m\n\u001b[0;32m    920\u001b[0m             \u001b[0mself\u001b[0m\u001b[1;33m.\u001b[0m\u001b[0m_iterating\u001b[0m \u001b[1;33m=\u001b[0m \u001b[1;32mFalse\u001b[0m\u001b[1;33m\u001b[0m\u001b[0m\n\u001b[1;32m--> 921\u001b[1;33m             \u001b[1;32mif\u001b[0m \u001b[0mself\u001b[0m\u001b[1;33m.\u001b[0m\u001b[0mdispatch_one_batch\u001b[0m\u001b[1;33m(\u001b[0m\u001b[0miterator\u001b[0m\u001b[1;33m)\u001b[0m\u001b[1;33m:\u001b[0m\u001b[1;33m\u001b[0m\u001b[0m\n\u001b[0m\u001b[0;32m    922\u001b[0m                 \u001b[0mself\u001b[0m\u001b[1;33m.\u001b[0m\u001b[0m_iterating\u001b[0m \u001b[1;33m=\u001b[0m \u001b[0mself\u001b[0m\u001b[1;33m.\u001b[0m\u001b[0m_original_iterator\u001b[0m \u001b[1;32mis\u001b[0m \u001b[1;32mnot\u001b[0m \u001b[1;32mNone\u001b[0m\u001b[1;33m\u001b[0m\u001b[0m\n\u001b[0;32m    923\u001b[0m \u001b[1;33m\u001b[0m\u001b[0m\n",
      "\u001b[1;32m~\\Anaconda3\\lib\\site-packages\\joblib\\parallel.py\u001b[0m in \u001b[0;36mdispatch_one_batch\u001b[1;34m(self, iterator)\u001b[0m\n\u001b[0;32m    757\u001b[0m                 \u001b[1;32mreturn\u001b[0m \u001b[1;32mFalse\u001b[0m\u001b[1;33m\u001b[0m\u001b[0m\n\u001b[0;32m    758\u001b[0m             \u001b[1;32melse\u001b[0m\u001b[1;33m:\u001b[0m\u001b[1;33m\u001b[0m\u001b[0m\n\u001b[1;32m--> 759\u001b[1;33m                 \u001b[0mself\u001b[0m\u001b[1;33m.\u001b[0m\u001b[0m_dispatch\u001b[0m\u001b[1;33m(\u001b[0m\u001b[0mtasks\u001b[0m\u001b[1;33m)\u001b[0m\u001b[1;33m\u001b[0m\u001b[0m\n\u001b[0m\u001b[0;32m    760\u001b[0m                 \u001b[1;32mreturn\u001b[0m \u001b[1;32mTrue\u001b[0m\u001b[1;33m\u001b[0m\u001b[0m\n\u001b[0;32m    761\u001b[0m \u001b[1;33m\u001b[0m\u001b[0m\n",
      "\u001b[1;32m~\\Anaconda3\\lib\\site-packages\\joblib\\parallel.py\u001b[0m in \u001b[0;36m_dispatch\u001b[1;34m(self, batch)\u001b[0m\n\u001b[0;32m    714\u001b[0m         \u001b[1;32mwith\u001b[0m \u001b[0mself\u001b[0m\u001b[1;33m.\u001b[0m\u001b[0m_lock\u001b[0m\u001b[1;33m:\u001b[0m\u001b[1;33m\u001b[0m\u001b[0m\n\u001b[0;32m    715\u001b[0m             \u001b[0mjob_idx\u001b[0m \u001b[1;33m=\u001b[0m \u001b[0mlen\u001b[0m\u001b[1;33m(\u001b[0m\u001b[0mself\u001b[0m\u001b[1;33m.\u001b[0m\u001b[0m_jobs\u001b[0m\u001b[1;33m)\u001b[0m\u001b[1;33m\u001b[0m\u001b[0m\n\u001b[1;32m--> 716\u001b[1;33m             \u001b[0mjob\u001b[0m \u001b[1;33m=\u001b[0m \u001b[0mself\u001b[0m\u001b[1;33m.\u001b[0m\u001b[0m_backend\u001b[0m\u001b[1;33m.\u001b[0m\u001b[0mapply_async\u001b[0m\u001b[1;33m(\u001b[0m\u001b[0mbatch\u001b[0m\u001b[1;33m,\u001b[0m \u001b[0mcallback\u001b[0m\u001b[1;33m=\u001b[0m\u001b[0mcb\u001b[0m\u001b[1;33m)\u001b[0m\u001b[1;33m\u001b[0m\u001b[0m\n\u001b[0m\u001b[0;32m    717\u001b[0m             \u001b[1;31m# A job can complete so quickly than its callback is\u001b[0m\u001b[1;33m\u001b[0m\u001b[1;33m\u001b[0m\u001b[0m\n\u001b[0;32m    718\u001b[0m             \u001b[1;31m# called before we get here, causing self._jobs to\u001b[0m\u001b[1;33m\u001b[0m\u001b[1;33m\u001b[0m\u001b[0m\n",
      "\u001b[1;32m~\\Anaconda3\\lib\\site-packages\\joblib\\_parallel_backends.py\u001b[0m in \u001b[0;36mapply_async\u001b[1;34m(self, func, callback)\u001b[0m\n\u001b[0;32m    180\u001b[0m     \u001b[1;32mdef\u001b[0m \u001b[0mapply_async\u001b[0m\u001b[1;33m(\u001b[0m\u001b[0mself\u001b[0m\u001b[1;33m,\u001b[0m \u001b[0mfunc\u001b[0m\u001b[1;33m,\u001b[0m \u001b[0mcallback\u001b[0m\u001b[1;33m=\u001b[0m\u001b[1;32mNone\u001b[0m\u001b[1;33m)\u001b[0m\u001b[1;33m:\u001b[0m\u001b[1;33m\u001b[0m\u001b[0m\n\u001b[0;32m    181\u001b[0m         \u001b[1;34m\"\"\"Schedule a func to be run\"\"\"\u001b[0m\u001b[1;33m\u001b[0m\u001b[0m\n\u001b[1;32m--> 182\u001b[1;33m         \u001b[0mresult\u001b[0m \u001b[1;33m=\u001b[0m \u001b[0mImmediateResult\u001b[0m\u001b[1;33m(\u001b[0m\u001b[0mfunc\u001b[0m\u001b[1;33m)\u001b[0m\u001b[1;33m\u001b[0m\u001b[0m\n\u001b[0m\u001b[0;32m    183\u001b[0m         \u001b[1;32mif\u001b[0m \u001b[0mcallback\u001b[0m\u001b[1;33m:\u001b[0m\u001b[1;33m\u001b[0m\u001b[0m\n\u001b[0;32m    184\u001b[0m             \u001b[0mcallback\u001b[0m\u001b[1;33m(\u001b[0m\u001b[0mresult\u001b[0m\u001b[1;33m)\u001b[0m\u001b[1;33m\u001b[0m\u001b[0m\n",
      "\u001b[1;32m~\\Anaconda3\\lib\\site-packages\\joblib\\_parallel_backends.py\u001b[0m in \u001b[0;36m__init__\u001b[1;34m(self, batch)\u001b[0m\n\u001b[0;32m    547\u001b[0m         \u001b[1;31m# Don't delay the application, to avoid keeping the input\u001b[0m\u001b[1;33m\u001b[0m\u001b[1;33m\u001b[0m\u001b[0m\n\u001b[0;32m    548\u001b[0m         \u001b[1;31m# arguments in memory\u001b[0m\u001b[1;33m\u001b[0m\u001b[1;33m\u001b[0m\u001b[0m\n\u001b[1;32m--> 549\u001b[1;33m         \u001b[0mself\u001b[0m\u001b[1;33m.\u001b[0m\u001b[0mresults\u001b[0m \u001b[1;33m=\u001b[0m \u001b[0mbatch\u001b[0m\u001b[1;33m(\u001b[0m\u001b[1;33m)\u001b[0m\u001b[1;33m\u001b[0m\u001b[0m\n\u001b[0m\u001b[0;32m    550\u001b[0m \u001b[1;33m\u001b[0m\u001b[0m\n\u001b[0;32m    551\u001b[0m     \u001b[1;32mdef\u001b[0m \u001b[0mget\u001b[0m\u001b[1;33m(\u001b[0m\u001b[0mself\u001b[0m\u001b[1;33m)\u001b[0m\u001b[1;33m:\u001b[0m\u001b[1;33m\u001b[0m\u001b[0m\n",
      "\u001b[1;32m~\\Anaconda3\\lib\\site-packages\\joblib\\parallel.py\u001b[0m in \u001b[0;36m__call__\u001b[1;34m(self)\u001b[0m\n\u001b[0;32m    223\u001b[0m         \u001b[1;32mwith\u001b[0m \u001b[0mparallel_backend\u001b[0m\u001b[1;33m(\u001b[0m\u001b[0mself\u001b[0m\u001b[1;33m.\u001b[0m\u001b[0m_backend\u001b[0m\u001b[1;33m,\u001b[0m \u001b[0mn_jobs\u001b[0m\u001b[1;33m=\u001b[0m\u001b[0mself\u001b[0m\u001b[1;33m.\u001b[0m\u001b[0m_n_jobs\u001b[0m\u001b[1;33m)\u001b[0m\u001b[1;33m:\u001b[0m\u001b[1;33m\u001b[0m\u001b[0m\n\u001b[0;32m    224\u001b[0m             return [func(*args, **kwargs)\n\u001b[1;32m--> 225\u001b[1;33m                     for func, args, kwargs in self.items]\n\u001b[0m\u001b[0;32m    226\u001b[0m \u001b[1;33m\u001b[0m\u001b[0m\n\u001b[0;32m    227\u001b[0m     \u001b[1;32mdef\u001b[0m \u001b[0m__len__\u001b[0m\u001b[1;33m(\u001b[0m\u001b[0mself\u001b[0m\u001b[1;33m)\u001b[0m\u001b[1;33m:\u001b[0m\u001b[1;33m\u001b[0m\u001b[0m\n",
      "\u001b[1;32m~\\Anaconda3\\lib\\site-packages\\joblib\\parallel.py\u001b[0m in \u001b[0;36m<listcomp>\u001b[1;34m(.0)\u001b[0m\n\u001b[0;32m    223\u001b[0m         \u001b[1;32mwith\u001b[0m \u001b[0mparallel_backend\u001b[0m\u001b[1;33m(\u001b[0m\u001b[0mself\u001b[0m\u001b[1;33m.\u001b[0m\u001b[0m_backend\u001b[0m\u001b[1;33m,\u001b[0m \u001b[0mn_jobs\u001b[0m\u001b[1;33m=\u001b[0m\u001b[0mself\u001b[0m\u001b[1;33m.\u001b[0m\u001b[0m_n_jobs\u001b[0m\u001b[1;33m)\u001b[0m\u001b[1;33m:\u001b[0m\u001b[1;33m\u001b[0m\u001b[0m\n\u001b[0;32m    224\u001b[0m             return [func(*args, **kwargs)\n\u001b[1;32m--> 225\u001b[1;33m                     for func, args, kwargs in self.items]\n\u001b[0m\u001b[0;32m    226\u001b[0m \u001b[1;33m\u001b[0m\u001b[0m\n\u001b[0;32m    227\u001b[0m     \u001b[1;32mdef\u001b[0m \u001b[0m__len__\u001b[0m\u001b[1;33m(\u001b[0m\u001b[0mself\u001b[0m\u001b[1;33m)\u001b[0m\u001b[1;33m:\u001b[0m\u001b[1;33m\u001b[0m\u001b[0m\n",
      "\u001b[1;32m~\\Anaconda3\\lib\\site-packages\\sklearn\\model_selection\\_validation.py\u001b[0m in \u001b[0;36m_fit_and_score\u001b[1;34m(estimator, X, y, scorer, train, test, verbose, parameters, fit_params, return_train_score, return_parameters, return_n_test_samples, return_times, return_estimator, error_score)\u001b[0m\n\u001b[0;32m    554\u001b[0m         \u001b[0mfit_time\u001b[0m \u001b[1;33m=\u001b[0m \u001b[0mtime\u001b[0m\u001b[1;33m.\u001b[0m\u001b[0mtime\u001b[0m\u001b[1;33m(\u001b[0m\u001b[1;33m)\u001b[0m \u001b[1;33m-\u001b[0m \u001b[0mstart_time\u001b[0m\u001b[1;33m\u001b[0m\u001b[0m\n\u001b[0;32m    555\u001b[0m         \u001b[1;31m# _score will return dict if is_multimetric is True\u001b[0m\u001b[1;33m\u001b[0m\u001b[1;33m\u001b[0m\u001b[0m\n\u001b[1;32m--> 556\u001b[1;33m         \u001b[0mtest_scores\u001b[0m \u001b[1;33m=\u001b[0m \u001b[0m_score\u001b[0m\u001b[1;33m(\u001b[0m\u001b[0mestimator\u001b[0m\u001b[1;33m,\u001b[0m \u001b[0mX_test\u001b[0m\u001b[1;33m,\u001b[0m \u001b[0my_test\u001b[0m\u001b[1;33m,\u001b[0m \u001b[0mscorer\u001b[0m\u001b[1;33m,\u001b[0m \u001b[0mis_multimetric\u001b[0m\u001b[1;33m)\u001b[0m\u001b[1;33m\u001b[0m\u001b[0m\n\u001b[0m\u001b[0;32m    557\u001b[0m         \u001b[0mscore_time\u001b[0m \u001b[1;33m=\u001b[0m \u001b[0mtime\u001b[0m\u001b[1;33m.\u001b[0m\u001b[0mtime\u001b[0m\u001b[1;33m(\u001b[0m\u001b[1;33m)\u001b[0m \u001b[1;33m-\u001b[0m \u001b[0mstart_time\u001b[0m \u001b[1;33m-\u001b[0m \u001b[0mfit_time\u001b[0m\u001b[1;33m\u001b[0m\u001b[0m\n\u001b[0;32m    558\u001b[0m         \u001b[1;32mif\u001b[0m \u001b[0mreturn_train_score\u001b[0m\u001b[1;33m:\u001b[0m\u001b[1;33m\u001b[0m\u001b[0m\n",
      "\u001b[1;32m~\\Anaconda3\\lib\\site-packages\\sklearn\\model_selection\\_validation.py\u001b[0m in \u001b[0;36m_score\u001b[1;34m(estimator, X_test, y_test, scorer, is_multimetric)\u001b[0m\n\u001b[0;32m    597\u001b[0m     \"\"\"\n\u001b[0;32m    598\u001b[0m     \u001b[1;32mif\u001b[0m \u001b[0mis_multimetric\u001b[0m\u001b[1;33m:\u001b[0m\u001b[1;33m\u001b[0m\u001b[0m\n\u001b[1;32m--> 599\u001b[1;33m         \u001b[1;32mreturn\u001b[0m \u001b[0m_multimetric_score\u001b[0m\u001b[1;33m(\u001b[0m\u001b[0mestimator\u001b[0m\u001b[1;33m,\u001b[0m \u001b[0mX_test\u001b[0m\u001b[1;33m,\u001b[0m \u001b[0my_test\u001b[0m\u001b[1;33m,\u001b[0m \u001b[0mscorer\u001b[0m\u001b[1;33m)\u001b[0m\u001b[1;33m\u001b[0m\u001b[0m\n\u001b[0m\u001b[0;32m    600\u001b[0m     \u001b[1;32melse\u001b[0m\u001b[1;33m:\u001b[0m\u001b[1;33m\u001b[0m\u001b[0m\n\u001b[0;32m    601\u001b[0m         \u001b[1;32mif\u001b[0m \u001b[0my_test\u001b[0m \u001b[1;32mis\u001b[0m \u001b[1;32mNone\u001b[0m\u001b[1;33m:\u001b[0m\u001b[1;33m\u001b[0m\u001b[0m\n",
      "\u001b[1;32m~\\Anaconda3\\lib\\site-packages\\sklearn\\model_selection\\_validation.py\u001b[0m in \u001b[0;36m_multimetric_score\u001b[1;34m(estimator, X_test, y_test, scorers)\u001b[0m\n\u001b[0;32m    627\u001b[0m             \u001b[0mscore\u001b[0m \u001b[1;33m=\u001b[0m \u001b[0mscorer\u001b[0m\u001b[1;33m(\u001b[0m\u001b[0mestimator\u001b[0m\u001b[1;33m,\u001b[0m \u001b[0mX_test\u001b[0m\u001b[1;33m)\u001b[0m\u001b[1;33m\u001b[0m\u001b[0m\n\u001b[0;32m    628\u001b[0m         \u001b[1;32melse\u001b[0m\u001b[1;33m:\u001b[0m\u001b[1;33m\u001b[0m\u001b[0m\n\u001b[1;32m--> 629\u001b[1;33m             \u001b[0mscore\u001b[0m \u001b[1;33m=\u001b[0m \u001b[0mscorer\u001b[0m\u001b[1;33m(\u001b[0m\u001b[0mestimator\u001b[0m\u001b[1;33m,\u001b[0m \u001b[0mX_test\u001b[0m\u001b[1;33m,\u001b[0m \u001b[0my_test\u001b[0m\u001b[1;33m)\u001b[0m\u001b[1;33m\u001b[0m\u001b[0m\n\u001b[0m\u001b[0;32m    630\u001b[0m \u001b[1;33m\u001b[0m\u001b[0m\n\u001b[0;32m    631\u001b[0m         \u001b[1;32mif\u001b[0m \u001b[0mhasattr\u001b[0m\u001b[1;33m(\u001b[0m\u001b[0mscore\u001b[0m\u001b[1;33m,\u001b[0m \u001b[1;34m'item'\u001b[0m\u001b[1;33m)\u001b[0m\u001b[1;33m:\u001b[0m\u001b[1;33m\u001b[0m\u001b[0m\n",
      "\u001b[1;32m~\\Anaconda3\\lib\\site-packages\\sklearn\\metrics\\scorer.py\u001b[0m in \u001b[0;36m_passthrough_scorer\u001b[1;34m(estimator, *args, **kwargs)\u001b[0m\n\u001b[0;32m    238\u001b[0m \u001b[1;32mdef\u001b[0m \u001b[0m_passthrough_scorer\u001b[0m\u001b[1;33m(\u001b[0m\u001b[0mestimator\u001b[0m\u001b[1;33m,\u001b[0m \u001b[1;33m*\u001b[0m\u001b[0margs\u001b[0m\u001b[1;33m,\u001b[0m \u001b[1;33m**\u001b[0m\u001b[0mkwargs\u001b[0m\u001b[1;33m)\u001b[0m\u001b[1;33m:\u001b[0m\u001b[1;33m\u001b[0m\u001b[0m\n\u001b[0;32m    239\u001b[0m     \u001b[1;34m\"\"\"Function that wraps estimator.score\"\"\"\u001b[0m\u001b[1;33m\u001b[0m\u001b[0m\n\u001b[1;32m--> 240\u001b[1;33m     \u001b[1;32mreturn\u001b[0m \u001b[0mestimator\u001b[0m\u001b[1;33m.\u001b[0m\u001b[0mscore\u001b[0m\u001b[1;33m(\u001b[0m\u001b[1;33m*\u001b[0m\u001b[0margs\u001b[0m\u001b[1;33m,\u001b[0m \u001b[1;33m**\u001b[0m\u001b[0mkwargs\u001b[0m\u001b[1;33m)\u001b[0m\u001b[1;33m\u001b[0m\u001b[0m\n\u001b[0m\u001b[0;32m    241\u001b[0m \u001b[1;33m\u001b[0m\u001b[0m\n\u001b[0;32m    242\u001b[0m \u001b[1;33m\u001b[0m\u001b[0m\n",
      "\u001b[1;32m~\\Anaconda3\\lib\\site-packages\\sklearn\\base.py\u001b[0m in \u001b[0;36mscore\u001b[1;34m(self, X, y, sample_weight)\u001b[0m\n\u001b[0;32m    355\u001b[0m         \"\"\"\n\u001b[0;32m    356\u001b[0m         \u001b[1;32mfrom\u001b[0m \u001b[1;33m.\u001b[0m\u001b[0mmetrics\u001b[0m \u001b[1;32mimport\u001b[0m \u001b[0maccuracy_score\u001b[0m\u001b[1;33m\u001b[0m\u001b[0m\n\u001b[1;32m--> 357\u001b[1;33m         \u001b[1;32mreturn\u001b[0m \u001b[0maccuracy_score\u001b[0m\u001b[1;33m(\u001b[0m\u001b[0my\u001b[0m\u001b[1;33m,\u001b[0m \u001b[0mself\u001b[0m\u001b[1;33m.\u001b[0m\u001b[0mpredict\u001b[0m\u001b[1;33m(\u001b[0m\u001b[0mX\u001b[0m\u001b[1;33m)\u001b[0m\u001b[1;33m,\u001b[0m \u001b[0msample_weight\u001b[0m\u001b[1;33m=\u001b[0m\u001b[0msample_weight\u001b[0m\u001b[1;33m)\u001b[0m\u001b[1;33m\u001b[0m\u001b[0m\n\u001b[0m\u001b[0;32m    358\u001b[0m \u001b[1;33m\u001b[0m\u001b[0m\n\u001b[0;32m    359\u001b[0m \u001b[1;33m\u001b[0m\u001b[0m\n",
      "\u001b[1;32m~\\Anaconda3\\lib\\site-packages\\sklearn\\neighbors\\classification.py\u001b[0m in \u001b[0;36mpredict\u001b[1;34m(self, X)\u001b[0m\n\u001b[0;32m    147\u001b[0m         \u001b[0mX\u001b[0m \u001b[1;33m=\u001b[0m \u001b[0mcheck_array\u001b[0m\u001b[1;33m(\u001b[0m\u001b[0mX\u001b[0m\u001b[1;33m,\u001b[0m \u001b[0maccept_sparse\u001b[0m\u001b[1;33m=\u001b[0m\u001b[1;34m'csr'\u001b[0m\u001b[1;33m)\u001b[0m\u001b[1;33m\u001b[0m\u001b[0m\n\u001b[0;32m    148\u001b[0m \u001b[1;33m\u001b[0m\u001b[0m\n\u001b[1;32m--> 149\u001b[1;33m         \u001b[0mneigh_dist\u001b[0m\u001b[1;33m,\u001b[0m \u001b[0mneigh_ind\u001b[0m \u001b[1;33m=\u001b[0m \u001b[0mself\u001b[0m\u001b[1;33m.\u001b[0m\u001b[0mkneighbors\u001b[0m\u001b[1;33m(\u001b[0m\u001b[0mX\u001b[0m\u001b[1;33m)\u001b[0m\u001b[1;33m\u001b[0m\u001b[0m\n\u001b[0m\u001b[0;32m    150\u001b[0m         \u001b[0mclasses_\u001b[0m \u001b[1;33m=\u001b[0m \u001b[0mself\u001b[0m\u001b[1;33m.\u001b[0m\u001b[0mclasses_\u001b[0m\u001b[1;33m\u001b[0m\u001b[0m\n\u001b[0;32m    151\u001b[0m         \u001b[0m_y\u001b[0m \u001b[1;33m=\u001b[0m \u001b[0mself\u001b[0m\u001b[1;33m.\u001b[0m\u001b[0m_y\u001b[0m\u001b[1;33m\u001b[0m\u001b[0m\n",
      "\u001b[1;32m~\\Anaconda3\\lib\\site-packages\\sklearn\\neighbors\\base.py\u001b[0m in \u001b[0;36mkneighbors\u001b[1;34m(self, X, n_neighbors, return_distance)\u001b[0m\n\u001b[0;32m    452\u001b[0m                 delayed_query(\n\u001b[0;32m    453\u001b[0m                     self._tree, X[s], n_neighbors, return_distance)\n\u001b[1;32m--> 454\u001b[1;33m                 \u001b[1;32mfor\u001b[0m \u001b[0ms\u001b[0m \u001b[1;32min\u001b[0m \u001b[0mgen_even_slices\u001b[0m\u001b[1;33m(\u001b[0m\u001b[0mX\u001b[0m\u001b[1;33m.\u001b[0m\u001b[0mshape\u001b[0m\u001b[1;33m[\u001b[0m\u001b[1;36m0\u001b[0m\u001b[1;33m]\u001b[0m\u001b[1;33m,\u001b[0m \u001b[0mn_jobs\u001b[0m\u001b[1;33m)\u001b[0m\u001b[1;33m\u001b[0m\u001b[0m\n\u001b[0m\u001b[0;32m    455\u001b[0m             )\n\u001b[0;32m    456\u001b[0m         \u001b[1;32melse\u001b[0m\u001b[1;33m:\u001b[0m\u001b[1;33m\u001b[0m\u001b[0m\n",
      "\u001b[1;32m~\\Anaconda3\\lib\\site-packages\\joblib\\parallel.py\u001b[0m in \u001b[0;36m__call__\u001b[1;34m(self, iterable)\u001b[0m\n\u001b[0;32m    932\u001b[0m \u001b[1;33m\u001b[0m\u001b[0m\n\u001b[0;32m    933\u001b[0m             \u001b[1;32mwith\u001b[0m \u001b[0mself\u001b[0m\u001b[1;33m.\u001b[0m\u001b[0m_backend\u001b[0m\u001b[1;33m.\u001b[0m\u001b[0mretrieval_context\u001b[0m\u001b[1;33m(\u001b[0m\u001b[1;33m)\u001b[0m\u001b[1;33m:\u001b[0m\u001b[1;33m\u001b[0m\u001b[0m\n\u001b[1;32m--> 934\u001b[1;33m                 \u001b[0mself\u001b[0m\u001b[1;33m.\u001b[0m\u001b[0mretrieve\u001b[0m\u001b[1;33m(\u001b[0m\u001b[1;33m)\u001b[0m\u001b[1;33m\u001b[0m\u001b[0m\n\u001b[0m\u001b[0;32m    935\u001b[0m             \u001b[1;31m# Make sure that we get a last message telling us we are done\u001b[0m\u001b[1;33m\u001b[0m\u001b[1;33m\u001b[0m\u001b[0m\n\u001b[0;32m    936\u001b[0m             \u001b[0melapsed_time\u001b[0m \u001b[1;33m=\u001b[0m \u001b[0mtime\u001b[0m\u001b[1;33m.\u001b[0m\u001b[0mtime\u001b[0m\u001b[1;33m(\u001b[0m\u001b[1;33m)\u001b[0m \u001b[1;33m-\u001b[0m \u001b[0mself\u001b[0m\u001b[1;33m.\u001b[0m\u001b[0m_start_time\u001b[0m\u001b[1;33m\u001b[0m\u001b[0m\n",
      "\u001b[1;32m~\\Anaconda3\\lib\\site-packages\\joblib\\parallel.py\u001b[0m in \u001b[0;36mretrieve\u001b[1;34m(self)\u001b[0m\n\u001b[0;32m    831\u001b[0m             \u001b[1;32mtry\u001b[0m\u001b[1;33m:\u001b[0m\u001b[1;33m\u001b[0m\u001b[0m\n\u001b[0;32m    832\u001b[0m                 \u001b[1;32mif\u001b[0m \u001b[0mgetattr\u001b[0m\u001b[1;33m(\u001b[0m\u001b[0mself\u001b[0m\u001b[1;33m.\u001b[0m\u001b[0m_backend\u001b[0m\u001b[1;33m,\u001b[0m \u001b[1;34m'supports_timeout'\u001b[0m\u001b[1;33m,\u001b[0m \u001b[1;32mFalse\u001b[0m\u001b[1;33m)\u001b[0m\u001b[1;33m:\u001b[0m\u001b[1;33m\u001b[0m\u001b[0m\n\u001b[1;32m--> 833\u001b[1;33m                     \u001b[0mself\u001b[0m\u001b[1;33m.\u001b[0m\u001b[0m_output\u001b[0m\u001b[1;33m.\u001b[0m\u001b[0mextend\u001b[0m\u001b[1;33m(\u001b[0m\u001b[0mjob\u001b[0m\u001b[1;33m.\u001b[0m\u001b[0mget\u001b[0m\u001b[1;33m(\u001b[0m\u001b[0mtimeout\u001b[0m\u001b[1;33m=\u001b[0m\u001b[0mself\u001b[0m\u001b[1;33m.\u001b[0m\u001b[0mtimeout\u001b[0m\u001b[1;33m)\u001b[0m\u001b[1;33m)\u001b[0m\u001b[1;33m\u001b[0m\u001b[0m\n\u001b[0m\u001b[0;32m    834\u001b[0m                 \u001b[1;32melse\u001b[0m\u001b[1;33m:\u001b[0m\u001b[1;33m\u001b[0m\u001b[0m\n\u001b[0;32m    835\u001b[0m                     \u001b[0mself\u001b[0m\u001b[1;33m.\u001b[0m\u001b[0m_output\u001b[0m\u001b[1;33m.\u001b[0m\u001b[0mextend\u001b[0m\u001b[1;33m(\u001b[0m\u001b[0mjob\u001b[0m\u001b[1;33m.\u001b[0m\u001b[0mget\u001b[0m\u001b[1;33m(\u001b[0m\u001b[1;33m)\u001b[0m\u001b[1;33m)\u001b[0m\u001b[1;33m\u001b[0m\u001b[0m\n",
      "\u001b[1;32m~\\Anaconda3\\lib\\site-packages\\joblib\\_parallel_backends.py\u001b[0m in \u001b[0;36mwrap_future_result\u001b[1;34m(future, timeout)\u001b[0m\n\u001b[0;32m    519\u001b[0m         AsyncResults.get from multiprocessing.\"\"\"\n\u001b[0;32m    520\u001b[0m         \u001b[1;32mtry\u001b[0m\u001b[1;33m:\u001b[0m\u001b[1;33m\u001b[0m\u001b[0m\n\u001b[1;32m--> 521\u001b[1;33m             \u001b[1;32mreturn\u001b[0m \u001b[0mfuture\u001b[0m\u001b[1;33m.\u001b[0m\u001b[0mresult\u001b[0m\u001b[1;33m(\u001b[0m\u001b[0mtimeout\u001b[0m\u001b[1;33m=\u001b[0m\u001b[0mtimeout\u001b[0m\u001b[1;33m)\u001b[0m\u001b[1;33m\u001b[0m\u001b[0m\n\u001b[0m\u001b[0;32m    522\u001b[0m         \u001b[1;32mexcept\u001b[0m \u001b[0mLokyTimeoutError\u001b[0m\u001b[1;33m:\u001b[0m\u001b[1;33m\u001b[0m\u001b[0m\n\u001b[0;32m    523\u001b[0m             \u001b[1;32mraise\u001b[0m \u001b[0mTimeoutError\u001b[0m\u001b[1;33m(\u001b[0m\u001b[1;33m)\u001b[0m\u001b[1;33m\u001b[0m\u001b[0m\n",
      "\u001b[1;32m~\\Anaconda3\\lib\\concurrent\\futures\\_base.py\u001b[0m in \u001b[0;36mresult\u001b[1;34m(self, timeout)\u001b[0m\n\u001b[0;32m    398\u001b[0m                 \u001b[1;32mreturn\u001b[0m \u001b[0mself\u001b[0m\u001b[1;33m.\u001b[0m\u001b[0m__get_result\u001b[0m\u001b[1;33m(\u001b[0m\u001b[1;33m)\u001b[0m\u001b[1;33m\u001b[0m\u001b[0m\n\u001b[0;32m    399\u001b[0m \u001b[1;33m\u001b[0m\u001b[0m\n\u001b[1;32m--> 400\u001b[1;33m             \u001b[0mself\u001b[0m\u001b[1;33m.\u001b[0m\u001b[0m_condition\u001b[0m\u001b[1;33m.\u001b[0m\u001b[0mwait\u001b[0m\u001b[1;33m(\u001b[0m\u001b[0mtimeout\u001b[0m\u001b[1;33m)\u001b[0m\u001b[1;33m\u001b[0m\u001b[0m\n\u001b[0m\u001b[0;32m    401\u001b[0m \u001b[1;33m\u001b[0m\u001b[0m\n\u001b[0;32m    402\u001b[0m             \u001b[1;32mif\u001b[0m \u001b[0mself\u001b[0m\u001b[1;33m.\u001b[0m\u001b[0m_state\u001b[0m \u001b[1;32min\u001b[0m \u001b[1;33m[\u001b[0m\u001b[0mCANCELLED\u001b[0m\u001b[1;33m,\u001b[0m \u001b[0mCANCELLED_AND_NOTIFIED\u001b[0m\u001b[1;33m]\u001b[0m\u001b[1;33m:\u001b[0m\u001b[1;33m\u001b[0m\u001b[0m\n",
      "\u001b[1;32m~\\Anaconda3\\lib\\threading.py\u001b[0m in \u001b[0;36mwait\u001b[1;34m(self, timeout)\u001b[0m\n\u001b[0;32m    293\u001b[0m         \u001b[1;32mtry\u001b[0m\u001b[1;33m:\u001b[0m    \u001b[1;31m# restore state no matter what (e.g., KeyboardInterrupt)\u001b[0m\u001b[1;33m\u001b[0m\u001b[0m\n\u001b[0;32m    294\u001b[0m             \u001b[1;32mif\u001b[0m \u001b[0mtimeout\u001b[0m \u001b[1;32mis\u001b[0m \u001b[1;32mNone\u001b[0m\u001b[1;33m:\u001b[0m\u001b[1;33m\u001b[0m\u001b[0m\n\u001b[1;32m--> 295\u001b[1;33m                 \u001b[0mwaiter\u001b[0m\u001b[1;33m.\u001b[0m\u001b[0macquire\u001b[0m\u001b[1;33m(\u001b[0m\u001b[1;33m)\u001b[0m\u001b[1;33m\u001b[0m\u001b[0m\n\u001b[0m\u001b[0;32m    296\u001b[0m                 \u001b[0mgotit\u001b[0m \u001b[1;33m=\u001b[0m \u001b[1;32mTrue\u001b[0m\u001b[1;33m\u001b[0m\u001b[0m\n\u001b[0;32m    297\u001b[0m             \u001b[1;32melse\u001b[0m\u001b[1;33m:\u001b[0m\u001b[1;33m\u001b[0m\u001b[0m\n",
      "\u001b[1;31mKeyboardInterrupt\u001b[0m: "
     ]
    }
   ],
   "source": [
    "from sklearn.model_selection import GridSearchCV\n",
    "KNC2 = KNeighborsClassifier(algorithm='auto', leaf_size=30, p=2, metric_params=None, n_jobs=-1)\n",
    "\n",
    "#Create a dictionary of all values we want to test for n_neighbors\n",
    "param_grid = {'n_neighbors': np.arange(1, 7)}\n",
    "\n",
    "#Use gridsearch to test all values for n_neighbors\n",
    "knn_gscv = GridSearchCV(KNC2, param_grid, cv=5)\n",
    "\n",
    "#Fit model to data\n",
    "knn_gscv.fit(X, y)"
   ]
  },
  {
   "cell_type": "code",
   "execution_count": null,
   "metadata": {},
   "outputs": [],
   "source": [
    "#Check top performing n_neighbors value\n",
    "knn_gscv.best_params_"
   ]
  },
  {
   "cell_type": "markdown",
   "metadata": {},
   "source": [
    "### Step8: 不断改变参数，直到性能达到“某个”点。问：“某个”怎么定义？"
   ]
  },
  {
   "cell_type": "markdown",
   "metadata": {},
   "source": [
    "某个点指的是最优解，在这里指的是得到最佳metrics的参数。"
   ]
  },
  {
   "cell_type": "markdown",
   "metadata": {},
   "source": [
    "### Step9: 找出所有预测为 1， 但是实际为 0 的文章。 作为抄袭的候选者。"
   ]
  },
  {
   "cell_type": "code",
   "execution_count": 429,
   "metadata": {},
   "outputs": [
    {
     "data": {
      "text/plain": [
       "17923"
      ]
     },
     "execution_count": 429,
     "metadata": {},
     "output_type": "execute_result"
    }
   ],
   "source": [
    "len(X_test)"
   ]
  },
  {
   "cell_type": "code",
   "execution_count": 125,
   "metadata": {},
   "outputs": [],
   "source": [
    "def identify_fraud(model):\n",
    "    content['y'] = y\n",
    "    content['y_predict'] = model.predict(X)\n",
    "    fraud_candidates = pd.DataFrame(content[(content.y == 0) & (content.y_predict == 1)])\n",
    "    print(len(fraud_candidates))\n",
    "    #print(fraud_candidates.head)\n",
    "    return fraud_candidates"
   ]
  },
  {
   "cell_type": "markdown",
   "metadata": {},
   "source": [
    "以Linear SVM模型为例，它认为有40篇新闻抄袭了新华社。把这些新闻的source找出来以后发现，其中大部分都是新华网的新闻。新华网和新华社是相关报社，可以转载新华社的新闻，所以不属于抄袭范畴。提出新华网的新闻以后，还剩下12个涉嫌抄袭的新闻。"
   ]
  },
  {
   "cell_type": "code",
   "execution_count": 128,
   "metadata": {},
   "outputs": [
    {
     "name": "stdout",
     "output_type": "stream",
     "text": [
      "40\n"
     ]
    }
   ],
   "source": [
    "fraud_candidates = identify_fraud(LinearSVM)"
   ]
  },
  {
   "cell_type": "code",
   "execution_count": 129,
   "metadata": {},
   "outputs": [
    {
     "data": {
      "text/plain": [
       "331                                                    新华网\n",
       "335                                                    新华网\n",
       "376                                                    新华网\n",
       "388                                                    新华网\n",
       "445                                                    新华网\n",
       "556                                                    新华网\n",
       "569                                                    新华网\n",
       "573                                                    新华网\n",
       "579                                                    新华网\n",
       "583                                                    新华网\n",
       "589                                                    新华网\n",
       "593                                                    新华网\n",
       "599                                                    新华网\n",
       "678                                                    新华网\n",
       "718                                                    新华网\n",
       "731      新华社@http://tech.163.com/17/0619/15/CNA7J2EJ000...\n",
       "994                                                    新华网\n",
       "1002                                                   新华网\n",
       "1056                                                   环球网\n",
       "1559                                                 中国证券网\n",
       "2238                                                   新华网\n",
       "2775                                                   新华网\n",
       "3253                                                   新华网\n",
       "3256                                                   新华网\n",
       "3622                                            cnBeta.COM\n",
       "3854                                                   新华网\n",
       "3977                                                   新华网\n",
       "4503                                                   新华网\n",
       "5144                                                  凤凰财经\n",
       "5363                                                   新华网\n",
       "5744                                             海南日报第014版\n",
       "5908                                             中国证券报?中证网\n",
       "7131                                                   新华网\n",
       "7143                                                   新华网\n",
       "7243                                           科技日报社-中国科技网\n",
       "7833                                              南方日报第01版\n",
       "7901                                                   新华网\n",
       "7931                                              郑州日报第03版\n",
       "9895                                                 中国新闻网\n",
       "10569                                                   百度\n",
       "Name: source, dtype: object"
      ]
     },
     "execution_count": 129,
     "metadata": {},
     "output_type": "execute_result"
    }
   ],
   "source": [
    "fraud_candidates['source']"
   ]
  },
  {
   "cell_type": "code",
   "execution_count": 159,
   "metadata": {},
   "outputs": [
    {
     "name": "stdout",
     "output_type": "stream",
     "text": [
      "12\n"
     ]
    }
   ],
   "source": [
    "fraud_candidates2 = list()\n",
    "for i in range(len(fraud_candidates)):\n",
    "    if fraud_candidates['source'].iloc[i] != '新华网':\n",
    "        fraud_candidates2.append(fraud_candidates.iloc[i])\n",
    "\n",
    "print(len(fraud_candidates2))\n",
    "fraud_candidates2 = pd.DataFrame(fraud_candidates2)\n",
    "#print(fraud_candidates2)"
   ]
  },
  {
   "cell_type": "markdown",
   "metadata": {},
   "source": [
    "第731篇新闻其实是新华社的，要剔除。还剩11篇涉嫌抄袭的新闻。"
   ]
  },
  {
   "cell_type": "code",
   "execution_count": 156,
   "metadata": {},
   "outputs": [],
   "source": [
    "fraud_candidates3 = fraud_candidates2[1:]"
   ]
  },
  {
   "cell_type": "code",
   "execution_count": 157,
   "metadata": {},
   "outputs": [
    {
     "data": {
      "text/html": [
       "<div>\n",
       "<style scoped>\n",
       "    .dataframe tbody tr th:only-of-type {\n",
       "        vertical-align: middle;\n",
       "    }\n",
       "\n",
       "    .dataframe tbody tr th {\n",
       "        vertical-align: top;\n",
       "    }\n",
       "\n",
       "    .dataframe thead th {\n",
       "        text-align: right;\n",
       "    }\n",
       "</style>\n",
       "<table border=\"1\" class=\"dataframe\">\n",
       "  <thead>\n",
       "    <tr style=\"text-align: right;\">\n",
       "      <th></th>\n",
       "      <th>id</th>\n",
       "      <th>author</th>\n",
       "      <th>source</th>\n",
       "      <th>content</th>\n",
       "      <th>feature</th>\n",
       "      <th>title</th>\n",
       "      <th>url</th>\n",
       "      <th>label</th>\n",
       "      <th>y</th>\n",
       "      <th>y_predict</th>\n",
       "    </tr>\n",
       "  </thead>\n",
       "  <tbody>\n",
       "    <tr>\n",
       "      <th>1056</th>\n",
       "      <td>88561</td>\n",
       "      <td>张田宇</td>\n",
       "      <td>环球网</td>\n",
       "      <td>前日，太合音乐集团服务艺人、国内英式摇滚领军人物果味VC乐队受邀参加中国麻江蓝莓音乐节。...</td>\n",
       "      <td>{\"type\":\"娱乐\",\"site\":\"环球\",\"commentNum\":\"0\",\"joi...</td>\n",
       "      <td>果味VC麻江蓝莓音乐节首演新曲《躁不完的青春》</td>\n",
       "      <td>http://ent.huanqiu.com/music/yinle-neidi/2017-...</td>\n",
       "      <td>0</td>\n",
       "      <td>0</td>\n",
       "      <td>1</td>\n",
       "    </tr>\n",
       "    <tr>\n",
       "      <th>1559</th>\n",
       "      <td>88058</td>\n",
       "      <td>NaN</td>\n",
       "      <td>中国证券网</td>\n",
       "      <td>中国证券网讯 财政部１３日发布消息称，经国务院批准，２０１７年财政部将在境外发行１４０亿...</td>\n",
       "      <td>{\"type\":\"债市\",\"site\":\"中证网\",\"commentNum\":\"0\",\"jo...</td>\n",
       "      <td>财政部将在境外发行140亿元人民币国债</td>\n",
       "      <td>http://www.cs.com.cn/zqxw/201706/t20170613_532...</td>\n",
       "      <td>0</td>\n",
       "      <td>0</td>\n",
       "      <td>1</td>\n",
       "    </tr>\n",
       "    <tr>\n",
       "      <th>3622</th>\n",
       "      <td>85995</td>\n",
       "      <td>NaN</td>\n",
       "      <td>cnBeta.COM</td>\n",
       "      <td>访问：Fuze Code Studio\\r\\n在代码输入方式上，支持Fuze虚拟键盘或者外接...</td>\n",
       "      <td>{\"type\":\"软件\",\"site\":\"cnbeta\",\"commentNum\":\"2\",...</td>\n",
       "      <td>Fuze Code Studio发布：在Switch主机上编程游戏</td>\n",
       "      <td>http://www.cnbeta.com/articles/soft/624129.htm</td>\n",
       "      <td>0</td>\n",
       "      <td>0</td>\n",
       "      <td>1</td>\n",
       "    </tr>\n",
       "    <tr>\n",
       "      <th>5144</th>\n",
       "      <td>84473</td>\n",
       "      <td>李愿 PF015</td>\n",
       "      <td>凤凰财经</td>\n",
       "      <td>职位：\\r\\n专注宏观经济报道方向的编辑、记者\\r\\n职位要求：\\r\\n1、需要一定工作经验...</td>\n",
       "      <td>{\"type\":\"财经\",\"site\":\"凤凰\",\"commentNum\":\"1\",\"joi...</td>\n",
       "      <td>凤凰财经招聘宏观编辑、记者</td>\n",
       "      <td>http://finance.ifeng.com/a/20170223/15211857_0...</td>\n",
       "      <td>0</td>\n",
       "      <td>0</td>\n",
       "      <td>1</td>\n",
       "    </tr>\n",
       "    <tr>\n",
       "      <th>5744</th>\n",
       "      <td>83873</td>\n",
       "      <td>NaN</td>\n",
       "      <td>海南日报第014版</td>\n",
       "      <td>新华社记者?任珑?摄\\r\\n</td>\n",
       "      <td>{\"type\":\"体育新闻 文娱新闻 \",\"site\":\"海南日报\",\"commentNum...</td>\n",
       "      <td>《终极斗士4》亮相上海</td>\n",
       "      <td>http://hnrb.hinews.cn/html/2017-06/23/content_...</td>\n",
       "      <td>0</td>\n",
       "      <td>0</td>\n",
       "      <td>1</td>\n",
       "    </tr>\n",
       "    <tr>\n",
       "      <th>5908</th>\n",
       "      <td>83709</td>\n",
       "      <td>新华社机器人</td>\n",
       "      <td>中国证券报?中证网</td>\n",
       "      <td>数据来源：机器人 数据采集时间2017/6/22 17:00:10 数据源地址 （这条新闻由...</td>\n",
       "      <td>{\"type\":\"数据资金\",\"site\":\"中证网\",\"commentNum\":\"0\",\"...</td>\n",
       "      <td>6月22日A股全日资金主力净流入、净流出前十大个股</td>\n",
       "      <td>http://www.cs.com.cn/gppd/sjjj/201706/t2017062...</td>\n",
       "      <td>0</td>\n",
       "      <td>0</td>\n",
       "      <td>1</td>\n",
       "    </tr>\n",
       "    <tr>\n",
       "      <th>7243</th>\n",
       "      <td>82374</td>\n",
       "      <td>李文瑶</td>\n",
       "      <td>科技日报社-中国科技网</td>\n",
       "      <td>（记者徐玢）由北京大学科维理天文与天体物理研究所博士后于浩然与北京师范大学天文系教授张...</td>\n",
       "      <td>{\"type\":\"科技\",\"site\":\"环球\",\"commentNum\":\"0\",\"joi...</td>\n",
       "      <td>“天河二号”模拟出宇宙暗物质和中微子演化进程</td>\n",
       "      <td>http://tech.huanqiu.com/discovery/2017-06/1083...</td>\n",
       "      <td>0</td>\n",
       "      <td>0</td>\n",
       "      <td>1</td>\n",
       "    </tr>\n",
       "    <tr>\n",
       "      <th>7833</th>\n",
       "      <td>81784</td>\n",
       "      <td>NaN</td>\n",
       "      <td>南方日报第01版</td>\n",
       "      <td>神回复\\r\\n南方日报讯 21日，新华社官方微信推送了一条题为《刚刚，沙特王储被废了》的短新...</td>\n",
       "      <td>{\"type\":\"封面\",\"site\":\"南方日报\",\"commentNum\":\"0\",\"j...</td>\n",
       "      <td>卖得一手好萌，获赞十万+</td>\n",
       "      <td>http://epaper.southcn.com/nfdaily/html/2017-06...</td>\n",
       "      <td>0</td>\n",
       "      <td>0</td>\n",
       "      <td>1</td>\n",
       "    </tr>\n",
       "    <tr>\n",
       "      <th>7931</th>\n",
       "      <td>81686</td>\n",
       "      <td>NaN</td>\n",
       "      <td>郑州日报第03版</td>\n",
       "      <td>新华社四川西昌6月19日电 19日0时11分，我国在西昌卫星发射中心用长征三号乙运载火箭发射...</td>\n",
       "      <td>{\"type\":\"要闻国内\",\"site\":\"郑州日报\",\"commentNum\":\"0\",...</td>\n",
       "      <td>“中星9A”广播电视 直播卫星发射异常</td>\n",
       "      <td>http://zzrb.zynews.cn/html/2017-06/20/content_...</td>\n",
       "      <td>0</td>\n",
       "      <td>0</td>\n",
       "      <td>1</td>\n",
       "    </tr>\n",
       "    <tr>\n",
       "      <th>9895</th>\n",
       "      <td>79722</td>\n",
       "      <td>NaN</td>\n",
       "      <td>中国新闻网</td>\n",
       "      <td>中新社雅加达6月13日电 当地时间12日下午，印尼首都雅加达再次发生持枪抢劫凶案，一女青年在...</td>\n",
       "      <td>{\"type\":\"国际新闻\",\"site\":\"环球\",\"commentNum\":\"0\",\"j...</td>\n",
       "      <td>印尼首都雅加达连发持枪劫案 两青年遭劫杀</td>\n",
       "      <td>http://world.huanqiu.com/hot/2017-06/10833815....</td>\n",
       "      <td>0</td>\n",
       "      <td>0</td>\n",
       "      <td>1</td>\n",
       "    </tr>\n",
       "    <tr>\n",
       "      <th>10569</th>\n",
       "      <td>79045</td>\n",
       "      <td>NaN</td>\n",
       "      <td>百度</td>\n",
       "      <td>日\\n一\\n二\\n三\\n四\\n五\\n六\\n?\\n?\\n?\\n?\\n?\\n?\\n?\\n?\\n?...</td>\n",
       "      <td>{\"type\":\"新闻\",\"site\":\"百度\",\"commentNum\":\"0\",\"joi...</td>\n",
       "      <td>你必须知道的恋爱理论,干货多多_恋爱吧_百度贴吧</td>\n",
       "      <td>http://tieba.baidu.com/p/3719563693</td>\n",
       "      <td>0</td>\n",
       "      <td>0</td>\n",
       "      <td>1</td>\n",
       "    </tr>\n",
       "  </tbody>\n",
       "</table>\n",
       "</div>"
      ],
      "text/plain": [
       "          id    author       source  \\\n",
       "1056   88561       张田宇          环球网   \n",
       "1559   88058       NaN        中国证券网   \n",
       "3622   85995       NaN   cnBeta.COM   \n",
       "5144   84473  李愿 PF015         凤凰财经   \n",
       "5744   83873       NaN    海南日报第014版   \n",
       "5908   83709    新华社机器人    中国证券报?中证网   \n",
       "7243   82374       李文瑶  科技日报社-中国科技网   \n",
       "7833   81784       NaN     南方日报第01版   \n",
       "7931   81686       NaN     郑州日报第03版   \n",
       "9895   79722       NaN        中国新闻网   \n",
       "10569  79045       NaN           百度   \n",
       "\n",
       "                                                 content  \\\n",
       "1056   　　前日，太合音乐集团服务艺人、国内英式摇滚领军人物果味VC乐队受邀参加中国麻江蓝莓音乐节。...   \n",
       "1559   　　中国证券网讯 财政部１３日发布消息称，经国务院批准，２０１７年财政部将在境外发行１４０亿...   \n",
       "3622   访问：Fuze Code Studio\\r\\n在代码输入方式上，支持Fuze虚拟键盘或者外接...   \n",
       "5144   职位：\\r\\n专注宏观经济报道方向的编辑、记者\\r\\n职位要求：\\r\\n1、需要一定工作经验...   \n",
       "5744                                    　　新华社记者?任珑?摄\\r\\n   \n",
       "5908   数据来源：机器人 数据采集时间2017/6/22 17:00:10 数据源地址 （这条新闻由...   \n",
       "7243   　　 （记者徐玢）由北京大学科维理天文与天体物理研究所博士后于浩然与北京师范大学天文系教授张...   \n",
       "7833   神回复\\r\\n南方日报讯 21日，新华社官方微信推送了一条题为《刚刚，沙特王储被废了》的短新...   \n",
       "7931   新华社四川西昌6月19日电 19日0时11分，我国在西昌卫星发射中心用长征三号乙运载火箭发射...   \n",
       "9895   中新社雅加达6月13日电 当地时间12日下午，印尼首都雅加达再次发生持枪抢劫凶案，一女青年在...   \n",
       "10569  日\\n一\\n二\\n三\\n四\\n五\\n六\\n?\\n?\\n?\\n?\\n?\\n?\\n?\\n?\\n?...   \n",
       "\n",
       "                                                 feature  \\\n",
       "1056   {\"type\":\"娱乐\",\"site\":\"环球\",\"commentNum\":\"0\",\"joi...   \n",
       "1559   {\"type\":\"债市\",\"site\":\"中证网\",\"commentNum\":\"0\",\"jo...   \n",
       "3622   {\"type\":\"软件\",\"site\":\"cnbeta\",\"commentNum\":\"2\",...   \n",
       "5144   {\"type\":\"财经\",\"site\":\"凤凰\",\"commentNum\":\"1\",\"joi...   \n",
       "5744   {\"type\":\"体育新闻 文娱新闻 \",\"site\":\"海南日报\",\"commentNum...   \n",
       "5908   {\"type\":\"数据资金\",\"site\":\"中证网\",\"commentNum\":\"0\",\"...   \n",
       "7243   {\"type\":\"科技\",\"site\":\"环球\",\"commentNum\":\"0\",\"joi...   \n",
       "7833   {\"type\":\"封面\",\"site\":\"南方日报\",\"commentNum\":\"0\",\"j...   \n",
       "7931   {\"type\":\"要闻国内\",\"site\":\"郑州日报\",\"commentNum\":\"0\",...   \n",
       "9895   {\"type\":\"国际新闻\",\"site\":\"环球\",\"commentNum\":\"0\",\"j...   \n",
       "10569  {\"type\":\"新闻\",\"site\":\"百度\",\"commentNum\":\"0\",\"joi...   \n",
       "\n",
       "                                   title  \\\n",
       "1056             果味VC麻江蓝莓音乐节首演新曲《躁不完的青春》   \n",
       "1559                 财政部将在境外发行140亿元人民币国债   \n",
       "3622   Fuze Code Studio发布：在Switch主机上编程游戏   \n",
       "5144                       凤凰财经招聘宏观编辑、记者   \n",
       "5744                         《终极斗士4》亮相上海   \n",
       "5908           6月22日A股全日资金主力净流入、净流出前十大个股   \n",
       "7243              “天河二号”模拟出宇宙暗物质和中微子演化进程   \n",
       "7833                        卖得一手好萌，获赞十万+   \n",
       "7931                 “中星9A”广播电视 直播卫星发射异常   \n",
       "9895                印尼首都雅加达连发持枪劫案 两青年遭劫杀   \n",
       "10569           你必须知道的恋爱理论,干货多多_恋爱吧_百度贴吧   \n",
       "\n",
       "                                                     url  label  y  y_predict  \n",
       "1056   http://ent.huanqiu.com/music/yinle-neidi/2017-...      0  0          1  \n",
       "1559   http://www.cs.com.cn/zqxw/201706/t20170613_532...      0  0          1  \n",
       "3622      http://www.cnbeta.com/articles/soft/624129.htm      0  0          1  \n",
       "5144   http://finance.ifeng.com/a/20170223/15211857_0...      0  0          1  \n",
       "5744   http://hnrb.hinews.cn/html/2017-06/23/content_...      0  0          1  \n",
       "5908   http://www.cs.com.cn/gppd/sjjj/201706/t2017062...      0  0          1  \n",
       "7243   http://tech.huanqiu.com/discovery/2017-06/1083...      0  0          1  \n",
       "7833   http://epaper.southcn.com/nfdaily/html/2017-06...      0  0          1  \n",
       "7931   http://zzrb.zynews.cn/html/2017-06/20/content_...      0  0          1  \n",
       "9895   http://world.huanqiu.com/hot/2017-06/10833815....      0  0          1  \n",
       "10569                http://tieba.baidu.com/p/3719563693      0  0          1  "
      ]
     },
     "execution_count": 157,
     "metadata": {},
     "output_type": "execute_result"
    }
   ],
   "source": [
    "fraud_candidates3"
   ]
  },
  {
   "cell_type": "markdown",
   "metadata": {},
   "source": [
    "涉嫌抄袭的报社包括："
   ]
  },
  {
   "cell_type": "code",
   "execution_count": 158,
   "metadata": {},
   "outputs": [
    {
     "data": {
      "text/plain": [
       "海南日报第014版      1\n",
       "中国证券网          1\n",
       "cnBeta.COM     1\n",
       "凤凰财经           1\n",
       "中国新闻网          1\n",
       "南方日报第01版       1\n",
       "科技日报社-中国科技网    1\n",
       "中国证券报?中证网      1\n",
       "郑州日报第03版       1\n",
       "百度             1\n",
       "环球网            1\n",
       "Name: source, dtype: int64"
      ]
     },
     "execution_count": 158,
     "metadata": {},
     "output_type": "execute_result"
    }
   ],
   "source": [
    "fraud_candidates3['source'].value_counts()"
   ]
  },
  {
   "cell_type": "markdown",
   "metadata": {},
   "source": [
    "### Step10： 总结该过程，什么是数据思维？什么是机器学习思维？"
   ]
  },
  {
   "cell_type": "markdown",
   "metadata": {},
   "source": [
    "数据思维是，从数据的角度出发，寻找规律和问题的解决方法。机器学习思维是，在了解机器学习的能与不能的基础上，将实际问题与机器学习的方法结合起来。把不是机器学习的问题变成机器学习的问题。融会贯通，从而知道何时何地如何使用机器学习方法解决问题。\n",
    "以鉴别抄袭新华社新闻这件事为例，要解决这个问题，传统的思维方式是找关键词，以及关键词之间的关系，再结合新闻的各种信息（可能包括发布时间，发布者，等）去编写一个很多规则的程序去找出抄袭的新闻。可是这样的问题就是，关键词和规则越来越多，越来越复杂，也依然难以完美找出抄袭的新闻。\n",
    "运用数据思维，是否抄袭新闻是可以通过新闻的内容去判断的。抄袭的新闻理论上会用到和被抄袭新闻相似的词，在概率上，它们的相似度应该比不抄袭的新闻的相似度高。\n",
    "运用机器学习思维，鉴别抄袭新闻实际上是一个二分类问题。如果分类的准确度足够高，我们就能用这个模型去判断一个未知的新闻是否是新华社的。如果判断为新华社的，可实际不是新华社的。这个新闻就有抄袭嫌疑。"
   ]
  },
  {
   "cell_type": "markdown",
   "metadata": {},
   "source": [
    "### (Optional)使用第4课讲解的 edit distance，在涉嫌抄袭的文章中，找到其重复的文字与被修改过的文字。但是edit_distance函数对于文本稍微长一点，就非常慢，因为要遍历所有的字。"
   ]
  },
  {
   "cell_type": "code",
   "execution_count": 32,
   "metadata": {},
   "outputs": [],
   "source": [
    "solution = {}"
   ]
  },
  {
   "cell_type": "code",
   "execution_count": 2,
   "metadata": {},
   "outputs": [],
   "source": [
    "def edit_distance(string1, string2):\n",
    "    \n",
    "    if len(string1) == 0: return len(string2)\n",
    "    if len(string2) == 0: return len(string1)\n",
    "    \n",
    "    tail_s1 = string1[-1]\n",
    "    tail_s2 = string2[-1]\n",
    "    \n",
    "    candidates = [\n",
    "        (edit_distance(string1[:-1], string2) + 1, 'DEL {}'.format(tail_s1)),  # string 1 delete tail\n",
    "        (edit_distance(string1, string2[:-1]) + 1, 'ADD {}'.format(tail_s2)),  # string 1 add tail of string2\n",
    "    ]\n",
    "    \n",
    "    if tail_s1 == tail_s2:\n",
    "        both_forward = (edit_distance(string1[:-1], string2[:-1]) + 0, '')\n",
    "    else:\n",
    "        both_forward = (edit_distance(string1[:-1], string2[:-1]) + 1, 'SUB {} => {}'.format(tail_s1, tail_s2))\n",
    "\n",
    "    candidates.append(both_forward)\n",
    "    \n",
    "    min_distance, operation = min(candidates, key=lambda x: x[0])\n",
    "    \n",
    "    solution[(string1, string2)] = operation \n",
    "    \n",
    "    return min_distance"
   ]
  },
  {
   "cell_type": "code",
   "execution_count": 33,
   "metadata": {},
   "outputs": [
    {
     "data": {
      "text/plain": [
       "5"
      ]
     },
     "execution_count": 33,
     "metadata": {},
     "output_type": "execute_result"
    }
   ],
   "source": [
    "edit_distance('军运会即将在武汉举行','军运会十月初即将在武汉展开')"
   ]
  },
  {
   "cell_type": "code",
   "execution_count": 44,
   "metadata": {},
   "outputs": [
    {
     "data": {
      "text/plain": [
       "{('军', '军'): '',\n",
       " ('军', '军运'): 'ADD 运',\n",
       " ('军', '军运会'): 'ADD 会',\n",
       " ('军', '军运会十'): 'ADD 十',\n",
       " ('军', '军运会十月'): 'ADD 月',\n",
       " ('军', '军运会十月初'): 'ADD 初',\n",
       " ('军', '军运会十月初即'): 'ADD 即',\n",
       " ('军', '军运会十月初即将'): 'ADD 将',\n",
       " ('军', '军运会十月初即将在'): 'ADD 在',\n",
       " ('军', '军运会十月初即将在武'): 'ADD 武',\n",
       " ('军', '军运会十月初即将在武汉'): 'ADD 汉',\n",
       " ('军', '军运会十月初即将在武汉展'): 'ADD 展',\n",
       " ('军', '军运会十月初即将在武汉展开'): 'ADD 开',\n",
       " ('军运', '军'): 'DEL 运',\n",
       " ('军运', '军运'): '',\n",
       " ('军运', '军运会'): 'ADD 会',\n",
       " ('军运', '军运会十'): 'ADD 十',\n",
       " ('军运', '军运会十月'): 'ADD 月',\n",
       " ('军运', '军运会十月初'): 'ADD 初',\n",
       " ('军运', '军运会十月初即'): 'ADD 即',\n",
       " ('军运', '军运会十月初即将'): 'ADD 将',\n",
       " ('军运', '军运会十月初即将在'): 'ADD 在',\n",
       " ('军运', '军运会十月初即将在武'): 'ADD 武',\n",
       " ('军运', '军运会十月初即将在武汉'): 'ADD 汉',\n",
       " ('军运', '军运会十月初即将在武汉展'): 'ADD 展',\n",
       " ('军运', '军运会十月初即将在武汉展开'): 'ADD 开',\n",
       " ('军运会', '军'): 'DEL 会',\n",
       " ('军运会', '军运'): 'DEL 会',\n",
       " ('军运会', '军运会'): '',\n",
       " ('军运会', '军运会十'): 'ADD 十',\n",
       " ('军运会', '军运会十月'): 'ADD 月',\n",
       " ('军运会', '军运会十月初'): 'ADD 初',\n",
       " ('军运会', '军运会十月初即'): 'ADD 即',\n",
       " ('军运会', '军运会十月初即将'): 'ADD 将',\n",
       " ('军运会', '军运会十月初即将在'): 'ADD 在',\n",
       " ('军运会', '军运会十月初即将在武'): 'ADD 武',\n",
       " ('军运会', '军运会十月初即将在武汉'): 'ADD 汉',\n",
       " ('军运会', '军运会十月初即将在武汉展'): 'ADD 展',\n",
       " ('军运会', '军运会十月初即将在武汉展开'): 'ADD 开',\n",
       " ('军运会即', '军'): 'DEL 即',\n",
       " ('军运会即', '军运'): 'DEL 即',\n",
       " ('军运会即', '军运会'): 'DEL 即',\n",
       " ('军运会即', '军运会十'): 'SUB 即 => 十',\n",
       " ('军运会即', '军运会十月'): 'ADD 月',\n",
       " ('军运会即', '军运会十月初'): 'ADD 初',\n",
       " ('军运会即', '军运会十月初即'): '',\n",
       " ('军运会即', '军运会十月初即将'): 'ADD 将',\n",
       " ('军运会即', '军运会十月初即将在'): 'ADD 在',\n",
       " ('军运会即', '军运会十月初即将在武'): 'ADD 武',\n",
       " ('军运会即', '军运会十月初即将在武汉'): 'ADD 汉',\n",
       " ('军运会即', '军运会十月初即将在武汉展'): 'ADD 展',\n",
       " ('军运会即', '军运会十月初即将在武汉展开'): 'ADD 开',\n",
       " ('军运会即将', '军'): 'DEL 将',\n",
       " ('军运会即将', '军运'): 'DEL 将',\n",
       " ('军运会即将', '军运会'): 'DEL 将',\n",
       " ('军运会即将', '军运会十'): 'DEL 将',\n",
       " ('军运会即将', '军运会十月'): 'SUB 将 => 月',\n",
       " ('军运会即将', '军运会十月初'): 'ADD 初',\n",
       " ('军运会即将', '军运会十月初即'): 'DEL 将',\n",
       " ('军运会即将', '军运会十月初即将'): '',\n",
       " ('军运会即将', '军运会十月初即将在'): 'ADD 在',\n",
       " ('军运会即将', '军运会十月初即将在武'): 'ADD 武',\n",
       " ('军运会即将', '军运会十月初即将在武汉'): 'ADD 汉',\n",
       " ('军运会即将', '军运会十月初即将在武汉展'): 'ADD 展',\n",
       " ('军运会即将', '军运会十月初即将在武汉展开'): 'ADD 开',\n",
       " ('军运会即将在', '军'): 'DEL 在',\n",
       " ('军运会即将在', '军运'): 'DEL 在',\n",
       " ('军运会即将在', '军运会'): 'DEL 在',\n",
       " ('军运会即将在', '军运会十'): 'DEL 在',\n",
       " ('军运会即将在', '军运会十月'): 'DEL 在',\n",
       " ('军运会即将在', '军运会十月初'): 'SUB 在 => 初',\n",
       " ('军运会即将在', '军运会十月初即'): 'ADD 即',\n",
       " ('军运会即将在', '军运会十月初即将'): 'DEL 在',\n",
       " ('军运会即将在', '军运会十月初即将在'): '',\n",
       " ('军运会即将在', '军运会十月初即将在武'): 'ADD 武',\n",
       " ('军运会即将在', '军运会十月初即将在武汉'): 'ADD 汉',\n",
       " ('军运会即将在', '军运会十月初即将在武汉展'): 'ADD 展',\n",
       " ('军运会即将在', '军运会十月初即将在武汉展开'): 'ADD 开',\n",
       " ('军运会即将在武', '军'): 'DEL 武',\n",
       " ('军运会即将在武', '军运'): 'DEL 武',\n",
       " ('军运会即将在武', '军运会'): 'DEL 武',\n",
       " ('军运会即将在武', '军运会十'): 'DEL 武',\n",
       " ('军运会即将在武', '军运会十月'): 'DEL 武',\n",
       " ('军运会即将在武', '军运会十月初'): 'DEL 武',\n",
       " ('军运会即将在武', '军运会十月初即'): 'SUB 武 => 即',\n",
       " ('军运会即将在武', '军运会十月初即将'): 'DEL 武',\n",
       " ('军运会即将在武', '军运会十月初即将在'): 'DEL 武',\n",
       " ('军运会即将在武', '军运会十月初即将在武'): '',\n",
       " ('军运会即将在武', '军运会十月初即将在武汉'): 'ADD 汉',\n",
       " ('军运会即将在武', '军运会十月初即将在武汉展'): 'ADD 展',\n",
       " ('军运会即将在武', '军运会十月初即将在武汉展开'): 'ADD 开',\n",
       " ('军运会即将在武汉', '军'): 'DEL 汉',\n",
       " ('军运会即将在武汉', '军运'): 'DEL 汉',\n",
       " ('军运会即将在武汉', '军运会'): 'DEL 汉',\n",
       " ('军运会即将在武汉', '军运会十'): 'DEL 汉',\n",
       " ('军运会即将在武汉', '军运会十月'): 'DEL 汉',\n",
       " ('军运会即将在武汉', '军运会十月初'): 'DEL 汉',\n",
       " ('军运会即将在武汉', '军运会十月初即'): 'DEL 汉',\n",
       " ('军运会即将在武汉', '军运会十月初即将'): 'SUB 汉 => 将',\n",
       " ('军运会即将在武汉', '军运会十月初即将在'): 'DEL 汉',\n",
       " ('军运会即将在武汉', '军运会十月初即将在武'): 'DEL 汉',\n",
       " ('军运会即将在武汉', '军运会十月初即将在武汉'): '',\n",
       " ('军运会即将在武汉', '军运会十月初即将在武汉展'): 'ADD 展',\n",
       " ('军运会即将在武汉', '军运会十月初即将在武汉展开'): 'ADD 开',\n",
       " ('军运会即将在武汉举', '军'): 'DEL 举',\n",
       " ('军运会即将在武汉举', '军运'): 'DEL 举',\n",
       " ('军运会即将在武汉举', '军运会'): 'DEL 举',\n",
       " ('军运会即将在武汉举', '军运会十'): 'DEL 举',\n",
       " ('军运会即将在武汉举', '军运会十月'): 'DEL 举',\n",
       " ('军运会即将在武汉举', '军运会十月初'): 'DEL 举',\n",
       " ('军运会即将在武汉举', '军运会十月初即'): 'DEL 举',\n",
       " ('军运会即将在武汉举', '军运会十月初即将'): 'DEL 举',\n",
       " ('军运会即将在武汉举', '军运会十月初即将在'): 'DEL 举',\n",
       " ('军运会即将在武汉举', '军运会十月初即将在武'): 'DEL 举',\n",
       " ('军运会即将在武汉举', '军运会十月初即将在武汉'): 'DEL 举',\n",
       " ('军运会即将在武汉举', '军运会十月初即将在武汉展'): 'SUB 举 => 展',\n",
       " ('军运会即将在武汉举', '军运会十月初即将在武汉展开'): 'ADD 开',\n",
       " ('军运会即将在武汉举行', '军'): 'DEL 行',\n",
       " ('军运会即将在武汉举行', '军运'): 'DEL 行',\n",
       " ('军运会即将在武汉举行', '军运会'): 'DEL 行',\n",
       " ('军运会即将在武汉举行', '军运会十'): 'DEL 行',\n",
       " ('军运会即将在武汉举行', '军运会十月'): 'DEL 行',\n",
       " ('军运会即将在武汉举行', '军运会十月初'): 'DEL 行',\n",
       " ('军运会即将在武汉举行', '军运会十月初即'): 'DEL 行',\n",
       " ('军运会即将在武汉举行', '军运会十月初即将'): 'DEL 行',\n",
       " ('军运会即将在武汉举行', '军运会十月初即将在'): 'DEL 行',\n",
       " ('军运会即将在武汉举行', '军运会十月初即将在武'): 'DEL 行',\n",
       " ('军运会即将在武汉举行', '军运会十月初即将在武汉'): 'DEL 行',\n",
       " ('军运会即将在武汉举行', '军运会十月初即将在武汉展'): 'DEL 行',\n",
       " ('军运会即将在武汉举行', '军运会十月初即将在武汉展开'): 'SUB 行 => 开'}"
      ]
     },
     "execution_count": 44,
     "metadata": {},
     "output_type": "execute_result"
    }
   ],
   "source": [
    "solution"
   ]
  },
  {
   "cell_type": "code",
   "execution_count": 30,
   "metadata": {},
   "outputs": [],
   "source": [
    "def parse_solution(string1, string2):\n",
    "    result = []\n",
    "    def parser(string1, string2):\n",
    "        if not string1 or not string2: return None\n",
    "\n",
    "        operation = solution[(string1, string2)]\n",
    "        if operation != '':\n",
    "            result.append('\\'{}\\' to \\'{}\\': \\'{}\\''.format(string1, string2, operation))\n",
    "        if operation.startswith('DEL'):\n",
    "            parser(string1[:-1], string2)\n",
    "        elif operation.startswith('ADD'):\n",
    "            parser(string1, string2[:-1])\n",
    "        elif operation.startswith('SUB') or operation == '':\n",
    "            parser(string1[:-1], string2[:-1])\n",
    "        return result\n",
    "    \n",
    "    result = parser(string1, string2)\n",
    "    if result != None:\n",
    "        return '--------->'.join(result)\n",
    "    else: return None"
   ]
  },
  {
   "cell_type": "code",
   "execution_count": 31,
   "metadata": {},
   "outputs": [
    {
     "data": {
      "text/plain": [
       "\"'军运会即将在武汉举行' to '军运会十月初即将在武汉展开': 'SUB 行 => 开'--------->'军运会即将在武汉举' to '军运会十月初即将在武汉展': 'SUB 举 => 展'--------->'军运会' to '军运会十月初': 'ADD 初'--------->'军运会' to '军运会十月': 'ADD 月'--------->'军运会' to '军运会十': 'ADD 十'\""
      ]
     },
     "execution_count": 31,
     "metadata": {},
     "output_type": "execute_result"
    }
   ],
   "source": [
    "parse_solution('军运会即将在武汉举行','军运会十月初即将在武汉展开')"
   ]
  },
  {
   "cell_type": "markdown",
   "metadata": {},
   "source": [
    "## 如果不使用edit_distance方法，忽略对齐，只考虑相同词汇，比较如下："
   ]
  },
  {
   "cell_type": "code",
   "execution_count": 160,
   "metadata": {},
   "outputs": [],
   "source": [
    "from sklearn.metrics.pairwise import cosine_similarity"
   ]
  },
  {
   "cell_type": "code",
   "execution_count": 218,
   "metadata": {},
   "outputs": [],
   "source": [
    "similar_news = cosine_similarity(X[1559:1560], X)"
   ]
  },
  {
   "cell_type": "code",
   "execution_count": 220,
   "metadata": {},
   "outputs": [
    {
     "data": {
      "text/plain": [
       "array([ 1559, 19278, 24961, 23542], dtype=int64)"
      ]
     },
     "execution_count": 220,
     "metadata": {},
     "output_type": "execute_result"
    }
   ],
   "source": [
    "similar_news[0].argsort()[:-5:-1] # 找出与第1559篇新闻最相似的5篇新闻"
   ]
  },
  {
   "cell_type": "code",
   "execution_count": 283,
   "metadata": {},
   "outputs": [],
   "source": [
    "def clean_news(i):\n",
    "    content = news['content'].iloc[i]\n",
    "    content = ''.join(re.findall(r'\\w+', content))\n",
    "    content = ''.join(re.sub(r'[0-9]+', '', content))\n",
    "    content_list = list()\n",
    "    content_list.extend(list(jieba.cut(content)))\n",
    "    return content_list"
   ]
  },
  {
   "cell_type": "code",
   "execution_count": 306,
   "metadata": {},
   "outputs": [],
   "source": [
    "def get_repeated_words(fraud_news, xinhua_news):\n",
    "    repeated = list()\n",
    "    for i in fraud_news:\n",
    "        if (i in set(xinhua_news)) and (i not in repeated):\n",
    "            repeated.append(i)\n",
    "    return repeated"
   ]
  },
  {
   "cell_type": "code",
   "execution_count": 305,
   "metadata": {},
   "outputs": [],
   "source": [
    "def get_non_repeated_words(fraud_news, xinhua_news):\n",
    "    non_repeated = list()\n",
    "    for i in fraud_news:\n",
    "        if (i not in set(xinhua_news)) and (i not in non_repeated):\n",
    "            non_repeated.append(i)\n",
    "    return non_repeated"
   ]
  },
  {
   "cell_type": "markdown",
   "metadata": {},
   "source": [
    "### 对第1559篇新闻进行分析，看看它与最相似的几篇新闻有什么共同词汇，又有什么改动？\n",
    "发现相同词都是常见词，是因为它们都是讨论同一个话题而自然产生的，并不属于抄袭。"
   ]
  },
  {
   "cell_type": "code",
   "execution_count": 294,
   "metadata": {},
   "outputs": [
    {
     "data": {
      "text/plain": [
       "'\\u3000\\u3000新华社北京４月７日电\\u3000中国外汇交易中心４月７日受权公布人民币对美元、欧元、日元、港元、英镑、澳元、新西兰元、新加坡元、瑞士法郎、加元、林吉特、卢布、兰特、韩元、迪拉姆、里亚尔、福林、兹罗提、丹麦克朗、瑞典克朗、挪威克朗、里拉及比索的市场汇价。\\\\n\\u3000\\u3000４月７日人民币汇率中间价如下：\\\\n\\u3000\\u3000１００美元\\u3000\\u3000\\u3000\\u3000\\u3000６８９．４９人民币\\\\n\\u3000\\u3000１００欧元\\u3000\\u3000\\u3000\\u3000\\u3000７３４．７０人民币\\\\n\\u3000\\u3000１００日元\\u3000\\u3000\\u3000\\u3000\\u3000６．２２５２人民币\\\\n\\u3000\\u3000１００港元\\u3000\\u3000\\u3000\\u3000\\u3000８８．７４０人民币\\\\n\\u3000\\u3000１００英镑\\u3000\\u3000\\u3000\\u3000\\u3000８６０．７３人民币\\\\n\\u3000\\u3000１００澳大利亚元\\u3000\\u3000５２０．４７人民币\\\\n\\u3000\\u3000１００新西兰元\\u3000\\u3000\\u3000４８１．１１人民币\\\\n\\u3000\\u3000１００新加坡元\\u3000\\u3000\\u3000４９２．３４人民币\\\\n\\u3000\\u3000１００瑞士法郎\\u3000\\u3000\\u3000６８６．８１人民币\\\\n\\u3000\\u3000１００加拿大元\\u3000\\u3000\\u3000５１４．５１人民币\\\\n\\u3000\\u3000１００人民币\\u3000\\u3000\\u3000\\u3000６４．１０２马来西亚林吉特\\\\n\\u3000\\u3000１００人民币\\u3000\\u3000\\u3000\\u3000８１６．５１俄罗斯卢布\\\\n\\u3000\\u3000１００人民币\\u3000\\u3000\\u3000\\u3000１９９．５７南非兰特\\\\n\\u3000\\u3000１００人民币\\u3000\\u3000\\u3000\\u3000１６３９７韩元\\\\n\\u3000\\u3000１００人民币\\u3000\\u3000\\u3000\\u3000５３．１９８阿联酋迪拉姆\\\\n\\u3000\\u3000１００人民币\\u3000\\u3000\\u3000\\u3000５４．３２１沙特里亚尔\\\\n\\u3000\\u3000１００人民币\\u3000\\u3000\\u3000\\u3000４２２７．５１匈牙利福林\\\\n\\u3000\\u3000１００人民币\\u3000\\u3000\\u3000\\u3000５７．５７２波兰兹罗提\\\\n\\u3000\\u3000１００人民币\\u3000\\u3000\\u3000\\u3000１０１．１９丹麦克朗\\\\n\\u3000\\u3000１００人民币\\u3000\\u3000\\u3000\\u3000１３０．７２瑞典克朗\\\\n\\u3000\\u3000１００人民币\\u3000\\u3000\\u3000\\u3000１２４．９３挪威克朗\\\\n\\u3000\\u3000１００人民币\\u3000\\u3000\\u3000\\u3000５３．７３３土耳其里拉\\\\n\\u3000\\u3000１００人民币\\u3000\\u3000\\u3000\\u3000２７１．７０墨西哥比索（完）'"
      ]
     },
     "execution_count": 294,
     "metadata": {},
     "output_type": "execute_result"
    }
   ],
   "source": [
    "news['content'].loc[19278] # 其中最相似的新闻是第19278篇"
   ]
  },
  {
   "cell_type": "markdown",
   "metadata": {},
   "source": [
    "1. 与第19278篇新闻对比"
   ]
  },
  {
   "cell_type": "code",
   "execution_count": 310,
   "metadata": {},
   "outputs": [
    {
     "data": {
      "text/plain": [
       "['１', '３', '日', '２', '０', '７', '４', '人民币', '美元', '新华社', '的', '公布']"
      ]
     },
     "execution_count": 310,
     "metadata": {},
     "output_type": "execute_result"
    }
   ],
   "source": [
    "get_repeated_words(clean_news(1559), clean_news(19278)) # 抄袭新闻与该新闻有以下的相同词"
   ]
  },
  {
   "cell_type": "code",
   "execution_count": 311,
   "metadata": {},
   "outputs": [
    {
     "data": {
      "text/plain": [
       "['中国',\n",
       " '证券网',\n",
       " '讯',\n",
       " '财政部',\n",
       " '发布',\n",
       " '消息',\n",
       " '称经',\n",
       " '国务院',\n",
       " '批准',\n",
       " '年',\n",
       " '将',\n",
       " '在',\n",
       " '境外',\n",
       " '发行',\n",
       " '亿元',\n",
       " '国债',\n",
       " '和',\n",
       " '主权',\n",
       " '债券',\n",
       " '据',\n",
       " '报道',\n",
       " '其中',\n",
       " '将分',\n",
       " '两次',\n",
       " '香港特别行政区',\n",
       " '上',\n",
       " '下半年',\n",
       " '各',\n",
       " '于',\n",
       " '据介绍',\n",
       " '相关',\n",
       " '具体',\n",
       " '安排',\n",
       " '前']"
      ]
     },
     "execution_count": 311,
     "metadata": {},
     "output_type": "execute_result"
    }
   ],
   "source": [
    "get_non_repeated_words(clean_news(1559), clean_news(19278)) #抄袭新闻与该新闻有以下不同词汇，即改动"
   ]
  },
  {
   "cell_type": "markdown",
   "metadata": {},
   "source": [
    "2. 与第24961篇新闻对比，发现24961与19278一模一样，所以没有更多结果。"
   ]
  },
  {
   "cell_type": "code",
   "execution_count": 314,
   "metadata": {},
   "outputs": [
    {
     "data": {
      "text/plain": [
       "['１', '３', '日', '２', '０', '７', '４', '人民币', '美元', '新华社', '的', '公布']"
      ]
     },
     "execution_count": 314,
     "metadata": {},
     "output_type": "execute_result"
    }
   ],
   "source": [
    "get_repeated_words(clean_news(1559), clean_news(24961)) # 抄袭新闻与该新闻有以下的相同词"
   ]
  },
  {
   "cell_type": "code",
   "execution_count": 315,
   "metadata": {},
   "outputs": [
    {
     "data": {
      "text/plain": [
       "['中国',\n",
       " '证券网',\n",
       " '讯',\n",
       " '财政部',\n",
       " '发布',\n",
       " '消息',\n",
       " '称经',\n",
       " '国务院',\n",
       " '批准',\n",
       " '年',\n",
       " '将',\n",
       " '在',\n",
       " '境外',\n",
       " '发行',\n",
       " '亿元',\n",
       " '国债',\n",
       " '和',\n",
       " '主权',\n",
       " '债券',\n",
       " '据',\n",
       " '报道',\n",
       " '其中',\n",
       " '将分',\n",
       " '两次',\n",
       " '香港特别行政区',\n",
       " '上',\n",
       " '下半年',\n",
       " '各',\n",
       " '于',\n",
       " '据介绍',\n",
       " '相关',\n",
       " '具体',\n",
       " '安排',\n",
       " '前']"
      ]
     },
     "execution_count": 315,
     "metadata": {},
     "output_type": "execute_result"
    }
   ],
   "source": [
    "get_non_repeated_words(clean_news(1559), clean_news(24961)) #抄袭新闻与该新闻有以下不同词汇，即改动"
   ]
  },
  {
   "cell_type": "markdown",
   "metadata": {},
   "source": [
    "3. 与第23542篇新闻对比"
   ]
  },
  {
   "cell_type": "code",
   "execution_count": 319,
   "metadata": {},
   "outputs": [
    {
     "data": {
      "text/plain": [
       "['１',\n",
       " '３',\n",
       " '日',\n",
       " '发布',\n",
       " '２',\n",
       " '０',\n",
       " '７',\n",
       " '年',\n",
       " '在',\n",
       " '４',\n",
       " '美元',\n",
       " '新华社',\n",
       " '的',\n",
       " '前',\n",
       " '公布']"
      ]
     },
     "execution_count": 319,
     "metadata": {},
     "output_type": "execute_result"
    }
   ],
   "source": [
    "get_repeated_words(clean_news(1559), clean_news(23542)) # 抄袭新闻与该新闻有以下的相同词"
   ]
  },
  {
   "cell_type": "code",
   "execution_count": 320,
   "metadata": {},
   "outputs": [
    {
     "data": {
      "text/plain": [
       "['中国',\n",
       " '证券网',\n",
       " '讯',\n",
       " '财政部',\n",
       " '消息',\n",
       " '称经',\n",
       " '国务院',\n",
       " '批准',\n",
       " '将',\n",
       " '境外',\n",
       " '发行',\n",
       " '亿元',\n",
       " '人民币',\n",
       " '国债',\n",
       " '和',\n",
       " '主权',\n",
       " '债券',\n",
       " '据',\n",
       " '报道',\n",
       " '其中',\n",
       " '将分',\n",
       " '两次',\n",
       " '香港特别行政区',\n",
       " '上',\n",
       " '下半年',\n",
       " '各',\n",
       " '于',\n",
       " '据介绍',\n",
       " '相关',\n",
       " '具体',\n",
       " '安排']"
      ]
     },
     "execution_count": 320,
     "metadata": {},
     "output_type": "execute_result"
    }
   ],
   "source": [
    "get_non_repeated_words(clean_news(1559), clean_news(23542)) #抄袭新闻与该新闻有以下不同词汇，即改动"
   ]
  },
  {
   "cell_type": "markdown",
   "metadata": {},
   "source": [
    "### 再对第5144篇新闻进行分析。\n",
    "发现它的相似新闻同为招聘新闻，并没有抄袭的成分。"
   ]
  },
  {
   "cell_type": "code",
   "execution_count": 337,
   "metadata": {},
   "outputs": [],
   "source": [
    "similar_news2 = cosine_similarity(X[5144:5145], X)"
   ]
  },
  {
   "cell_type": "code",
   "execution_count": 338,
   "metadata": {},
   "outputs": [
    {
     "data": {
      "text/plain": [
       "array([ 5144,   473, 38486, 25501], dtype=int64)"
      ]
     },
     "execution_count": 338,
     "metadata": {},
     "output_type": "execute_result"
    }
   ],
   "source": [
    "similar_news2[0].argsort()[:-5:-1] # 找出与第5908篇新闻最相似的5篇新闻"
   ]
  },
  {
   "cell_type": "code",
   "execution_count": 339,
   "metadata": {},
   "outputs": [
    {
     "data": {
      "text/plain": [
       "'职位：\\r\\n专注宏观经济报道方向的编辑、记者\\r\\n职位要求：\\r\\n1、需要一定工作经验，有若干代表作品；\\r\\n2、对宏观经济有自己的逻辑框架，有自己的报道方法或专注领域；\\r\\n3、年龄30岁以下，学历不限，有宏观领域资源优先；\\r\\n职位工作：\\r\\n1、负责日常新闻报道、微信编辑等；\\r\\n2、热点、重大新闻采访、写稿\\r\\n待遇优厚、面议；工作地点：望京\\r\\n如有意自荐或推荐，请将简历发至：li_yuan@ifeng.com\\r\\n'"
      ]
     },
     "execution_count": 339,
     "metadata": {},
     "output_type": "execute_result"
    }
   ],
   "source": [
    "news['content'].iloc[5144]"
   ]
  },
  {
   "cell_type": "code",
   "execution_count": 340,
   "metadata": {},
   "outputs": [
    {
     "data": {
      "text/plain": [
       "'凤凰体育招聘\\r\\n如果你热爱运动，请来凤凰体育；如果你擅长写作，文笔突出，想抒发你的观点与看法，别等了，快来凤凰体育；如果你有强烈的责任心与进取心，能够吃苦耐劳，那么还不来凤凰体育？\\r\\n在这里，你不仅可以体验国内国外各大赛事，还有机会与体育明星、娱乐明星零距离接触，就问你怕不怕！\\r\\n凤凰体育频道招募实习编辑（人数：3人）\\r\\n岗位：体育频道实习编辑\\r\\n岗位职责：\\r\\n1.凤凰网体育频道、内容采编工作，完成日常新闻采集、发布、精编、推荐；\\r\\n2.PC端、移动端体育频道更新维护；\\r\\n3.日常体育频道图片的发布；\\r\\n4.协助部门同事，完成相关体育内容的传播及对接工作\\r\\n工作性质：实习\\r\\n工作待遇：固定工资+每日补助\\r\\n工作地点：北京\\r\\n任职要求：\\r\\n1.北京重点本科大学大二、大三或研一在校生。\\r\\n2.热爱体育，关注行业热点，熟悉NBA、CBA、国际足球、中超、网球及综合体育等主流体育赛事。对传播体育新闻有兴趣；\\r\\n3.关注网络热点，有较强的新闻敏感度，擅于挖掘线索；\\r\\n4.服从安排，做事勤恳，能忍受比较枯燥的互联网编辑基本工作（日常新闻发布、内容维护)，能接受适当程度加班；\\r\\n5.做标题、选稿、编稿、写稿、策划等新闻基本功扎实；\\r\\n6.有媒体经验最好，拥有平面媒体体育方面实习经验者优先；\\r\\n7.有强烈的责任心和进取心，工作态度认真，能适应高强度工作压力，执行力优秀，沟通能力强，注重团队合作\\r\\n凤凰体育招募微博运营实习生（人数：1人）\\r\\n岗位：微博运营实习编辑\\r\\n岗位职责：负责凤凰体育官方微博的运营维护\\r\\n工作性质：实习\\r\\n工作待遇：固定工资+每日补助\\r\\n工作地点：北京\\r\\n任职要求：\\r\\n1.北京重点本科大学大二、大三或研一在校生。\\r\\n2.热爱体育，关注行业热点，熟悉NBA、CBA、国际足球、中超、网球及综合体育等主流体育赛事。\\r\\n3.你应该是一个“微博控”，了解微博用户行为习惯，具有1年以上微博运营工作经验我们会优先考虑。\\r\\n4.有一定的文字基础，能把复杂的事件用140个字表述得既清晰又生动。\\r\\n5.策划体育热门话题，熟悉微博热点。\\r\\n6.熟练使用Photoshop，没图片，再好的微博也出不来。\\r\\n7.有较好的英文体育媒体、网站的阅读能力；\\r\\n8.有强烈的责任心和进取心，工作态度认真，能适应高强度工作压力，执行力优秀，沟通能力强，注重团队合作\\r\\n特别注明：本次招聘不接受短期实习，且须有足够的上班时间。\\r\\n?有意者请将简历发至：all_sports@ifeng.com（简历包括：中文简历一份、个人资料、学历和工作经验、联系电话和QQ等。请写明您精通了解的项目，以及掌握的语种，有供稿经验的请附送过往的稿件作品。）由于竞聘者众多，我们可能无法第一时间回复。希望你留下联系方式，静待我们的通知。一经录取，待遇优厚！\\r\\n'"
      ]
     },
     "execution_count": 340,
     "metadata": {},
     "output_type": "execute_result"
    }
   ],
   "source": [
    "news['content'].iloc[473]"
   ]
  },
  {
   "cell_type": "code",
   "execution_count": 341,
   "metadata": {},
   "outputs": [
    {
     "data": {
      "text/plain": [
       "['的',\n",
       " '编辑',\n",
       " '要求',\n",
       " '一定',\n",
       " '工作',\n",
       " '经验',\n",
       " '有',\n",
       " '对',\n",
       " '或',\n",
       " '学历',\n",
       " '优先',\n",
       " '负责',\n",
       " '日常',\n",
       " '等',\n",
       " '热点',\n",
       " '写稿',\n",
       " '待遇',\n",
       " '优厚',\n",
       " '地点',\n",
       " '推荐',\n",
       " '请',\n",
       " '将',\n",
       " '简历',\n",
       " '发至',\n",
       " '_']"
      ]
     },
     "execution_count": 341,
     "metadata": {},
     "output_type": "execute_result"
    }
   ],
   "source": [
    "get_repeated_words(clean_news(5144), clean_news(473)) # 抄袭新闻与该新闻有以下的相同词"
   ]
  },
  {
   "cell_type": "code",
   "execution_count": 342,
   "metadata": {},
   "outputs": [
    {
     "data": {
      "text/plain": [
       "['职位',\n",
       " '专注',\n",
       " '宏观经济',\n",
       " '报道',\n",
       " '方向',\n",
       " '记者',\n",
       " '需要',\n",
       " '若干',\n",
       " '代表作品',\n",
       " '自己',\n",
       " '逻辑',\n",
       " '框架',\n",
       " '方法',\n",
       " '领域',\n",
       " '年龄',\n",
       " '岁',\n",
       " '以下',\n",
       " '不限有',\n",
       " '宏观',\n",
       " '资源',\n",
       " '新闻报道',\n",
       " '微信',\n",
       " '重大新闻',\n",
       " '采访',\n",
       " '面议',\n",
       " '望京',\n",
       " '如',\n",
       " '有意',\n",
       " '自荐',\n",
       " 'li',\n",
       " 'yuanifengcom']"
      ]
     },
     "execution_count": 342,
     "metadata": {},
     "output_type": "execute_result"
    }
   ],
   "source": [
    "get_non_repeated_words(clean_news(5144), clean_news(473)) # 抄袭新闻与该新闻有一下改动"
   ]
  },
  {
   "cell_type": "markdown",
   "metadata": {},
   "source": [
    "### Step11: 利用第8课讲述的新模型，进行操作，感受其中不同的参数、模型对性能的影响。"
   ]
  },
  {
   "cell_type": "code",
   "execution_count": null,
   "metadata": {},
   "outputs": [],
   "source": []
  }
 ],
 "metadata": {
  "kernelspec": {
   "display_name": "Python 3",
   "language": "python",
   "name": "python3"
  },
  "language_info": {
   "codemirror_mode": {
    "name": "ipython",
    "version": 3
   },
   "file_extension": ".py",
   "mimetype": "text/x-python",
   "name": "python",
   "nbconvert_exporter": "python",
   "pygments_lexer": "ipython3",
   "version": "3.6.2"
  }
 },
 "nbformat": 4,
 "nbformat_minor": 2
}
