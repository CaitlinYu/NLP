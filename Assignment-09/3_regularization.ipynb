{
 "cells": [
  {
   "cell_type": "markdown",
   "metadata": {
    "colab_type": "text",
    "id": "kR-4eNdK6lYS"
   },
   "source": [
    "Deep Learning\n",
    "=============\n",
    "\n",
    "Assignment 3\n",
    "------------\n",
    "\n",
    "Previously in `2_fullyconnected.ipynb`, you trained a logistic regression and a neural network model.\n",
    "\n",
    "The goal of this assignment is to explore regularization techniques."
   ]
  },
  {
   "cell_type": "code",
   "execution_count": 1,
   "metadata": {
    "cellView": "both",
    "colab": {
     "autoexec": {
      "startup": false,
      "wait_interval": 0
     }
    },
    "colab_type": "code",
    "id": "JLpLa8Jt7Vu4"
   },
   "outputs": [
    {
     "name": "stderr",
     "output_type": "stream",
     "text": [
      "C:\\Users\\Zhang Bo Chao\\Anaconda3\\lib\\site-packages\\tensorflow\\python\\framework\\dtypes.py:516: FutureWarning: Passing (type, 1) or '1type' as a synonym of type is deprecated; in a future version of numpy, it will be understood as (type, (1,)) / '(1,)type'.\n",
      "  _np_qint8 = np.dtype([(\"qint8\", np.int8, 1)])\n",
      "C:\\Users\\Zhang Bo Chao\\Anaconda3\\lib\\site-packages\\tensorflow\\python\\framework\\dtypes.py:517: FutureWarning: Passing (type, 1) or '1type' as a synonym of type is deprecated; in a future version of numpy, it will be understood as (type, (1,)) / '(1,)type'.\n",
      "  _np_quint8 = np.dtype([(\"quint8\", np.uint8, 1)])\n",
      "C:\\Users\\Zhang Bo Chao\\Anaconda3\\lib\\site-packages\\tensorflow\\python\\framework\\dtypes.py:518: FutureWarning: Passing (type, 1) or '1type' as a synonym of type is deprecated; in a future version of numpy, it will be understood as (type, (1,)) / '(1,)type'.\n",
      "  _np_qint16 = np.dtype([(\"qint16\", np.int16, 1)])\n",
      "C:\\Users\\Zhang Bo Chao\\Anaconda3\\lib\\site-packages\\tensorflow\\python\\framework\\dtypes.py:519: FutureWarning: Passing (type, 1) or '1type' as a synonym of type is deprecated; in a future version of numpy, it will be understood as (type, (1,)) / '(1,)type'.\n",
      "  _np_quint16 = np.dtype([(\"quint16\", np.uint16, 1)])\n",
      "C:\\Users\\Zhang Bo Chao\\Anaconda3\\lib\\site-packages\\tensorflow\\python\\framework\\dtypes.py:520: FutureWarning: Passing (type, 1) or '1type' as a synonym of type is deprecated; in a future version of numpy, it will be understood as (type, (1,)) / '(1,)type'.\n",
      "  _np_qint32 = np.dtype([(\"qint32\", np.int32, 1)])\n",
      "C:\\Users\\Zhang Bo Chao\\Anaconda3\\lib\\site-packages\\tensorflow\\python\\framework\\dtypes.py:525: FutureWarning: Passing (type, 1) or '1type' as a synonym of type is deprecated; in a future version of numpy, it will be understood as (type, (1,)) / '(1,)type'.\n",
      "  np_resource = np.dtype([(\"resource\", np.ubyte, 1)])\n",
      "C:\\Users\\Zhang Bo Chao\\Anaconda3\\lib\\site-packages\\h5py\\__init__.py:34: FutureWarning: Conversion of the second argument of issubdtype from `float` to `np.floating` is deprecated. In future, it will be treated as `np.float64 == np.dtype(float).type`.\n",
      "  from ._conv import register_converters as _register_converters\n",
      "C:\\Users\\Zhang Bo Chao\\Anaconda3\\lib\\site-packages\\tensorboard\\compat\\tensorflow_stub\\dtypes.py:541: FutureWarning: Passing (type, 1) or '1type' as a synonym of type is deprecated; in a future version of numpy, it will be understood as (type, (1,)) / '(1,)type'.\n",
      "  _np_qint8 = np.dtype([(\"qint8\", np.int8, 1)])\n",
      "C:\\Users\\Zhang Bo Chao\\Anaconda3\\lib\\site-packages\\tensorboard\\compat\\tensorflow_stub\\dtypes.py:542: FutureWarning: Passing (type, 1) or '1type' as a synonym of type is deprecated; in a future version of numpy, it will be understood as (type, (1,)) / '(1,)type'.\n",
      "  _np_quint8 = np.dtype([(\"quint8\", np.uint8, 1)])\n",
      "C:\\Users\\Zhang Bo Chao\\Anaconda3\\lib\\site-packages\\tensorboard\\compat\\tensorflow_stub\\dtypes.py:543: FutureWarning: Passing (type, 1) or '1type' as a synonym of type is deprecated; in a future version of numpy, it will be understood as (type, (1,)) / '(1,)type'.\n",
      "  _np_qint16 = np.dtype([(\"qint16\", np.int16, 1)])\n",
      "C:\\Users\\Zhang Bo Chao\\Anaconda3\\lib\\site-packages\\tensorboard\\compat\\tensorflow_stub\\dtypes.py:544: FutureWarning: Passing (type, 1) or '1type' as a synonym of type is deprecated; in a future version of numpy, it will be understood as (type, (1,)) / '(1,)type'.\n",
      "  _np_quint16 = np.dtype([(\"quint16\", np.uint16, 1)])\n",
      "C:\\Users\\Zhang Bo Chao\\Anaconda3\\lib\\site-packages\\tensorboard\\compat\\tensorflow_stub\\dtypes.py:545: FutureWarning: Passing (type, 1) or '1type' as a synonym of type is deprecated; in a future version of numpy, it will be understood as (type, (1,)) / '(1,)type'.\n",
      "  _np_qint32 = np.dtype([(\"qint32\", np.int32, 1)])\n",
      "C:\\Users\\Zhang Bo Chao\\Anaconda3\\lib\\site-packages\\tensorboard\\compat\\tensorflow_stub\\dtypes.py:550: FutureWarning: Passing (type, 1) or '1type' as a synonym of type is deprecated; in a future version of numpy, it will be understood as (type, (1,)) / '(1,)type'.\n",
      "  np_resource = np.dtype([(\"resource\", np.ubyte, 1)])\n"
     ]
    }
   ],
   "source": [
    "# These are all the modules we'll be using later. Make sure you can import them\n",
    "# before proceeding further.\n",
    "from __future__ import print_function\n",
    "import numpy as np\n",
    "import tensorflow as tf\n",
    "from six.moves import cPickle as pickle"
   ]
  },
  {
   "cell_type": "markdown",
   "metadata": {
    "colab_type": "text",
    "id": "1HrCK6e17WzV"
   },
   "source": [
    "First reload the data we generated in `1_notmnist.ipynb`."
   ]
  },
  {
   "cell_type": "code",
   "execution_count": 2,
   "metadata": {
    "cellView": "both",
    "colab": {
     "autoexec": {
      "startup": false,
      "wait_interval": 0
     },
     "output_extras": [
      {
       "item_id": 1
      }
     ]
    },
    "colab_type": "code",
    "executionInfo": {
     "elapsed": 11777,
     "status": "ok",
     "timestamp": 1449849322348,
     "user": {
      "color": "",
      "displayName": "",
      "isAnonymous": false,
      "isMe": true,
      "permissionId": "",
      "photoUrl": "",
      "sessionId": "0",
      "userId": ""
     },
     "user_tz": 480
    },
    "id": "y3-cj1bpmuxc",
    "outputId": "e03576f1-ebbe-4838-c388-f1777bcc9873"
   },
   "outputs": [
    {
     "name": "stdout",
     "output_type": "stream",
     "text": [
      "Training set (200000, 28, 28) (200000,)\n",
      "Validation set (10000, 28, 28) (10000,)\n",
      "Test set (10000, 28, 28) (10000,)\n"
     ]
    }
   ],
   "source": [
    "pickle_file = 'notMNIST.pickle'\n",
    "\n",
    "with open(pickle_file, 'rb') as f:\n",
    "  save = pickle.load(f)\n",
    "  train_dataset = save['train_dataset']\n",
    "  train_labels = save['train_labels']\n",
    "  valid_dataset = save['valid_dataset']\n",
    "  valid_labels = save['valid_labels']\n",
    "  test_dataset = save['test_dataset']\n",
    "  test_labels = save['test_labels']\n",
    "  del save  # hint to help gc free up memory\n",
    "  print('Training set', train_dataset.shape, train_labels.shape)\n",
    "  print('Validation set', valid_dataset.shape, valid_labels.shape)\n",
    "  print('Test set', test_dataset.shape, test_labels.shape)"
   ]
  },
  {
   "cell_type": "markdown",
   "metadata": {
    "colab_type": "text",
    "id": "L7aHrm6nGDMB"
   },
   "source": [
    "Reformat into a shape that's more adapted to the models we're going to train:\n",
    "- data as a flat matrix,\n",
    "- labels as float 1-hot encodings."
   ]
  },
  {
   "cell_type": "code",
   "execution_count": 3,
   "metadata": {
    "cellView": "both",
    "colab": {
     "autoexec": {
      "startup": false,
      "wait_interval": 0
     },
     "output_extras": [
      {
       "item_id": 1
      }
     ]
    },
    "colab_type": "code",
    "executionInfo": {
     "elapsed": 11728,
     "status": "ok",
     "timestamp": 1449849322356,
     "user": {
      "color": "",
      "displayName": "",
      "isAnonymous": false,
      "isMe": true,
      "permissionId": "",
      "photoUrl": "",
      "sessionId": "0",
      "userId": ""
     },
     "user_tz": 480
    },
    "id": "IRSyYiIIGIzS",
    "outputId": "3f8996ee-3574-4f44-c953-5c8a04636582"
   },
   "outputs": [
    {
     "name": "stdout",
     "output_type": "stream",
     "text": [
      "Training set (200000, 784) (200000, 10)\n",
      "Validation set (10000, 784) (10000, 10)\n",
      "Test set (10000, 784) (10000, 10)\n"
     ]
    }
   ],
   "source": [
    "image_size = 28\n",
    "num_labels = 10\n",
    "\n",
    "def reformat(dataset, labels):\n",
    "  dataset = dataset.reshape((-1, image_size * image_size)).astype(np.float32)\n",
    "  # Map 1 to [0.0, 1.0, 0.0 ...], 2 to [0.0, 0.0, 1.0 ...]\n",
    "  labels = (np.arange(num_labels) == labels[:,None]).astype(np.float32)\n",
    "  return dataset, labels\n",
    "train_dataset, train_labels = reformat(train_dataset, train_labels)\n",
    "valid_dataset, valid_labels = reformat(valid_dataset, valid_labels)\n",
    "test_dataset, test_labels = reformat(test_dataset, test_labels)\n",
    "print('Training set', train_dataset.shape, train_labels.shape)\n",
    "print('Validation set', valid_dataset.shape, valid_labels.shape)\n",
    "print('Test set', test_dataset.shape, test_labels.shape)"
   ]
  },
  {
   "cell_type": "code",
   "execution_count": 4,
   "metadata": {
    "cellView": "both",
    "colab": {
     "autoexec": {
      "startup": false,
      "wait_interval": 0
     }
    },
    "colab_type": "code",
    "id": "RajPLaL_ZW6w"
   },
   "outputs": [],
   "source": [
    "def accuracy(predictions, labels):\n",
    "  return (100.0 * np.sum(np.argmax(predictions, 1) == np.argmax(labels, 1))\n",
    "          / predictions.shape[0])"
   ]
  },
  {
   "cell_type": "markdown",
   "metadata": {
    "colab_type": "text",
    "id": "sgLbUAQ1CW-1"
   },
   "source": [
    "---\n",
    "Problem 1\n",
    "---------\n",
    "\n",
    "Introduce and tune L2 regularization for both logistic and neural network models. Remember that L2 amounts to adding a penalty on the norm of the weights to the loss. In TensorFlow, you can compute the L2 loss for a tensor `t` using `nn.l2_loss(t)`. The right amount of regularization should improve your validation / test accuracy.\n",
    "\n",
    "---"
   ]
  },
  {
   "cell_type": "markdown",
   "metadata": {},
   "source": [
    "### Add L2 regularization for logistic model"
   ]
  },
  {
   "cell_type": "code",
   "execution_count": 24,
   "metadata": {},
   "outputs": [],
   "source": [
    "# With gradient descent training, even this much data is prohibitive.\n",
    "# Subset the training data for faster turnaround.\n",
    "train_subset = 10000\n",
    "beta = 0.01\n",
    "\n",
    "graph = tf.Graph()\n",
    "with graph.as_default():\n",
    "\n",
    "  # Input data.\n",
    "  # Load the training, validation and test data into constants that are\n",
    "  # attached to the graph.\n",
    "  tf_train_dataset = tf.constant(train_dataset[:train_subset, :])\n",
    "  tf_train_labels = tf.constant(train_labels[:train_subset])\n",
    "  tf_valid_dataset = tf.constant(valid_dataset)\n",
    "  tf_test_dataset = tf.constant(test_dataset)\n",
    "  \n",
    "  # Variables.\n",
    "  # These are the parameters that we are going to be training. The weight\n",
    "  # matrix will be initialized using random values following a (truncated)\n",
    "  # normal distribution. The biases get initialized to zero.\n",
    "  weights = tf.Variable(\n",
    "    tf.truncated_normal([image_size * image_size, num_labels]))\n",
    "  biases = tf.Variable(tf.zeros([num_labels]))\n",
    "  \n",
    "  # Training computation.\n",
    "  # We multiply the inputs with the weight matrix, and add biases. We compute\n",
    "  # the softmax and cross-entropy (it's one operation in TensorFlow, because\n",
    "  # it's very common, and it can be optimized). We take the average of this\n",
    "  # cross-entropy across all training examples: that's our loss.\n",
    "  logits = tf.matmul(tf_train_dataset, weights) + biases\n",
    "  loss = tf.reduce_mean(\n",
    "    tf.nn.softmax_cross_entropy_with_logits(labels=tf_train_labels, logits=logits))\n",
    "  \n",
    "  # Loss function using L2 regularzation\n",
    "  regularizer = tf.nn.l2_loss(weights)\n",
    "  loss = tf.reduce_mean(loss + beta * weights)\n",
    "\n",
    "  # Optimizer.\n",
    "  # We are going to find the minimum of this loss using gradient descent.\n",
    "  optimizer = tf.train.GradientDescentOptimizer(0.5).minimize(loss)\n",
    "  \n",
    "  # Predictions for the training, validation, and test data.\n",
    "  # These are not part of training, but merely here so that we can report\n",
    "  # accuracy figures as we train.\n",
    "  train_prediction = tf.nn.softmax(logits)\n",
    "  valid_prediction = tf.nn.softmax(\n",
    "    tf.matmul(tf_valid_dataset, weights) + biases)\n",
    "  test_prediction = tf.nn.softmax(tf.matmul(tf_test_dataset, weights) + biases)"
   ]
  },
  {
   "cell_type": "code",
   "execution_count": 25,
   "metadata": {},
   "outputs": [
    {
     "name": "stdout",
     "output_type": "stream",
     "text": [
      "Initialized\n",
      "Loss at step 0: 15.984289\n",
      "Training accuracy: 12.8%\n",
      "Validation accuracy: 17.5%\n",
      "---------------------\n",
      "Loss at step 100: 2.168029\n",
      "Training accuracy: 72.6%\n",
      "Validation accuracy: 70.7%\n",
      "---------------------\n",
      "Loss at step 200: 1.761490\n",
      "Training accuracy: 75.5%\n",
      "Validation accuracy: 73.0%\n",
      "---------------------\n",
      "Loss at step 300: 1.542443\n",
      "Training accuracy: 76.8%\n",
      "Validation accuracy: 73.7%\n",
      "---------------------\n",
      "Loss at step 400: 1.391082\n",
      "Training accuracy: 77.6%\n",
      "Validation accuracy: 74.0%\n",
      "---------------------\n",
      "Loss at step 500: 1.275861\n",
      "Training accuracy: 78.2%\n",
      "Validation accuracy: 74.3%\n",
      "---------------------\n",
      "Loss at step 600: 1.183883\n",
      "Training accuracy: 79.0%\n",
      "Validation accuracy: 74.6%\n",
      "---------------------\n",
      "Loss at step 700: 1.108556\n",
      "Training accuracy: 79.4%\n",
      "Validation accuracy: 74.8%\n",
      "---------------------\n",
      "Loss at step 800: 1.045761\n",
      "Training accuracy: 79.9%\n",
      "Validation accuracy: 74.9%\n",
      "---------------------\n",
      "Test accuracy: 82.0%\n"
     ]
    }
   ],
   "source": [
    "num_steps = 801\n",
    "\n",
    "with tf.Session(graph=graph) as session:\n",
    "  # This is a one-time operation which ensures the parameters get initialized as\n",
    "  # we described in the graph: random weights for the matrix, zeros for the\n",
    "  # biases. \n",
    "  tf.global_variables_initializer().run()\n",
    "  print('Initialized')\n",
    "  for step in range(num_steps):\n",
    "    # Run the computations. We tell .run() that we want to run the optimizer,\n",
    "    # and get the loss value and the training predictions returned as numpy\n",
    "    # arrays.\n",
    "    _, l, predictions = session.run([optimizer, loss, train_prediction])\n",
    "    if (step % 100 == 0):\n",
    "      print('Loss at step %d: %f' % (step, l))\n",
    "      print('Training accuracy: %.1f%%' % accuracy(\n",
    "        predictions, train_labels[:train_subset, :]))\n",
    "      # Calling .eval() on valid_prediction is basically like calling run(), but\n",
    "      # just to get that one numpy array. Note that it recomputes all its graph\n",
    "      # dependencies.\n",
    "      print('Validation accuracy: %.1f%%' % accuracy(\n",
    "        valid_prediction.eval(), valid_labels))\n",
    "      print('---------------------')\n",
    "  print('Test accuracy: %.1f%%' % accuracy(test_prediction.eval(), test_labels))"
   ]
  },
  {
   "cell_type": "markdown",
   "metadata": {},
   "source": [
    "### Add L2 regularization to neural network model:"
   ]
  },
  {
   "cell_type": "markdown",
   "metadata": {},
   "source": [
    "### 1. tensorflow method:"
   ]
  },
  {
   "cell_type": "code",
   "execution_count": 26,
   "metadata": {},
   "outputs": [],
   "source": [
    "num_nodes= 1024\n",
    "batch_size = 128\n",
    "beta = 0.01\n",
    "\n",
    "graph = tf.Graph()\n",
    "with graph.as_default():\n",
    "\n",
    "    # Input data. For the training data, we use a placeholder that will be fed\n",
    "    # at run time with a training minibatch.\n",
    "    tf_train_dataset = tf.placeholder(tf.float32, shape=(batch_size, image_size * image_size))\n",
    "    tf_train_labels = tf.placeholder(tf.float32, shape=(batch_size, num_labels))\n",
    "    tf_valid_dataset = tf.constant(valid_dataset)\n",
    "    tf_test_dataset = tf.constant(test_dataset)\n",
    "\n",
    "    # Variables.\n",
    "    weights_1 = tf.Variable(tf.truncated_normal([image_size * image_size, num_nodes]))\n",
    "    biases_1 = tf.Variable(tf.zeros([num_nodes]))\n",
    "    weights_2 = tf.Variable(tf.truncated_normal([num_nodes, num_labels]))\n",
    "    biases_2 = tf.Variable(tf.zeros([num_labels]))\n",
    "\n",
    "    # Training computation.\n",
    "    logits_1 = tf.matmul(tf_train_dataset, weights_1) + biases_1\n",
    "    relu_layer= tf.nn.relu(logits_1)\n",
    "    logits_2 = tf.matmul(relu_layer, weights_2) + biases_2\n",
    "    # Normal loss function\n",
    "    loss = tf.reduce_mean(tf.nn.softmax_cross_entropy_with_logits(logits = logits_2, labels = tf_train_labels))\n",
    "    \n",
    "    # L2 regularization\n",
    "    regularizer = tf.nn.l2_loss(weights_1) + tf.nn.l2_loss(weights_2)\n",
    "    loss = tf.reduce_mean(loss + beta * regu)\n",
    "    \n",
    "    # Optimizer.\n",
    "    optimizer = tf.train.GradientDescentOptimizer(0.5).minimize(loss)\n",
    "\n",
    "    # Predictions for the training\n",
    "    train_prediction = tf.nn.softmax(logits_2)\n",
    "    \n",
    "    # Predictions for validation \n",
    "    logits_1 = tf.matmul(tf_valid_dataset, weights_1) + biases_1\n",
    "    relu_layer= tf.nn.relu(logits_1)\n",
    "    logits_2 = tf.matmul(relu_layer, weights_2) + biases_2\n",
    "    \n",
    "    valid_prediction = tf.nn.softmax(logits_2)\n",
    "    \n",
    "    # Predictions for test\n",
    "    logits_1 = tf.matmul(tf_test_dataset, weights_1) + biases_1\n",
    "    relu_layer= tf.nn.relu(logits_1)\n",
    "    logits_2 = tf.matmul(relu_layer, weights_2) + biases_2\n",
    "    \n",
    "    test_prediction =  tf.nn.softmax(logits_2)"
   ]
  },
  {
   "cell_type": "code",
   "execution_count": 28,
   "metadata": {},
   "outputs": [
    {
     "name": "stdout",
     "output_type": "stream",
     "text": [
      "WARNING:tensorflow:From C:\\Users\\Zhang Bo Chao\\Anaconda3\\lib\\site-packages\\tensorflow\\python\\util\\tf_should_use.py:193: initialize_all_variables (from tensorflow.python.ops.variables) is deprecated and will be removed after 2017-03-02.\n",
      "Instructions for updating:\n",
      "Use `tf.global_variables_initializer` instead.\n",
      "Initialized\n",
      "Minibatch loss at step 0: 3455.228515625\n",
      "Minibatch accuracy: 20.3\n",
      "Validation accuracy: 33.4\n",
      "Minibatch loss at step 500: 21.20613670349121\n",
      "Minibatch accuracy: 86.7\n",
      "Validation accuracy: 84.3\n",
      "Minibatch loss at step 1000: 0.9537875056266785\n",
      "Minibatch accuracy: 81.2\n",
      "Validation accuracy: 82.9\n",
      "Minibatch loss at step 1500: 0.5888890027999878\n",
      "Minibatch accuracy: 85.9\n",
      "Validation accuracy: 83.6\n",
      "Minibatch loss at step 2000: 0.6096242666244507\n",
      "Minibatch accuracy: 89.8\n",
      "Validation accuracy: 83.3\n",
      "Minibatch loss at step 2500: 0.7160998582839966\n",
      "Minibatch accuracy: 83.6\n",
      "Validation accuracy: 83.3\n",
      "Minibatch loss at step 3000: 0.7677087783813477\n",
      "Minibatch accuracy: 82.8\n",
      "Validation accuracy: 83.5\n",
      "Test accuracy: 90.3\n"
     ]
    }
   ],
   "source": [
    "num_steps = 3001\n",
    "\n",
    "with tf.Session(graph=graph) as session:\n",
    "    tf.initialize_all_variables().run()\n",
    "    print(\"Initialized\")\n",
    "    for step in range(num_steps):\n",
    "        # Pick an offset within the training data, which has been randomized.\n",
    "        # Note: we could use better randomization across epochs.\n",
    "        offset = (step * batch_size) % (train_labels.shape[0] - batch_size)\n",
    "        # Generate a minibatch.\n",
    "        batch_data = train_dataset[offset:(offset + batch_size), :]\n",
    "        batch_labels = train_labels[offset:(offset + batch_size), :]\n",
    "        # Prepare a dictionary telling the session where to feed the minibatch.\n",
    "        # The key of the dictionary is the placeholder node of the graph to be fed,\n",
    "        # and the value is the numpy array to feed to it.\n",
    "        feed_dict = {tf_train_dataset : batch_data, tf_train_labels : batch_labels}\n",
    "        _, l, predictions = session.run([optimizer, loss, train_prediction], feed_dict=feed_dict)\n",
    "        if (step % 500 == 0):\n",
    "            print(\"Minibatch loss at step {}: {}\".format(step, l))\n",
    "            print(\"Minibatch accuracy: {:.1f}\".format(accuracy(predictions, batch_labels)))\n",
    "            print(\"Validation accuracy: {:.1f}\".format(accuracy(valid_prediction.eval(), valid_labels)))\n",
    "    print(\"Test accuracy: {:.1f}\".format(accuracy(test_prediction.eval(), test_labels)))"
   ]
  },
  {
   "cell_type": "markdown",
   "metadata": {},
   "source": [
    "### 2. tf.keras method:"
   ]
  },
  {
   "cell_type": "code",
   "execution_count": 12,
   "metadata": {},
   "outputs": [],
   "source": [
    "def train_nn_model(x_train, y_train):\n",
    "    model = tf.keras.models.Sequential([\n",
    "        tf.keras.layers.Flatten(),\n",
    "        tf.keras.layers.Dense(1024, activation = tf.nn.relu, kernel_regularizer = tf.keras.regularizers.l2(l=0.01)), # Turn logistic regression with SGD into a 1-hidden layer nn with rectified linear units and 1024 hidden nodes\n",
    "        tf.keras.layers.Dense(10, activation = tf.nn.softmax)\n",
    "    ])\n",
    "\n",
    "    model.compile(optimizer='sgd', \n",
    "                  loss = 'categorical_crossentropy', \n",
    "                  metrics=['accuracy'])\n",
    "\n",
    "    history = model.fit(x_train, y_train, epochs=10)\n",
    "    return model, history"
   ]
  },
  {
   "cell_type": "code",
   "execution_count": 13,
   "metadata": {},
   "outputs": [
    {
     "name": "stdout",
     "output_type": "stream",
     "text": [
      "Epoch 1/10\n",
      "200000/200000 [==============================] - 76s 382us/sample - loss: 3.9453 - acc: 0.8274\n",
      "Epoch 2/10\n",
      "200000/200000 [==============================] - 75s 373us/sample - loss: 0.8755 - acc: 0.8477\n",
      "Epoch 3/10\n",
      "200000/200000 [==============================] - 70s 350us/sample - loss: 0.6056 - acc: 0.8544\n",
      "Epoch 4/10\n",
      "200000/200000 [==============================] - 69s 343us/sample - loss: 0.5678 - acc: 0.8584\n",
      "Epoch 5/10\n",
      "200000/200000 [==============================] - 77s 383us/sample - loss: 0.5532 - acc: 0.8614\n",
      "Epoch 6/10\n",
      "200000/200000 [==============================] - 69s 346us/sample - loss: 0.5428 - acc: 0.8643\n",
      "Epoch 7/10\n",
      "200000/200000 [==============================] - 70s 349us/sample - loss: 0.5343 - acc: 0.8669\n",
      "Epoch 8/10\n",
      "200000/200000 [==============================] - 74s 371us/sample - loss: 0.5276 - acc: 0.8691\n",
      "Epoch 9/10\n",
      "200000/200000 [==============================] - 75s 376us/sample - loss: 0.5221 - acc: 0.8702\n",
      "Epoch 10/10\n",
      "200000/200000 [==============================] - 79s 395us/sample - loss: 0.5169 - acc: 0.8717\n"
     ]
    }
   ],
   "source": [
    "model, history = train_nn_model(train_dataset.reshape(-1, 784), train_labels)"
   ]
  },
  {
   "cell_type": "code",
   "execution_count": null,
   "metadata": {},
   "outputs": [],
   "source": []
  },
  {
   "cell_type": "markdown",
   "metadata": {
    "colab_type": "text",
    "id": "na8xX2yHZzNF"
   },
   "source": [
    "---\n",
    "Problem 2\n",
    "---------\n",
    "Let's demonstrate an extreme case of overfitting. Restrict your training data to just a few batches. What happens?\n",
    "\n",
    "---"
   ]
  },
  {
   "cell_type": "markdown",
   "metadata": {},
   "source": [
    "## 1. tensorflow method:\n",
    "We continue from the above neural network model with L2 regularization."
   ]
  },
  {
   "cell_type": "code",
   "execution_count": 32,
   "metadata": {},
   "outputs": [
    {
     "name": "stdout",
     "output_type": "stream",
     "text": [
      "Initialized\n",
      "Minibatch loss at step 0: 3474.922607421875\n",
      "Minibatch accuracy: 10.2\n",
      "Validation accuracy: 33.0\n",
      "Minibatch loss at step 500: 20.989765167236328\n",
      "Minibatch accuracy: 100.0\n",
      "Validation accuracy: 78.2\n",
      "Minibatch loss at step 1000: 0.4923055171966553\n",
      "Minibatch accuracy: 99.2\n",
      "Validation accuracy: 79.2\n",
      "Minibatch loss at step 1500: 0.30113154649734497\n",
      "Minibatch accuracy: 99.2\n",
      "Validation accuracy: 79.3\n",
      "Minibatch loss at step 2000: 0.28280457854270935\n",
      "Minibatch accuracy: 100.0\n",
      "Validation accuracy: 79.4\n",
      "Minibatch loss at step 2500: 0.2814429998397827\n",
      "Minibatch accuracy: 100.0\n",
      "Validation accuracy: 79.6\n",
      "Minibatch loss at step 3000: 0.2777794599533081\n",
      "Minibatch accuracy: 100.0\n",
      "Validation accuracy: 79.6\n",
      "Test accuracy: 86.6\n"
     ]
    }
   ],
   "source": [
    "num_steps = 3001\n",
    "\n",
    "train_dataset_2 = train_dataset[:500, :]\n",
    "train_labels_2 = train_labels[:500]\n",
    "\n",
    "with tf.Session(graph=graph) as session:\n",
    "    tf.initialize_all_variables().run()\n",
    "    print(\"Initialized\")\n",
    "    for step in range(num_steps):\n",
    "        # Pick an offset within the training data, which has been randomized.\n",
    "        # Note: we could use better randomization across epochs.\n",
    "        offset = (step * batch_size) % (train_labels_2.shape[0] - batch_size)\n",
    "        # Generate a minibatch.\n",
    "        batch_data = train_dataset_2[offset:(offset + batch_size), :]\n",
    "        batch_labels = train_labels_2[offset:(offset + batch_size), :]\n",
    "        # Prepare a dictionary telling the session where to feed the minibatch.\n",
    "        # The key of the dictionary is the placeholder node of the graph to be fed,\n",
    "        # and the value is the numpy array to feed to it.\n",
    "        feed_dict = {tf_train_dataset : batch_data, tf_train_labels : batch_labels}\n",
    "        _, l, predictions = session.run([optimizer, loss, train_prediction], feed_dict=feed_dict)\n",
    "        if (step % 500 == 0):\n",
    "            print(\"Minibatch loss at step {}: {}\".format(step, l))\n",
    "            print(\"Minibatch accuracy: {:.1f}\".format(accuracy(predictions, batch_labels)))\n",
    "            print(\"Validation accuracy: {:.1f}\".format(accuracy(valid_prediction.eval(), valid_labels)))\n",
    "    print(\"Test accuracy: {:.1f}\".format(accuracy(test_prediction.eval(), test_labels)))"
   ]
  },
  {
   "cell_type": "markdown",
   "metadata": {},
   "source": [
    "Above model is overfitting, as the training dataset accuracy is very high, while the valid and test accuracy are low. This is because we only used 500 data points."
   ]
  },
  {
   "cell_type": "markdown",
   "metadata": {},
   "source": [
    "## 2. tf.keras method:"
   ]
  },
  {
   "cell_type": "code",
   "execution_count": 35,
   "metadata": {},
   "outputs": [
    {
     "name": "stdout",
     "output_type": "stream",
     "text": [
      "Epoch 1/10\n",
      "500/500 [==============================] - 0s 627us/sample - loss: 11.0394 - acc: 0.2220\n",
      "Epoch 2/10\n",
      "500/500 [==============================] - 0s 406us/sample - loss: 10.5939 - acc: 0.5520\n",
      "Epoch 3/10\n",
      "500/500 [==============================] - 0s 369us/sample - loss: 10.2878 - acc: 0.6720\n",
      "Epoch 4/10\n",
      "500/500 [==============================] - 0s 377us/sample - loss: 10.0527 - acc: 0.7220\n",
      "Epoch 5/10\n",
      "500/500 [==============================] - 0s 401us/sample - loss: 9.8620 - acc: 0.7420\n",
      "Epoch 6/10\n",
      "500/500 [==============================] - 0s 415us/sample - loss: 9.7027 - acc: 0.7840\n",
      "Epoch 7/10\n",
      "500/500 [==============================] - 0s 401us/sample - loss: 9.5647 - acc: 0.8020\n",
      "Epoch 8/10\n",
      "500/500 [==============================] - 0s 349us/sample - loss: 9.4430 - acc: 0.8020\n",
      "Epoch 9/10\n",
      "500/500 [==============================] - 0s 401us/sample - loss: 9.3329 - acc: 0.8200\n",
      "Epoch 10/10\n",
      "500/500 [==============================] - 0s 405us/sample - loss: 9.2303 - acc: 0.8260\n"
     ]
    }
   ],
   "source": [
    "model_2, history_2 = train_nn_model(train_dataset_2.reshape(-1, 784), train_labels_2)"
   ]
  },
  {
   "cell_type": "code",
   "execution_count": 36,
   "metadata": {},
   "outputs": [
    {
     "name": "stdout",
     "output_type": "stream",
     "text": [
      "500/500 [==============================] - 0s 261us/sample - loss: 9.1651 - acc: 0.8400\n"
     ]
    },
    {
     "data": {
      "text/plain": [
       "[9.165054527282715, 0.84]"
      ]
     },
     "execution_count": 36,
     "metadata": {},
     "output_type": "execute_result"
    }
   ],
   "source": [
    "model_2.evaluate(train_dataset_2, train_labels_2)"
   ]
  },
  {
   "cell_type": "code",
   "execution_count": 37,
   "metadata": {},
   "outputs": [
    {
     "name": "stdout",
     "output_type": "stream",
     "text": [
      "Model: \"sequential_5\"\n",
      "_________________________________________________________________\n",
      "Layer (type)                 Output Shape              Param #   \n",
      "=================================================================\n",
      "flatten_6 (Flatten)          multiple                  0         \n",
      "_________________________________________________________________\n",
      "dense_10 (Dense)             multiple                  803840    \n",
      "_________________________________________________________________\n",
      "dense_11 (Dense)             multiple                  10250     \n",
      "=================================================================\n",
      "Total params: 814,090\n",
      "Trainable params: 814,090\n",
      "Non-trainable params: 0\n",
      "_________________________________________________________________\n"
     ]
    }
   ],
   "source": [
    "model_2.summary()"
   ]
  },
  {
   "cell_type": "markdown",
   "metadata": {
    "colab_type": "text",
    "id": "ww3SCBUdlkRc"
   },
   "source": [
    "---\n",
    "Problem 3\n",
    "---------\n",
    "Introduce Dropout on the hidden layer of the neural network. Remember: Dropout should only be introduced during training, not evaluation, otherwise your evaluation results would be stochastic as well. TensorFlow provides `nn.dropout()` for that, but you have to make sure it's only inserted during training.\n",
    "\n",
    "What happens to our extreme overfitting case?\n",
    "\n",
    "---"
   ]
  },
  {
   "cell_type": "code",
   "execution_count": 39,
   "metadata": {},
   "outputs": [],
   "source": [
    "num_nodes= 1024\n",
    "batch_size = 128\n",
    "beta = 0.01\n",
    "\n",
    "graph = tf.Graph()\n",
    "with graph.as_default():\n",
    "\n",
    "    # Input data. For the training data, we use a placeholder that will be fed\n",
    "    # at run time with a training minibatch.\n",
    "    tf_train_dataset = tf.placeholder(tf.float32, shape=(batch_size, image_size * image_size))\n",
    "    tf_train_labels = tf.placeholder(tf.float32, shape=(batch_size, num_labels))\n",
    "    tf_valid_dataset = tf.constant(valid_dataset)\n",
    "    tf_test_dataset = tf.constant(test_dataset)\n",
    "\n",
    "    # Variables.\n",
    "    weights_1 = tf.Variable(tf.truncated_normal([image_size * image_size, num_nodes]))\n",
    "    biases_1 = tf.Variable(tf.zeros([num_nodes]))\n",
    "    weights_2 = tf.Variable(tf.truncated_normal([num_nodes, num_labels]))\n",
    "    biases_2 = tf.Variable(tf.zeros([num_labels]))\n",
    "\n",
    "    # Training computation.\n",
    "    logits_1 = tf.matmul(tf_train_dataset, weights_1) + biases_1\n",
    "    relu_layer= tf.nn.relu(logits_1)\n",
    "    \n",
    "    # Drop-out layer\n",
    "    keep_prob = tf.placeholder(\"float\")\n",
    "    relu_layer_dropout = tf.nn.dropout(relu_layer, keep_prob)\n",
    "    logits_2 = tf.matmul(relu_layer_dropout, weights_2) + biases_2\n",
    "    \n",
    "    # Normal loss function\n",
    "    loss = tf.reduce_mean(tf.nn.softmax_cross_entropy_with_logits(logits = logits_2, labels = tf_train_labels))\n",
    "    \n",
    "    # L2 regularization\n",
    "    regularizer = tf.nn.l2_loss(weights_1) + tf.nn.l2_loss(weights_2)\n",
    "    loss = tf.reduce_mean(loss + beta * regularizer)\n",
    "    \n",
    "    # Optimizer.\n",
    "    optimizer = tf.train.GradientDescentOptimizer(0.5).minimize(loss)\n",
    "    \n",
    "    # Predictions for the training\n",
    "    train_prediction = tf.nn.softmax(logits_2)\n",
    "    \n",
    "    # Predictions for validation \n",
    "    logits_1 = tf.matmul(tf_valid_dataset, weights_1) + biases_1\n",
    "    relu_layer= tf.nn.relu(logits_1)\n",
    "    logits_2 = tf.matmul(relu_layer, weights_2) + biases_2\n",
    "    \n",
    "    valid_prediction = tf.nn.softmax(logits_2)\n",
    "    \n",
    "    # Predictions for test\n",
    "    logits_1 = tf.matmul(tf_test_dataset, weights_1) + biases_1\n",
    "    relu_layer= tf.nn.relu(logits_1)\n",
    "    logits_2 = tf.matmul(relu_layer, weights_2) + biases_2\n",
    "    \n",
    "    test_prediction =  tf.nn.softmax(logits_2)"
   ]
  },
  {
   "cell_type": "code",
   "execution_count": 41,
   "metadata": {},
   "outputs": [
    {
     "name": "stdout",
     "output_type": "stream",
     "text": [
      "Initialized\n",
      "Minibatch loss at step 0: 3638.45751953125\n",
      "Minibatch accuracy: 8.6\n",
      "Validation accuracy: 24.6\n",
      "Minibatch loss at step 500: 21.269956588745117\n",
      "Minibatch accuracy: 88.3\n",
      "Validation accuracy: 83.7\n",
      "Minibatch loss at step 1000: 1.0299376249313354\n",
      "Minibatch accuracy: 80.5\n",
      "Validation accuracy: 82.7\n",
      "Minibatch loss at step 1500: 0.6772414445877075\n",
      "Minibatch accuracy: 87.5\n",
      "Validation accuracy: 83.0\n",
      "Minibatch loss at step 2000: 0.7000939846038818\n",
      "Minibatch accuracy: 86.7\n",
      "Validation accuracy: 82.9\n",
      "Minibatch loss at step 2500: 0.8199265599250793\n",
      "Minibatch accuracy: 81.2\n",
      "Validation accuracy: 83.2\n",
      "Minibatch loss at step 3000: 0.8349026441574097\n",
      "Minibatch accuracy: 82.0\n",
      "Validation accuracy: 83.2\n",
      "Test accuracy: 89.9\n"
     ]
    }
   ],
   "source": [
    "num_steps = 3001\n",
    "\n",
    "with tf.Session(graph=graph) as session:\n",
    "    tf.initialize_all_variables().run()\n",
    "    print(\"Initialized\")\n",
    "    for step in range(num_steps):\n",
    "        # Pick an offset within the training data, which has been randomized.\n",
    "        # Note: we could use better randomization across epochs.\n",
    "        offset = (step * batch_size) % (train_labels.shape[0] - batch_size)\n",
    "        # Generate a minibatch.\n",
    "        batch_data = train_dataset[offset:(offset + batch_size), :]\n",
    "        batch_labels = train_labels[offset:(offset + batch_size), :]\n",
    "        # Prepare a dictionary telling the session where to feed the minibatch.\n",
    "        # The key of the dictionary is the placeholder node of the graph to be fed,\n",
    "        # and the value is the numpy array to feed to it.\n",
    "        feed_dict = {tf_train_dataset : batch_data, tf_train_labels : batch_labels, keep_prob : 0.5}\n",
    "        _, l, predictions = session.run([optimizer, loss, train_prediction], feed_dict=feed_dict)\n",
    "        if (step % 500 == 0):\n",
    "            print(\"Minibatch loss at step {}: {}\".format(step, l))\n",
    "            print(\"Minibatch accuracy: {:.1f}\".format(accuracy(predictions, batch_labels)))\n",
    "            print(\"Validation accuracy: {:.1f}\".format(accuracy(valid_prediction.eval(), valid_labels)))\n",
    "    print(\"Test accuracy: {:.1f}\".format(accuracy(test_prediction.eval(), test_labels)))"
   ]
  },
  {
   "cell_type": "markdown",
   "metadata": {},
   "source": [
    "### Extreme overfitting case:"
   ]
  },
  {
   "cell_type": "code",
   "execution_count": 47,
   "metadata": {},
   "outputs": [
    {
     "name": "stdout",
     "output_type": "stream",
     "text": [
      "Initialized\n",
      "Minibatch loss at step 0: 3639.20654296875\n",
      "Minibatch accuracy: 9.4\n",
      "Validation accuracy: 40.7\n",
      "Minibatch loss at step 500: 21.169822692871094\n",
      "Minibatch accuracy: 100.0\n",
      "Validation accuracy: 79.1\n",
      "Minibatch loss at step 1000: 0.5359150171279907\n",
      "Minibatch accuracy: 100.0\n",
      "Validation accuracy: 79.6\n",
      "Minibatch loss at step 1500: 0.33447498083114624\n",
      "Minibatch accuracy: 100.0\n",
      "Validation accuracy: 79.5\n",
      "Minibatch loss at step 2000: 0.3111796975135803\n",
      "Minibatch accuracy: 99.2\n",
      "Validation accuracy: 79.8\n",
      "Minibatch loss at step 2500: 0.3065948188304901\n",
      "Minibatch accuracy: 100.0\n",
      "Validation accuracy: 79.8\n",
      "Minibatch loss at step 3000: 0.3100227415561676\n",
      "Minibatch accuracy: 99.2\n",
      "Validation accuracy: 79.7\n",
      "Test accuracy: 86.9\n"
     ]
    }
   ],
   "source": [
    "num_steps = 3001\n",
    "beta = 0.01 \n",
    "\n",
    "train_dataset_2 = train_dataset[:500, :]\n",
    "train_labels_2 = train_labels[:500]\n",
    "\n",
    "with tf.Session(graph=graph) as session:\n",
    "    tf.initialize_all_variables().run()\n",
    "    print(\"Initialized\")\n",
    "    for step in range(num_steps):\n",
    "        # Pick an offset within the training data, which has been randomized.\n",
    "        # Note: we could use better randomization across epochs.\n",
    "        offset = (step * batch_size) % (train_labels_2.shape[0] - batch_size)\n",
    "        # Generate a minibatch.\n",
    "        batch_data = train_dataset_2[offset:(offset + batch_size), :]\n",
    "        batch_labels = train_labels_2[offset:(offset + batch_size), :]\n",
    "        # Prepare a dictionary telling the session where to feed the minibatch.\n",
    "        # The key of the dictionary is the placeholder node of the graph to be fed,\n",
    "        # and the value is the numpy array to feed to it.\n",
    "        feed_dict = {tf_train_dataset : batch_data, tf_train_labels : batch_labels, keep_prob: 0.5}\n",
    "        _, l, predictions = session.run([optimizer, loss, train_prediction], feed_dict=feed_dict)\n",
    "        if (step % 500 == 0):\n",
    "            print(\"Minibatch loss at step {}: {}\".format(step, l))\n",
    "            print(\"Minibatch accuracy: {:.1f}\".format(accuracy(predictions, batch_labels)))\n",
    "            print(\"Validation accuracy: {:.1f}\".format(accuracy(valid_prediction.eval(), valid_labels)))\n",
    "    print(\"Test accuracy: {:.1f}\".format(accuracy(test_prediction.eval(), test_labels)))"
   ]
  },
  {
   "cell_type": "markdown",
   "metadata": {},
   "source": [
    "Above model is overfitting, as the training dataset accuracy is very high, while the valid and test accuracy are low. This is because we only used 500 data points."
   ]
  },
  {
   "cell_type": "markdown",
   "metadata": {
    "colab_type": "text",
    "id": "-b1hTz3VWZjw"
   },
   "source": [
    "---\n",
    "Problem 4\n",
    "---------\n",
    "\n",
    "Try to get the best performance you can using a multi-layer model! The best reported test accuracy using a deep network is [97.1%](http://yaroslavvb.blogspot.com/2011/09/notmnist-dataset.html?showComment=1391023266211#c8758720086795711595).\n",
    "\n",
    "One avenue you can explore is to add multiple layers.\n",
    "\n",
    "Another one is to use learning rate decay:\n",
    "\n",
    "    global_step = tf.Variable(0)  # count the number of steps taken.\n",
    "    learning_rate = tf.train.exponential_decay(0.5, global_step, ...)\n",
    "    optimizer = tf.train.GradientDescentOptimizer(learning_rate).minimize(loss, global_step=global_step)\n",
    " \n",
    " ---\n"
   ]
  },
  {
   "cell_type": "code",
   "execution_count": 65,
   "metadata": {},
   "outputs": [],
   "source": [
    "import math as math"
   ]
  },
  {
   "cell_type": "code",
   "execution_count": 69,
   "metadata": {},
   "outputs": [],
   "source": [
    "batch_size = 128\n",
    "beta = 0.001\n",
    "\n",
    "hidden_nodes_1 = 1024\n",
    "hidden_nodes_2 = int(hidden_nodes_1 * 0.5)\n",
    "hidden_nodes_3 = int(hidden_nodes_1 * np.power(0.5, 2))\n",
    "hidden_nodes_4 = int(hidden_nodes_1 * np.power(0.5, 3))\n",
    "hidden_nodes_5 = int(hidden_nodes_1 * np.power(0.5, 4))\n",
    "\n",
    "graph = tf.Graph()\n",
    "with graph.as_default():\n",
    "\n",
    "    '''Input Data'''\n",
    "    # For the training data, we use a placeholder that will be fed\n",
    "    # at run time with a training minibatch.\n",
    "    tf_train_dataset = tf.placeholder(tf.float32, shape=(batch_size, image_size * image_size))\n",
    "    tf_train_labels = tf.placeholder(tf.float32, shape=(batch_size, num_labels))\n",
    "    tf_valid_dataset = tf.constant(valid_dataset)\n",
    "    tf_test_dataset = tf.constant(test_dataset)\n",
    "\n",
    "    '''Variables'''\n",
    "    # Hidden RELU layer 1\n",
    "    weights_1 = tf.Variable(tf.truncated_normal([image_size * image_size, hidden_nodes_1], stddev=math.sqrt(2.0/(image_size*image_size))))\n",
    "    biases_1 = tf.Variable(tf.zeros([hidden_nodes_1]))\n",
    "\n",
    "    # Hidden RELU layer 2\n",
    "    weights_2 = tf.Variable(tf.truncated_normal([hidden_nodes_1, hidden_nodes_2], stddev=math.sqrt(2.0/hidden_nodes_1)))\n",
    "    biases_2 = tf.Variable(tf.zeros([hidden_nodes_2]))\n",
    "    \n",
    "    # Hidden RELU layer 3\n",
    "    weights_3 = tf.Variable(tf.truncated_normal([hidden_nodes_2, hidden_nodes_3], stddev=math.sqrt(2.0/hidden_nodes_2)))\n",
    "    biases_3 = tf.Variable(tf.zeros([hidden_nodes_3]))\n",
    "    \n",
    "    # Hidden RELU layer 4\n",
    "    weights_4 = tf.Variable(tf.truncated_normal([hidden_nodes_3, hidden_nodes_4], stddev=math.sqrt(2.0/hidden_nodes_3)))\n",
    "    biases_4 = tf.Variable(tf.zeros([hidden_nodes_4]))\n",
    "    \n",
    "    # Hidden RELU layer 5\n",
    "    weights_5 = tf.Variable(tf.truncated_normal([hidden_nodes_4, hidden_nodes_5], stddev=math.sqrt(2.0/hidden_nodes_4)))\n",
    "    biases_5 = tf.Variable(tf.zeros([hidden_nodes_5]))\n",
    "    \n",
    "    # Output layer\n",
    "    weights_6 = tf.Variable(tf.truncated_normal([hidden_nodes_5, num_labels], stddev=math.sqrt(2.0/hidden_nodes_5)))\n",
    "    biases_6 = tf.Variable(tf.zeros([num_labels]))\n",
    "    \n",
    "    '''Training computation'''\n",
    "    \n",
    "    # Hidden RELU layer 1\n",
    "    logits_1 = tf.matmul(tf_train_dataset, weights_1) + biases_1\n",
    "    hidden_layer_1 = tf.nn.relu(logits_1)\n",
    "    # Dropout on hidden layer: RELU layer\n",
    "    keep_prob = tf.placeholder(\"float\")\n",
    "    hidden_layer_1_dropout = tf.nn.dropout(hidden_layer_1, keep_prob)\n",
    "    \n",
    "    \n",
    "    # Hidden RELU layer 2\n",
    "    logits_2 = tf.matmul(hidden_layer_1_dropout, weights_2) + biases_2\n",
    "    hidden_layer_2 = tf.nn.relu(logits_2)\n",
    "    # Dropout on hidden layer: RELU layer\n",
    "    hidden_layer_2_dropout = tf.nn.dropout(hidden_layer_2, keep_prob)\n",
    "    \n",
    "    # Hidden RELU layer 3\n",
    "    logits_3 = tf.matmul(hidden_layer_2_dropout, weights_3) + biases_3\n",
    "    hidden_layer_3 = tf.nn.relu(logits_3)\n",
    "    # Dropout on hidden layer: RELU layer\n",
    "    hidden_layer_3_dropout = tf.nn.dropout(hidden_layer_3, keep_prob)\n",
    "    \n",
    "    # Hidden RELU layer 4\n",
    "    logits_4 = tf.matmul(hidden_layer_3_dropout, weights_4) + biases_4\n",
    "    hidden_layer_4 = tf.nn.relu(logits_4)\n",
    "    # Dropout on hidden layer: RELU layer\n",
    "\n",
    "    hidden_layer_4_dropout = tf.nn.dropout(hidden_layer_4, keep_prob)\n",
    "    \n",
    "    # Hidden RELU layer 5\n",
    "    logits_5 = tf.matmul(hidden_layer_4_dropout, weights_5) + biases_5\n",
    "    hidden_layer_5 = tf.nn.relu(logits_5)\n",
    "    # Dropout on hidden layer: RELU layer\n",
    "    hidden_layer_5_dropout = tf.nn.dropout(hidden_layer_5, keep_prob)\n",
    "    \n",
    "    # Output layer\n",
    "    logits_6 = tf.matmul(hidden_layer_5_dropout, weights_6) + biases_6 \n",
    "    \n",
    "    # Normal loss function\n",
    "    loss = tf.reduce_mean(tf.nn.softmax_cross_entropy_with_logits(logits = logits_6, labels=tf_train_labels))\n",
    "    # Loss function with L2 Regularization with decaying learning rate beta=0.5\n",
    "    regularizers = tf.nn.l2_loss(weights_1) + tf.nn.l2_loss(weights_2) + \\\n",
    "                   tf.nn.l2_loss(weights_3) + tf.nn.l2_loss(weights_4) + \\\n",
    "                   tf.nn.l2_loss(weights_5) + tf.nn.l2_loss(weights_6)\n",
    "    loss = tf.reduce_mean(loss + beta * regularizers)\n",
    "\n",
    "    '''Optimizer'''\n",
    "    # Decaying learning rate\n",
    "    global_step = tf.Variable(0)  # count the number of steps taken.\n",
    "    start_learning_rate = 0.4\n",
    "    learning_rate = tf.train.exponential_decay(start_learning_rate, global_step, 100000, 0.96, staircase=True)\n",
    "    optimizer = tf.train.GradientDescentOptimizer(learning_rate).minimize(loss, global_step=global_step)\n",
    "    \n",
    "    # Predictions for the training\n",
    "    train_prediction = tf.nn.softmax(logits_6)\n",
    "    \n",
    "    # Predictions for validation \n",
    "    valid_logits_1 = tf.matmul(tf_valid_dataset, weights_1) + biases_1\n",
    "    valid_relu_1 = tf.nn.relu(valid_logits_1)\n",
    "    \n",
    "    valid_logits_2 = tf.matmul(valid_relu_1, weights_2) + biases_2\n",
    "    valid_relu_2 = tf.nn.relu(valid_logits_2)\n",
    "    \n",
    "    valid_logits_3 = tf.matmul(valid_relu_2, weights_3) + biases_3\n",
    "    valid_relu_3 = tf.nn.relu(valid_logits_3)\n",
    "    \n",
    "    valid_logits_4 = tf.matmul(valid_relu_3, weights_4) + biases_4\n",
    "    valid_relu_4 = tf.nn.relu(valid_logits_4)\n",
    "    \n",
    "    valid_logits_5 = tf.matmul(valid_relu_4, weights_5) + biases_5\n",
    "    valid_relu_5 = tf.nn.relu(valid_logits_5)\n",
    "    \n",
    "    valid_logits_6 = tf.matmul(valid_relu_5, weights_6) + biases_6\n",
    "    \n",
    "    valid_prediction = tf.nn.softmax(valid_logits_6)\n",
    "    \n",
    "    # Predictions for test\n",
    "    test_logits_1 = tf.matmul(tf_test_dataset, weights_1) + biases_1\n",
    "    test_relu_1 = tf.nn.relu(test_logits_1)\n",
    "    \n",
    "    test_logits_2 = tf.matmul(test_relu_1, weights_2) + biases_2\n",
    "    test_relu_2 = tf.nn.relu(test_logits_2)\n",
    "    \n",
    "    test_logits_3 = tf.matmul(test_relu_2, weights_3) + biases_3\n",
    "    test_relu_3 = tf.nn.relu(test_logits_3)\n",
    "    \n",
    "    test_logits_4 = tf.matmul(test_relu_3, weights_4) + biases_4\n",
    "    test_relu_4 = tf.nn.relu(test_logits_4)\n",
    "    \n",
    "    test_logits_5 = tf.matmul(test_relu_4, weights_5) + biases_5\n",
    "    test_relu_5 = tf.nn.relu(test_logits_5)\n",
    "    \n",
    "    test_logits_6 = tf.matmul(test_relu_5, weights_6) + biases_6\n",
    "    \n",
    "    test_prediction = tf.nn.softmax(test_logits_6)"
   ]
  },
  {
   "cell_type": "code",
   "execution_count": 70,
   "metadata": {},
   "outputs": [
    {
     "name": "stdout",
     "output_type": "stream",
     "text": [
      "Initialized\n",
      "Minibatch loss at step 0: 4.954370498657227\n",
      "Minibatch accuracy: 6.2\n",
      "Validation accuracy: 14.3\n",
      "Minibatch loss at step 500: 1.7593178749084473\n",
      "Minibatch accuracy: 82.0\n",
      "Validation accuracy: 82.5\n",
      "Minibatch loss at step 1000: 1.541361927986145\n",
      "Minibatch accuracy: 82.8\n",
      "Validation accuracy: 83.6\n",
      "Minibatch loss at step 1500: 1.0987293720245361\n",
      "Minibatch accuracy: 85.2\n",
      "Validation accuracy: 84.8\n",
      "Minibatch loss at step 2000: 1.0391836166381836\n",
      "Minibatch accuracy: 88.3\n",
      "Validation accuracy: 85.4\n",
      "Minibatch loss at step 2500: 1.0134289264678955\n",
      "Minibatch accuracy: 82.8\n",
      "Validation accuracy: 85.2\n",
      "Minibatch loss at step 3000: 0.9508388638496399\n",
      "Minibatch accuracy: 85.9\n",
      "Validation accuracy: 85.7\n",
      "Minibatch loss at step 3500: 0.9034290909767151\n",
      "Minibatch accuracy: 85.9\n",
      "Validation accuracy: 85.8\n",
      "Minibatch loss at step 4000: 0.7893441915512085\n",
      "Minibatch accuracy: 85.2\n",
      "Validation accuracy: 86.2\n",
      "Minibatch loss at step 4500: 0.7607222199440002\n",
      "Minibatch accuracy: 87.5\n",
      "Validation accuracy: 86.1\n",
      "Minibatch loss at step 5000: 0.7854821681976318\n",
      "Minibatch accuracy: 85.2\n",
      "Validation accuracy: 85.6\n",
      "Minibatch loss at step 5500: 0.994538426399231\n",
      "Minibatch accuracy: 77.3\n",
      "Validation accuracy: 86.1\n",
      "Minibatch loss at step 6000: 0.8193511366844177\n",
      "Minibatch accuracy: 82.8\n",
      "Validation accuracy: 86.1\n",
      "Minibatch loss at step 6500: 0.6372103691101074\n",
      "Minibatch accuracy: 88.3\n",
      "Validation accuracy: 86.3\n",
      "Minibatch loss at step 7000: 0.8624013066291809\n",
      "Minibatch accuracy: 80.5\n",
      "Validation accuracy: 86.5\n",
      "Minibatch loss at step 7500: 0.8701138496398926\n",
      "Minibatch accuracy: 79.7\n",
      "Validation accuracy: 86.5\n",
      "Minibatch loss at step 8000: 1.0807206630706787\n",
      "Minibatch accuracy: 75.0\n",
      "Validation accuracy: 86.4\n",
      "Minibatch loss at step 8500: 0.7280308604240417\n",
      "Minibatch accuracy: 85.9\n",
      "Validation accuracy: 86.3\n",
      "Minibatch loss at step 9000: 0.8520800471305847\n",
      "Minibatch accuracy: 82.8\n",
      "Validation accuracy: 86.9\n",
      "Minibatch loss at step 9500: 0.7712913155555725\n",
      "Minibatch accuracy: 85.9\n",
      "Validation accuracy: 86.5\n",
      "Minibatch loss at step 10000: 0.8352422118186951\n",
      "Minibatch accuracy: 82.0\n",
      "Validation accuracy: 86.8\n",
      "Minibatch loss at step 10500: 0.7216169834136963\n",
      "Minibatch accuracy: 85.9\n",
      "Validation accuracy: 86.8\n",
      "Minibatch loss at step 11000: 0.8203877210617065\n",
      "Minibatch accuracy: 85.9\n",
      "Validation accuracy: 86.8\n",
      "Minibatch loss at step 11500: 0.7766172885894775\n",
      "Minibatch accuracy: 85.2\n",
      "Validation accuracy: 86.5\n",
      "Minibatch loss at step 12000: 0.8309726715087891\n",
      "Minibatch accuracy: 79.7\n",
      "Validation accuracy: 86.4\n",
      "Minibatch loss at step 12500: 0.7348088622093201\n",
      "Minibatch accuracy: 85.9\n",
      "Validation accuracy: 86.1\n",
      "Minibatch loss at step 13000: 0.7327655553817749\n",
      "Minibatch accuracy: 84.4\n",
      "Validation accuracy: 86.5\n",
      "Minibatch loss at step 13500: 0.7846832275390625\n",
      "Minibatch accuracy: 83.6\n",
      "Validation accuracy: 86.9\n",
      "Minibatch loss at step 14000: 0.8793249130249023\n",
      "Minibatch accuracy: 81.2\n",
      "Validation accuracy: 87.2\n",
      "Minibatch loss at step 14500: 0.92099928855896\n",
      "Minibatch accuracy: 79.7\n",
      "Validation accuracy: 86.4\n",
      "Test accuracy: 93.4\n"
     ]
    }
   ],
   "source": [
    "num_steps = 15000\n",
    "\n",
    "with tf.Session(graph=graph) as session:\n",
    "    tf.initialize_all_variables().run()\n",
    "    print(\"Initialized\")\n",
    "    for step in range(num_steps):\n",
    "        # Pick an offset within the training data, which has been randomized.\n",
    "        # Note: we could use better randomization across epochs.\n",
    "        offset = (step * batch_size) % (train_labels.shape[0] - batch_size)\n",
    "        # Generate a minibatch.\n",
    "        batch_data = train_dataset[offset:(offset + batch_size), :]\n",
    "        batch_labels = train_labels[offset:(offset + batch_size), :]\n",
    "        # Prepare a dictionary telling the session where to feed the minibatch.\n",
    "        # The key of the dictionary is the placeholder node of the graph to be fed,\n",
    "        # and the value is the numpy array to feed to it.\n",
    "        feed_dict = {tf_train_dataset : batch_data, tf_train_labels : batch_labels, keep_prob : 0.5}\n",
    "        _, l, predictions = session.run([optimizer, loss, train_prediction], feed_dict=feed_dict)\n",
    "        if (step % 500 == 0):\n",
    "            print(\"Minibatch loss at step {}: {}\".format(step, l))\n",
    "            print(\"Minibatch accuracy: {:.1f}\".format(accuracy(predictions, batch_labels)))\n",
    "            print(\"Validation accuracy: {:.1f}\".format(accuracy(valid_prediction.eval(), valid_labels)))\n",
    "    print(\"Test accuracy: {:.1f}\".format(accuracy(test_prediction.eval(), test_labels)))"
   ]
  }
 ],
 "metadata": {
  "colab": {
   "default_view": {},
   "name": "3_regularization.ipynb",
   "provenance": [],
   "toc_visible": true,
   "version": "0.3.2",
   "views": {}
  },
  "kernelspec": {
   "display_name": "Python 3",
   "language": "python",
   "name": "python3"
  },
  "language_info": {
   "codemirror_mode": {
    "name": "ipython",
    "version": 3
   },
   "file_extension": ".py",
   "mimetype": "text/x-python",
   "name": "python",
   "nbconvert_exporter": "python",
   "pygments_lexer": "ipython3",
   "version": "3.6.2"
  }
 },
 "nbformat": 4,
 "nbformat_minor": 1
}
